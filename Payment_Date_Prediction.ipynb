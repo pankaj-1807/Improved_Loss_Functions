{
 "cells": [
  {
   "cell_type": "markdown",
   "id": "wcq6dWzy1ZR0",
   "metadata": {
    "id": "wcq6dWzy1ZR0"
   },
   "source": [
    "# Payment Date Prediction "
   ]
  },
  {
   "cell_type": "markdown",
   "id": "2778654e",
   "metadata": {
    "id": "2778654e"
   },
   "source": [
    "\n",
    "### Importing related Libraries "
   ]
  },
  {
   "cell_type": "code",
   "execution_count": 1,
   "id": "f72c1459",
   "metadata": {},
   "outputs": [],
   "source": [
    "# pip install tensorflow"
   ]
  },
  {
   "cell_type": "code",
   "execution_count": 2,
   "id": "304c9e38",
   "metadata": {
    "id": "304c9e38"
   },
   "outputs": [],
   "source": [
    "import numpy as np\n",
    "import pandas as pd\n",
    "\n",
    "import matplotlib.pyplot as plt\n",
    "%matplotlib inline\n",
    "import seaborn as sns\n",
    "\n",
    "from sklearn.model_selection import train_test_split\n",
    "from sklearn.feature_selection import VarianceThreshold\n",
    "import warnings\n",
    "warnings.filterwarnings(\"ignore\")\n",
    "\n",
    "from sklearn.metrics import mean_squared_error\n",
    "from sklearn.metrics import r2_score\n",
    "\n",
    "from currency_converter import CurrencyConverter\n",
    "\n",
    "import tensorflow as tf"
   ]
  },
  {
   "cell_type": "markdown",
   "id": "8724f5ee",
   "metadata": {
    "id": "8724f5ee"
   },
   "source": [
    "### Storing the dataset into the Dataframe\n"
   ]
  },
  {
   "cell_type": "code",
   "execution_count": 3,
   "id": "415db50a",
   "metadata": {
    "id": "415db50a"
   },
   "outputs": [],
   "source": [
    "df=pd.read_csv('dataset.csv')"
   ]
  },
  {
   "cell_type": "markdown",
   "id": "42e37f05",
   "metadata": {
    "id": "42e37f05"
   },
   "source": [
    "### Shape of the dataframe\n"
   ]
  },
  {
   "cell_type": "code",
   "execution_count": 4,
   "id": "27cc0907",
   "metadata": {
    "id": "27cc0907"
   },
   "outputs": [
    {
     "data": {
      "text/plain": [
       "(50099, 19)"
      ]
     },
     "execution_count": 4,
     "metadata": {},
     "output_type": "execute_result"
    }
   ],
   "source": [
    "df.shape"
   ]
  },
  {
   "cell_type": "markdown",
   "id": "b68c955d",
   "metadata": {
    "id": "b68c955d"
   },
   "source": [
    "###  Detailed information of the dataframe"
   ]
  },
  {
   "cell_type": "code",
   "execution_count": 5,
   "id": "e092ec9e",
   "metadata": {
    "id": "e092ec9e"
   },
   "outputs": [
    {
     "name": "stdout",
     "output_type": "stream",
     "text": [
      "<class 'pandas.core.frame.DataFrame'>\n",
      "RangeIndex: 50099 entries, 0 to 50098\n",
      "Data columns (total 19 columns):\n",
      " #   Column                  Non-Null Count  Dtype  \n",
      "---  ------                  --------------  -----  \n",
      " 0   business_code           50099 non-null  object \n",
      " 1   cust_number             50099 non-null  object \n",
      " 2   name_customer           50099 non-null  object \n",
      " 3   clear_date              40000 non-null  object \n",
      " 4   buisness_year           50099 non-null  int64  \n",
      " 5   doc_id                  50099 non-null  int64  \n",
      " 6   posting_date            50099 non-null  object \n",
      " 7   document_create_date    50099 non-null  int64  \n",
      " 8   document_create_date.1  50099 non-null  int64  \n",
      " 9   due_in_date             50099 non-null  int64  \n",
      " 10  invoice_currency        50099 non-null  object \n",
      " 11  document type           50099 non-null  object \n",
      " 12  posting_id              50099 non-null  int64  \n",
      " 13  area_business           0 non-null      float64\n",
      " 14  total_open_amount       50099 non-null  float64\n",
      " 15  baseline_create_date    50099 non-null  int64  \n",
      " 16  cust_payment_terms      50099 non-null  object \n",
      " 17  invoice_id              50093 non-null  float64\n",
      " 18  isOpen                  50099 non-null  int64  \n",
      "dtypes: float64(3), int64(8), object(8)\n",
      "memory usage: 7.3+ MB\n"
     ]
    }
   ],
   "source": [
    "df.info()"
   ]
  },
  {
   "cell_type": "markdown",
   "id": "112f2d0e",
   "metadata": {
    "id": "112f2d0e"
   },
   "source": [
    "### All Column Names"
   ]
  },
  {
   "cell_type": "code",
   "execution_count": 6,
   "id": "ee512eb1",
   "metadata": {
    "id": "1416e2fd"
   },
   "outputs": [
    {
     "data": {
      "text/plain": [
       "Index(['business_code', 'cust_number', 'name_customer', 'clear_date',\n",
       "       'buisness_year', 'doc_id', 'posting_date', 'document_create_date',\n",
       "       'document_create_date.1', 'due_in_date', 'invoice_currency',\n",
       "       'document type', 'posting_id', 'area_business', 'total_open_amount',\n",
       "       'baseline_create_date', 'cust_payment_terms', 'invoice_id', 'isOpen'],\n",
       "      dtype='object')"
      ]
     },
     "execution_count": 6,
     "metadata": {},
     "output_type": "execute_result"
    }
   ],
   "source": [
    "df.columns"
   ]
  },
  {
   "cell_type": "markdown",
   "id": "d465ed7a",
   "metadata": {
    "id": "d465ed7a"
   },
   "source": [
    "### Description of the entire dataset"
   ]
  },
  {
   "cell_type": "code",
   "execution_count": 7,
   "id": "25f65e1b",
   "metadata": {
    "id": "25f65e1b"
   },
   "outputs": [
    {
     "data": {
      "text/html": [
       "<div>\n",
       "<style scoped>\n",
       "    .dataframe tbody tr th:only-of-type {\n",
       "        vertical-align: middle;\n",
       "    }\n",
       "\n",
       "    .dataframe tbody tr th {\n",
       "        vertical-align: top;\n",
       "    }\n",
       "\n",
       "    .dataframe thead th {\n",
       "        text-align: right;\n",
       "    }\n",
       "</style>\n",
       "<table border=\"1\" class=\"dataframe\">\n",
       "  <thead>\n",
       "    <tr style=\"text-align: right;\">\n",
       "      <th></th>\n",
       "      <th>buisness_year</th>\n",
       "      <th>doc_id</th>\n",
       "      <th>document_create_date</th>\n",
       "      <th>document_create_date.1</th>\n",
       "      <th>due_in_date</th>\n",
       "      <th>posting_id</th>\n",
       "      <th>area_business</th>\n",
       "      <th>total_open_amount</th>\n",
       "      <th>baseline_create_date</th>\n",
       "      <th>invoice_id</th>\n",
       "      <th>isOpen</th>\n",
       "    </tr>\n",
       "  </thead>\n",
       "  <tbody>\n",
       "    <tr>\n",
       "      <th>count</th>\n",
       "      <td>50099.000000</td>\n",
       "      <td>5.009900e+04</td>\n",
       "      <td>5.009900e+04</td>\n",
       "      <td>5.009900e+04</td>\n",
       "      <td>5.009900e+04</td>\n",
       "      <td>50099.0</td>\n",
       "      <td>0.0</td>\n",
       "      <td>50099.000000</td>\n",
       "      <td>5.009900e+04</td>\n",
       "      <td>5.009300e+04</td>\n",
       "      <td>50099.000000</td>\n",
       "    </tr>\n",
       "    <tr>\n",
       "      <th>mean</th>\n",
       "      <td>2019.307072</td>\n",
       "      <td>2.014112e+09</td>\n",
       "      <td>2.019353e+07</td>\n",
       "      <td>2.019355e+07</td>\n",
       "      <td>2.019369e+07</td>\n",
       "      <td>1.0</td>\n",
       "      <td>NaN</td>\n",
       "      <td>32456.565546</td>\n",
       "      <td>2.019355e+07</td>\n",
       "      <td>2.013216e+09</td>\n",
       "      <td>0.201581</td>\n",
       "    </tr>\n",
       "    <tr>\n",
       "      <th>std</th>\n",
       "      <td>0.461284</td>\n",
       "      <td>2.912992e+08</td>\n",
       "      <td>4.501712e+03</td>\n",
       "      <td>4.487779e+03</td>\n",
       "      <td>4.475909e+03</td>\n",
       "      <td>0.0</td>\n",
       "      <td>NaN</td>\n",
       "      <td>39259.249400</td>\n",
       "      <td>4.488339e+03</td>\n",
       "      <td>2.795573e+08</td>\n",
       "      <td>0.401185</td>\n",
       "    </tr>\n",
       "    <tr>\n",
       "      <th>min</th>\n",
       "      <td>2019.000000</td>\n",
       "      <td>1.928502e+09</td>\n",
       "      <td>2.018123e+07</td>\n",
       "      <td>2.018123e+07</td>\n",
       "      <td>2.018122e+07</td>\n",
       "      <td>1.0</td>\n",
       "      <td>NaN</td>\n",
       "      <td>0.720000</td>\n",
       "      <td>2.018121e+07</td>\n",
       "      <td>1.928502e+09</td>\n",
       "      <td>0.000000</td>\n",
       "    </tr>\n",
       "    <tr>\n",
       "      <th>25%</th>\n",
       "      <td>2019.000000</td>\n",
       "      <td>1.929343e+09</td>\n",
       "      <td>2.019051e+07</td>\n",
       "      <td>2.019051e+07</td>\n",
       "      <td>2.019052e+07</td>\n",
       "      <td>1.0</td>\n",
       "      <td>NaN</td>\n",
       "      <td>4943.480000</td>\n",
       "      <td>2.019051e+07</td>\n",
       "      <td>1.929343e+09</td>\n",
       "      <td>0.000000</td>\n",
       "    </tr>\n",
       "    <tr>\n",
       "      <th>50%</th>\n",
       "      <td>2019.000000</td>\n",
       "      <td>1.929968e+09</td>\n",
       "      <td>2.019091e+07</td>\n",
       "      <td>2.019091e+07</td>\n",
       "      <td>2.019093e+07</td>\n",
       "      <td>1.0</td>\n",
       "      <td>NaN</td>\n",
       "      <td>17700.000000</td>\n",
       "      <td>2.019091e+07</td>\n",
       "      <td>1.929968e+09</td>\n",
       "      <td>0.000000</td>\n",
       "    </tr>\n",
       "    <tr>\n",
       "      <th>75%</th>\n",
       "      <td>2020.000000</td>\n",
       "      <td>1.930621e+09</td>\n",
       "      <td>2.020013e+07</td>\n",
       "      <td>2.020013e+07</td>\n",
       "      <td>2.020022e+07</td>\n",
       "      <td>1.0</td>\n",
       "      <td>NaN</td>\n",
       "      <td>47385.590000</td>\n",
       "      <td>2.020013e+07</td>\n",
       "      <td>1.930621e+09</td>\n",
       "      <td>0.000000</td>\n",
       "    </tr>\n",
       "    <tr>\n",
       "      <th>max</th>\n",
       "      <td>2020.000000</td>\n",
       "      <td>9.500000e+09</td>\n",
       "      <td>2.020052e+07</td>\n",
       "      <td>2.020052e+07</td>\n",
       "      <td>2.020071e+07</td>\n",
       "      <td>1.0</td>\n",
       "      <td>NaN</td>\n",
       "      <td>668593.360000</td>\n",
       "      <td>2.020052e+07</td>\n",
       "      <td>2.960636e+09</td>\n",
       "      <td>1.000000</td>\n",
       "    </tr>\n",
       "  </tbody>\n",
       "</table>\n",
       "</div>"
      ],
      "text/plain": [
       "       buisness_year        doc_id  document_create_date  \\\n",
       "count   50099.000000  5.009900e+04          5.009900e+04   \n",
       "mean     2019.307072  2.014112e+09          2.019353e+07   \n",
       "std         0.461284  2.912992e+08          4.501712e+03   \n",
       "min      2019.000000  1.928502e+09          2.018123e+07   \n",
       "25%      2019.000000  1.929343e+09          2.019051e+07   \n",
       "50%      2019.000000  1.929968e+09          2.019091e+07   \n",
       "75%      2020.000000  1.930621e+09          2.020013e+07   \n",
       "max      2020.000000  9.500000e+09          2.020052e+07   \n",
       "\n",
       "       document_create_date.1   due_in_date  posting_id  area_business  \\\n",
       "count            5.009900e+04  5.009900e+04     50099.0            0.0   \n",
       "mean             2.019355e+07  2.019369e+07         1.0            NaN   \n",
       "std              4.487779e+03  4.475909e+03         0.0            NaN   \n",
       "min              2.018123e+07  2.018122e+07         1.0            NaN   \n",
       "25%              2.019051e+07  2.019052e+07         1.0            NaN   \n",
       "50%              2.019091e+07  2.019093e+07         1.0            NaN   \n",
       "75%              2.020013e+07  2.020022e+07         1.0            NaN   \n",
       "max              2.020052e+07  2.020071e+07         1.0            NaN   \n",
       "\n",
       "       total_open_amount  baseline_create_date    invoice_id        isOpen  \n",
       "count       50099.000000          5.009900e+04  5.009300e+04  50099.000000  \n",
       "mean        32456.565546          2.019355e+07  2.013216e+09      0.201581  \n",
       "std         39259.249400          4.488339e+03  2.795573e+08      0.401185  \n",
       "min             0.720000          2.018121e+07  1.928502e+09      0.000000  \n",
       "25%          4943.480000          2.019051e+07  1.929343e+09      0.000000  \n",
       "50%         17700.000000          2.019091e+07  1.929968e+09      0.000000  \n",
       "75%         47385.590000          2.020013e+07  1.930621e+09      0.000000  \n",
       "max        668593.360000          2.020052e+07  2.960636e+09      1.000000  "
      ]
     },
     "execution_count": 7,
     "metadata": {},
     "output_type": "execute_result"
    }
   ],
   "source": [
    "df.describe()"
   ]
  },
  {
   "cell_type": "markdown",
   "id": "0f2c8d02",
   "metadata": {
    "id": "0f2c8d02"
   },
   "source": [
    "# Data Cleaning\n",
    "\n",
    "- Displaying top 5 records from the dataset"
   ]
  },
  {
   "cell_type": "code",
   "execution_count": 8,
   "id": "8f876212",
   "metadata": {
    "id": "8f876212"
   },
   "outputs": [
    {
     "data": {
      "text/html": [
       "<div>\n",
       "<style scoped>\n",
       "    .dataframe tbody tr th:only-of-type {\n",
       "        vertical-align: middle;\n",
       "    }\n",
       "\n",
       "    .dataframe tbody tr th {\n",
       "        vertical-align: top;\n",
       "    }\n",
       "\n",
       "    .dataframe thead th {\n",
       "        text-align: right;\n",
       "    }\n",
       "</style>\n",
       "<table border=\"1\" class=\"dataframe\">\n",
       "  <thead>\n",
       "    <tr style=\"text-align: right;\">\n",
       "      <th></th>\n",
       "      <th>business_code</th>\n",
       "      <th>cust_number</th>\n",
       "      <th>name_customer</th>\n",
       "      <th>clear_date</th>\n",
       "      <th>buisness_year</th>\n",
       "      <th>doc_id</th>\n",
       "      <th>posting_date</th>\n",
       "      <th>document_create_date</th>\n",
       "      <th>document_create_date.1</th>\n",
       "      <th>due_in_date</th>\n",
       "      <th>invoice_currency</th>\n",
       "      <th>document type</th>\n",
       "      <th>posting_id</th>\n",
       "      <th>area_business</th>\n",
       "      <th>total_open_amount</th>\n",
       "      <th>baseline_create_date</th>\n",
       "      <th>cust_payment_terms</th>\n",
       "      <th>invoice_id</th>\n",
       "      <th>isOpen</th>\n",
       "    </tr>\n",
       "  </thead>\n",
       "  <tbody>\n",
       "    <tr>\n",
       "      <th>0</th>\n",
       "      <td>U001</td>\n",
       "      <td>200769623</td>\n",
       "      <td>WAL-MAR corp</td>\n",
       "      <td>11-02-2020 00:00</td>\n",
       "      <td>2020</td>\n",
       "      <td>1930438491</td>\n",
       "      <td>26-01-2020</td>\n",
       "      <td>20200125</td>\n",
       "      <td>20200126</td>\n",
       "      <td>20200210</td>\n",
       "      <td>USD</td>\n",
       "      <td>RV</td>\n",
       "      <td>1</td>\n",
       "      <td>NaN</td>\n",
       "      <td>54273.28</td>\n",
       "      <td>20200126</td>\n",
       "      <td>NAH4</td>\n",
       "      <td>1.930438e+09</td>\n",
       "      <td>0</td>\n",
       "    </tr>\n",
       "    <tr>\n",
       "      <th>1</th>\n",
       "      <td>U001</td>\n",
       "      <td>200980828</td>\n",
       "      <td>BEN E</td>\n",
       "      <td>08-08-2019 00:00</td>\n",
       "      <td>2019</td>\n",
       "      <td>1929646410</td>\n",
       "      <td>22-07-2019</td>\n",
       "      <td>20190722</td>\n",
       "      <td>20190722</td>\n",
       "      <td>20190811</td>\n",
       "      <td>USD</td>\n",
       "      <td>RV</td>\n",
       "      <td>1</td>\n",
       "      <td>NaN</td>\n",
       "      <td>79656.60</td>\n",
       "      <td>20190722</td>\n",
       "      <td>NAD1</td>\n",
       "      <td>1.929646e+09</td>\n",
       "      <td>0</td>\n",
       "    </tr>\n",
       "    <tr>\n",
       "      <th>2</th>\n",
       "      <td>U001</td>\n",
       "      <td>200792734</td>\n",
       "      <td>MDV/ trust</td>\n",
       "      <td>30-12-2019 00:00</td>\n",
       "      <td>2019</td>\n",
       "      <td>1929873765</td>\n",
       "      <td>14-09-2019</td>\n",
       "      <td>20190914</td>\n",
       "      <td>20190914</td>\n",
       "      <td>20190929</td>\n",
       "      <td>USD</td>\n",
       "      <td>RV</td>\n",
       "      <td>1</td>\n",
       "      <td>NaN</td>\n",
       "      <td>2253.86</td>\n",
       "      <td>20190914</td>\n",
       "      <td>NAA8</td>\n",
       "      <td>1.929874e+09</td>\n",
       "      <td>0</td>\n",
       "    </tr>\n",
       "    <tr>\n",
       "      <th>3</th>\n",
       "      <td>CA02</td>\n",
       "      <td>140105686</td>\n",
       "      <td>SYSC llc</td>\n",
       "      <td>NaN</td>\n",
       "      <td>2020</td>\n",
       "      <td>2960623488</td>\n",
       "      <td>30-03-2020</td>\n",
       "      <td>20200330</td>\n",
       "      <td>20200330</td>\n",
       "      <td>20200410</td>\n",
       "      <td>CAD</td>\n",
       "      <td>RV</td>\n",
       "      <td>1</td>\n",
       "      <td>NaN</td>\n",
       "      <td>3299.70</td>\n",
       "      <td>20200331</td>\n",
       "      <td>CA10</td>\n",
       "      <td>2.960623e+09</td>\n",
       "      <td>1</td>\n",
       "    </tr>\n",
       "    <tr>\n",
       "      <th>4</th>\n",
       "      <td>U001</td>\n",
       "      <td>200769623</td>\n",
       "      <td>WAL-MAR foundation</td>\n",
       "      <td>25-11-2019 00:00</td>\n",
       "      <td>2019</td>\n",
       "      <td>1930147974</td>\n",
       "      <td>13-11-2019</td>\n",
       "      <td>20191113</td>\n",
       "      <td>20191113</td>\n",
       "      <td>20191128</td>\n",
       "      <td>USD</td>\n",
       "      <td>RV</td>\n",
       "      <td>1</td>\n",
       "      <td>NaN</td>\n",
       "      <td>33133.29</td>\n",
       "      <td>20191113</td>\n",
       "      <td>NAH4</td>\n",
       "      <td>1.930148e+09</td>\n",
       "      <td>0</td>\n",
       "    </tr>\n",
       "  </tbody>\n",
       "</table>\n",
       "</div>"
      ],
      "text/plain": [
       "  business_code cust_number       name_customer        clear_date  \\\n",
       "0          U001   200769623        WAL-MAR corp  11-02-2020 00:00   \n",
       "1          U001   200980828              BEN E   08-08-2019 00:00   \n",
       "2          U001   200792734          MDV/ trust  30-12-2019 00:00   \n",
       "3          CA02   140105686            SYSC llc               NaN   \n",
       "4          U001   200769623  WAL-MAR foundation  25-11-2019 00:00   \n",
       "\n",
       "   buisness_year      doc_id posting_date  document_create_date  \\\n",
       "0           2020  1930438491   26-01-2020              20200125   \n",
       "1           2019  1929646410   22-07-2019              20190722   \n",
       "2           2019  1929873765   14-09-2019              20190914   \n",
       "3           2020  2960623488   30-03-2020              20200330   \n",
       "4           2019  1930147974   13-11-2019              20191113   \n",
       "\n",
       "   document_create_date.1  due_in_date invoice_currency document type  \\\n",
       "0                20200126     20200210              USD            RV   \n",
       "1                20190722     20190811              USD            RV   \n",
       "2                20190914     20190929              USD            RV   \n",
       "3                20200330     20200410              CAD            RV   \n",
       "4                20191113     20191128              USD            RV   \n",
       "\n",
       "   posting_id  area_business  total_open_amount  baseline_create_date  \\\n",
       "0           1            NaN           54273.28              20200126   \n",
       "1           1            NaN           79656.60              20190722   \n",
       "2           1            NaN            2253.86              20190914   \n",
       "3           1            NaN            3299.70              20200331   \n",
       "4           1            NaN           33133.29              20191113   \n",
       "\n",
       "  cust_payment_terms    invoice_id  isOpen  \n",
       "0               NAH4  1.930438e+09       0  \n",
       "1               NAD1  1.929646e+09       0  \n",
       "2               NAA8  1.929874e+09       0  \n",
       "3               CA10  2.960623e+09       1  \n",
       "4               NAH4  1.930148e+09       0  "
      ]
     },
     "execution_count": 8,
     "metadata": {},
     "output_type": "execute_result"
    }
   ],
   "source": [
    "df[:5]"
   ]
  },
  {
   "cell_type": "markdown",
   "id": "92b044e4",
   "metadata": {
    "id": "92b044e4"
   },
   "source": [
    "### Displaying the Null values percentage against every columns (comparison to the total number of records)\n",
    "\n",
    "- Observed Output : area_business - 100% null, clear_data = 20% null, invoice_id = 0.12% null"
   ]
  },
  {
   "cell_type": "code",
   "execution_count": 9,
   "id": "24c7b13d",
   "metadata": {
    "id": "24c7b13d"
   },
   "outputs": [
    {
     "data": {
      "text/plain": [
       "business_code               0.000000\n",
       "cust_number                 0.000000\n",
       "name_customer               0.000000\n",
       "clear_date                 20.158087\n",
       "buisness_year               0.000000\n",
       "doc_id                      0.000000\n",
       "posting_date                0.000000\n",
       "document_create_date        0.000000\n",
       "document_create_date.1      0.000000\n",
       "due_in_date                 0.000000\n",
       "invoice_currency            0.000000\n",
       "document type               0.000000\n",
       "posting_id                  0.000000\n",
       "area_business             100.000000\n",
       "total_open_amount           0.000000\n",
       "baseline_create_date        0.000000\n",
       "cust_payment_terms          0.000000\n",
       "invoice_id                  0.011976\n",
       "isOpen                      0.000000\n",
       "dtype: float64"
      ]
     },
     "execution_count": 9,
     "metadata": {},
     "output_type": "execute_result"
    }
   ],
   "source": [
    "df.isnull().mean()*100"
   ]
  },
  {
   "cell_type": "markdown",
   "id": "2c46a98b",
   "metadata": {
    "id": "2c46a98b"
   },
   "source": [
    "### Displaying Invoice_id and Doc_Id\n",
    "\n",
    "- Observation - Many of the would have same invoice_id and doc_id\n"
   ]
  },
  {
   "cell_type": "code",
   "execution_count": 10,
   "id": "038f24bb",
   "metadata": {
    "id": "038f24bb"
   },
   "outputs": [
    {
     "data": {
      "text/html": [
       "<div>\n",
       "<style scoped>\n",
       "    .dataframe tbody tr th:only-of-type {\n",
       "        vertical-align: middle;\n",
       "    }\n",
       "\n",
       "    .dataframe tbody tr th {\n",
       "        vertical-align: top;\n",
       "    }\n",
       "\n",
       "    .dataframe thead th {\n",
       "        text-align: right;\n",
       "    }\n",
       "</style>\n",
       "<table border=\"1\" class=\"dataframe\">\n",
       "  <thead>\n",
       "    <tr style=\"text-align: right;\">\n",
       "      <th></th>\n",
       "      <th>invoice_id</th>\n",
       "      <th>doc_id</th>\n",
       "    </tr>\n",
       "  </thead>\n",
       "  <tbody>\n",
       "    <tr>\n",
       "      <th>0</th>\n",
       "      <td>1.930438e+09</td>\n",
       "      <td>1930438491</td>\n",
       "    </tr>\n",
       "    <tr>\n",
       "      <th>1</th>\n",
       "      <td>1.929646e+09</td>\n",
       "      <td>1929646410</td>\n",
       "    </tr>\n",
       "    <tr>\n",
       "      <th>2</th>\n",
       "      <td>1.929874e+09</td>\n",
       "      <td>1929873765</td>\n",
       "    </tr>\n",
       "    <tr>\n",
       "      <th>3</th>\n",
       "      <td>2.960623e+09</td>\n",
       "      <td>2960623488</td>\n",
       "    </tr>\n",
       "    <tr>\n",
       "      <th>4</th>\n",
       "      <td>1.930148e+09</td>\n",
       "      <td>1930147974</td>\n",
       "    </tr>\n",
       "    <tr>\n",
       "      <th>...</th>\n",
       "      <td>...</td>\n",
       "      <td>...</td>\n",
       "    </tr>\n",
       "    <tr>\n",
       "      <th>50094</th>\n",
       "      <td>2.960619e+09</td>\n",
       "      <td>2960618884</td>\n",
       "    </tr>\n",
       "    <tr>\n",
       "      <th>50095</th>\n",
       "      <td>2.960619e+09</td>\n",
       "      <td>2960618885</td>\n",
       "    </tr>\n",
       "    <tr>\n",
       "      <th>50096</th>\n",
       "      <td>2.960619e+09</td>\n",
       "      <td>2960618886</td>\n",
       "    </tr>\n",
       "    <tr>\n",
       "      <th>50097</th>\n",
       "      <td>2.960619e+09</td>\n",
       "      <td>2960618887</td>\n",
       "    </tr>\n",
       "    <tr>\n",
       "      <th>50098</th>\n",
       "      <td>2.960619e+09</td>\n",
       "      <td>2960618888</td>\n",
       "    </tr>\n",
       "  </tbody>\n",
       "</table>\n",
       "<p>50099 rows × 2 columns</p>\n",
       "</div>"
      ],
      "text/plain": [
       "         invoice_id      doc_id\n",
       "0      1.930438e+09  1930438491\n",
       "1      1.929646e+09  1929646410\n",
       "2      1.929874e+09  1929873765\n",
       "3      2.960623e+09  2960623488\n",
       "4      1.930148e+09  1930147974\n",
       "...             ...         ...\n",
       "50094  2.960619e+09  2960618884\n",
       "50095  2.960619e+09  2960618885\n",
       "50096  2.960619e+09  2960618886\n",
       "50097  2.960619e+09  2960618887\n",
       "50098  2.960619e+09  2960618888\n",
       "\n",
       "[50099 rows x 2 columns]"
      ]
     },
     "execution_count": 10,
     "metadata": {},
     "output_type": "execute_result"
    }
   ],
   "source": [
    "df[['invoice_id','doc_id']]"
   ]
  },
  {
   "cell_type": "markdown",
   "id": "18cfe10a",
   "metadata": {
    "id": "18cfe10a"
   },
   "source": [
    "#### Code to check - 'baseline_create_date',\"document_create_date\",'document_create_date.1' - these columns are almost same.\n",
    "\n",
    "- Please note, if they are same, we need to drop them later\n",
    "\n"
   ]
  },
  {
   "cell_type": "code",
   "execution_count": 11,
   "id": "63631ba7",
   "metadata": {
    "id": "cf5b40ff"
   },
   "outputs": [
    {
     "data": {
      "text/html": [
       "<div>\n",
       "<style scoped>\n",
       "    .dataframe tbody tr th:only-of-type {\n",
       "        vertical-align: middle;\n",
       "    }\n",
       "\n",
       "    .dataframe tbody tr th {\n",
       "        vertical-align: top;\n",
       "    }\n",
       "\n",
       "    .dataframe thead th {\n",
       "        text-align: right;\n",
       "    }\n",
       "</style>\n",
       "<table border=\"1\" class=\"dataframe\">\n",
       "  <thead>\n",
       "    <tr style=\"text-align: right;\">\n",
       "      <th></th>\n",
       "      <th>baseline_create_date</th>\n",
       "      <th>document_create_date</th>\n",
       "      <th>document_create_date.1</th>\n",
       "    </tr>\n",
       "  </thead>\n",
       "  <tbody>\n",
       "    <tr>\n",
       "      <th>0</th>\n",
       "      <td>20200126</td>\n",
       "      <td>20200125</td>\n",
       "      <td>20200126</td>\n",
       "    </tr>\n",
       "    <tr>\n",
       "      <th>1</th>\n",
       "      <td>20190722</td>\n",
       "      <td>20190722</td>\n",
       "      <td>20190722</td>\n",
       "    </tr>\n",
       "    <tr>\n",
       "      <th>2</th>\n",
       "      <td>20190914</td>\n",
       "      <td>20190914</td>\n",
       "      <td>20190914</td>\n",
       "    </tr>\n",
       "    <tr>\n",
       "      <th>3</th>\n",
       "      <td>20200331</td>\n",
       "      <td>20200330</td>\n",
       "      <td>20200330</td>\n",
       "    </tr>\n",
       "    <tr>\n",
       "      <th>4</th>\n",
       "      <td>20191113</td>\n",
       "      <td>20191113</td>\n",
       "      <td>20191113</td>\n",
       "    </tr>\n",
       "    <tr>\n",
       "      <th>...</th>\n",
       "      <td>...</td>\n",
       "      <td>...</td>\n",
       "      <td>...</td>\n",
       "    </tr>\n",
       "    <tr>\n",
       "      <th>50094</th>\n",
       "      <td>20200306</td>\n",
       "      <td>20200306</td>\n",
       "      <td>20200306</td>\n",
       "    </tr>\n",
       "    <tr>\n",
       "      <th>50095</th>\n",
       "      <td>20200306</td>\n",
       "      <td>20200306</td>\n",
       "      <td>20200306</td>\n",
       "    </tr>\n",
       "    <tr>\n",
       "      <th>50096</th>\n",
       "      <td>20200306</td>\n",
       "      <td>20200306</td>\n",
       "      <td>20200306</td>\n",
       "    </tr>\n",
       "    <tr>\n",
       "      <th>50097</th>\n",
       "      <td>20200306</td>\n",
       "      <td>20200306</td>\n",
       "      <td>20200306</td>\n",
       "    </tr>\n",
       "    <tr>\n",
       "      <th>50098</th>\n",
       "      <td>20200306</td>\n",
       "      <td>20200306</td>\n",
       "      <td>20200306</td>\n",
       "    </tr>\n",
       "  </tbody>\n",
       "</table>\n",
       "<p>50099 rows × 3 columns</p>\n",
       "</div>"
      ],
      "text/plain": [
       "       baseline_create_date  document_create_date  document_create_date.1\n",
       "0                  20200126              20200125                20200126\n",
       "1                  20190722              20190722                20190722\n",
       "2                  20190914              20190914                20190914\n",
       "3                  20200331              20200330                20200330\n",
       "4                  20191113              20191113                20191113\n",
       "...                     ...                   ...                     ...\n",
       "50094              20200306              20200306                20200306\n",
       "50095              20200306              20200306                20200306\n",
       "50096              20200306              20200306                20200306\n",
       "50097              20200306              20200306                20200306\n",
       "50098              20200306              20200306                20200306\n",
       "\n",
       "[50099 rows x 3 columns]"
      ]
     },
     "execution_count": 11,
     "metadata": {},
     "output_type": "execute_result"
    }
   ],
   "source": [
    "df[['baseline_create_date','document_create_date','document_create_date.1']]"
   ]
  },
  {
   "cell_type": "code",
   "execution_count": 12,
   "id": "7d8b74ae",
   "metadata": {},
   "outputs": [],
   "source": [
    "# pip install CurrencyConverter"
   ]
  },
  {
   "cell_type": "markdown",
   "id": "33110576",
   "metadata": {
    "id": "33110576"
   },
   "source": [
    "#### Please check, Column 'posting_id' is constant columns or not\n",
    "\n",
    "- Please note, Constants Values"
   ]
  },
  {
   "cell_type": "code",
   "execution_count": 13,
   "id": "ecce2664",
   "metadata": {
    "id": "ecce2664"
   },
   "outputs": [
    {
     "data": {
      "text/plain": [
       "1    50099\n",
       "Name: posting_id, dtype: int64"
      ]
     },
     "execution_count": 13,
     "metadata": {},
     "output_type": "execute_result"
    }
   ],
   "source": [
    "df['posting_id'].value_counts() "
   ]
  },
  {
   "cell_type": "markdown",
   "id": "e5fb8daf",
   "metadata": {
    "id": "e5fb8daf"
   },
   "source": [
    "#### Please check 'isOpen' is a constant column and relevant column for this project or not\n",
    "\n",
    "- Please note, Two Distinct values"
   ]
  },
  {
   "cell_type": "code",
   "execution_count": 14,
   "id": "8db9956b",
   "metadata": {
    "id": "8db9956b"
   },
   "outputs": [
    {
     "data": {
      "text/plain": [
       "0    40000\n",
       "1    10099\n",
       "Name: isOpen, dtype: int64"
      ]
     },
     "execution_count": 14,
     "metadata": {},
     "output_type": "execute_result"
    }
   ],
   "source": [
    "df['isOpen'].value_counts()"
   ]
  },
  {
   "cell_type": "markdown",
   "id": "45a11a62",
   "metadata": {
    "id": "45a11a62"
   },
   "source": [
    "### Write the code to drop all the following columns from the dataframe\n",
    "\n",
    "- 'area_business'\n",
    "- \"posting_id\"\n",
    "- \"invoice_id\"\n",
    "- \"document_create_date\"\n",
    "- \"isOpen\"\n",
    "- 'document type' \n",
    "- 'document_create_date.1"
   ]
  },
  {
   "cell_type": "code",
   "execution_count": 15,
   "id": "270d85d1",
   "metadata": {
    "id": "270d85d1"
   },
   "outputs": [],
   "source": [
    "df.drop(columns=['area_business', 'posting_id', 'invoice_id', 'document_create_date', 'isOpen', 'document type', 'document_create_date.1'], inplace=True)"
   ]
  },
  {
   "cell_type": "markdown",
   "id": "K5LHAM2XVGnk",
   "metadata": {
    "id": "K5LHAM2XVGnk"
   },
   "source": [
    "### Please check from the dataframe whether all the columns are removed or not "
   ]
  },
  {
   "cell_type": "code",
   "execution_count": 16,
   "id": "ef3f7d2b",
   "metadata": {
    "id": "ef3f7d2b"
   },
   "outputs": [
    {
     "data": {
      "text/plain": [
       "Index(['business_code', 'cust_number', 'name_customer', 'clear_date',\n",
       "       'buisness_year', 'doc_id', 'posting_date', 'due_in_date',\n",
       "       'invoice_currency', 'total_open_amount', 'baseline_create_date',\n",
       "       'cust_payment_terms'],\n",
       "      dtype='object')"
      ]
     },
     "execution_count": 16,
     "metadata": {},
     "output_type": "execute_result"
    }
   ],
   "source": [
    "df.columns"
   ]
  },
  {
   "cell_type": "markdown",
   "id": "6bc052c7",
   "metadata": {
    "id": "6bc052c7"
   },
   "source": [
    "### Show all the Duplicate rows from the dataframe"
   ]
  },
  {
   "cell_type": "code",
   "execution_count": 17,
   "id": "1ae3c7e4",
   "metadata": {
    "id": "1ae3c7e4"
   },
   "outputs": [
    {
     "data": {
      "text/html": [
       "<div>\n",
       "<style scoped>\n",
       "    .dataframe tbody tr th:only-of-type {\n",
       "        vertical-align: middle;\n",
       "    }\n",
       "\n",
       "    .dataframe tbody tr th {\n",
       "        vertical-align: top;\n",
       "    }\n",
       "\n",
       "    .dataframe thead th {\n",
       "        text-align: right;\n",
       "    }\n",
       "</style>\n",
       "<table border=\"1\" class=\"dataframe\">\n",
       "  <thead>\n",
       "    <tr style=\"text-align: right;\">\n",
       "      <th></th>\n",
       "      <th>business_code</th>\n",
       "      <th>cust_number</th>\n",
       "      <th>name_customer</th>\n",
       "      <th>clear_date</th>\n",
       "      <th>buisness_year</th>\n",
       "      <th>doc_id</th>\n",
       "      <th>posting_date</th>\n",
       "      <th>due_in_date</th>\n",
       "      <th>invoice_currency</th>\n",
       "      <th>total_open_amount</th>\n",
       "      <th>baseline_create_date</th>\n",
       "      <th>cust_payment_terms</th>\n",
       "    </tr>\n",
       "  </thead>\n",
       "  <tbody>\n",
       "    <tr>\n",
       "      <th>1041</th>\n",
       "      <td>U001</td>\n",
       "      <td>200769623</td>\n",
       "      <td>WAL-MAR in</td>\n",
       "      <td>12-03-2019 00:00</td>\n",
       "      <td>2019</td>\n",
       "      <td>1928870382</td>\n",
       "      <td>28-02-2019</td>\n",
       "      <td>20190315</td>\n",
       "      <td>USD</td>\n",
       "      <td>19557.41</td>\n",
       "      <td>20190228</td>\n",
       "      <td>NAH4</td>\n",
       "    </tr>\n",
       "    <tr>\n",
       "      <th>2400</th>\n",
       "      <td>U001</td>\n",
       "      <td>200769623</td>\n",
       "      <td>WAL-MAR trust</td>\n",
       "      <td>28-08-2019 00:00</td>\n",
       "      <td>2019</td>\n",
       "      <td>1929758460</td>\n",
       "      <td>18-08-2019</td>\n",
       "      <td>20190902</td>\n",
       "      <td>USD</td>\n",
       "      <td>5600.41</td>\n",
       "      <td>20190818</td>\n",
       "      <td>NAH4</td>\n",
       "    </tr>\n",
       "    <tr>\n",
       "      <th>2584</th>\n",
       "      <td>U001</td>\n",
       "      <td>200769623</td>\n",
       "      <td>WAL-MAR corporation</td>\n",
       "      <td>16-12-2019 00:00</td>\n",
       "      <td>2019</td>\n",
       "      <td>1930216806</td>\n",
       "      <td>04-12-2019</td>\n",
       "      <td>20191219</td>\n",
       "      <td>USD</td>\n",
       "      <td>35352.17</td>\n",
       "      <td>20191204</td>\n",
       "      <td>NAH4</td>\n",
       "    </tr>\n",
       "    <tr>\n",
       "      <th>3755</th>\n",
       "      <td>U001</td>\n",
       "      <td>200769623</td>\n",
       "      <td>WAL-MAR</td>\n",
       "      <td>22-11-2019 00:00</td>\n",
       "      <td>2019</td>\n",
       "      <td>1930137035</td>\n",
       "      <td>12-11-2019</td>\n",
       "      <td>20191127</td>\n",
       "      <td>USD</td>\n",
       "      <td>2982.64</td>\n",
       "      <td>20191112</td>\n",
       "      <td>NAH4</td>\n",
       "    </tr>\n",
       "    <tr>\n",
       "      <th>3873</th>\n",
       "      <td>CA02</td>\n",
       "      <td>140104409</td>\n",
       "      <td>LOB associates</td>\n",
       "      <td>NaN</td>\n",
       "      <td>2020</td>\n",
       "      <td>2960628616</td>\n",
       "      <td>14-04-2020</td>\n",
       "      <td>20200425</td>\n",
       "      <td>CAD</td>\n",
       "      <td>82975.82</td>\n",
       "      <td>20200415</td>\n",
       "      <td>CA10</td>\n",
       "    </tr>\n",
       "    <tr>\n",
       "      <th>...</th>\n",
       "      <td>...</td>\n",
       "      <td>...</td>\n",
       "      <td>...</td>\n",
       "      <td>...</td>\n",
       "      <td>...</td>\n",
       "      <td>...</td>\n",
       "      <td>...</td>\n",
       "      <td>...</td>\n",
       "      <td>...</td>\n",
       "      <td>...</td>\n",
       "      <td>...</td>\n",
       "      <td>...</td>\n",
       "    </tr>\n",
       "    <tr>\n",
       "      <th>49963</th>\n",
       "      <td>U001</td>\n",
       "      <td>200759878</td>\n",
       "      <td>SA us</td>\n",
       "      <td>29-01-2019 00:00</td>\n",
       "      <td>2019</td>\n",
       "      <td>1928613993</td>\n",
       "      <td>13-01-2019</td>\n",
       "      <td>20190128</td>\n",
       "      <td>USD</td>\n",
       "      <td>10968.24</td>\n",
       "      <td>20190113</td>\n",
       "      <td>NAH4</td>\n",
       "    </tr>\n",
       "    <tr>\n",
       "      <th>49986</th>\n",
       "      <td>U001</td>\n",
       "      <td>200772670</td>\n",
       "      <td>ASSOCIAT foundation</td>\n",
       "      <td>12-06-2019 00:00</td>\n",
       "      <td>2019</td>\n",
       "      <td>1929403090</td>\n",
       "      <td>29-05-2019</td>\n",
       "      <td>20190613</td>\n",
       "      <td>USD</td>\n",
       "      <td>155837.53</td>\n",
       "      <td>20190529</td>\n",
       "      <td>NAU5</td>\n",
       "    </tr>\n",
       "    <tr>\n",
       "      <th>49990</th>\n",
       "      <td>U001</td>\n",
       "      <td>200765011</td>\n",
       "      <td>MAINES llc</td>\n",
       "      <td>06-06-2019 00:00</td>\n",
       "      <td>2019</td>\n",
       "      <td>1929365364</td>\n",
       "      <td>22-05-2019</td>\n",
       "      <td>20190606</td>\n",
       "      <td>USD</td>\n",
       "      <td>4008.05</td>\n",
       "      <td>20190522</td>\n",
       "      <td>NAA8</td>\n",
       "    </tr>\n",
       "    <tr>\n",
       "      <th>49991</th>\n",
       "      <td>U001</td>\n",
       "      <td>200704045</td>\n",
       "      <td>RA trust</td>\n",
       "      <td>25-10-2019 00:00</td>\n",
       "      <td>2019</td>\n",
       "      <td>1930001131</td>\n",
       "      <td>10-10-2019</td>\n",
       "      <td>20191025</td>\n",
       "      <td>USD</td>\n",
       "      <td>73002.24</td>\n",
       "      <td>20191010</td>\n",
       "      <td>NAA8</td>\n",
       "    </tr>\n",
       "    <tr>\n",
       "      <th>50000</th>\n",
       "      <td>CA02</td>\n",
       "      <td>140106408</td>\n",
       "      <td>WAL-M corp</td>\n",
       "      <td>NaN</td>\n",
       "      <td>2020</td>\n",
       "      <td>2960618790</td>\n",
       "      <td>06-03-2020</td>\n",
       "      <td>20200316</td>\n",
       "      <td>CAD</td>\n",
       "      <td>92832.27</td>\n",
       "      <td>20200306</td>\n",
       "      <td>CA10</td>\n",
       "    </tr>\n",
       "  </tbody>\n",
       "</table>\n",
       "<p>1162 rows × 12 columns</p>\n",
       "</div>"
      ],
      "text/plain": [
       "      business_code cust_number        name_customer        clear_date  \\\n",
       "1041           U001   200769623           WAL-MAR in  12-03-2019 00:00   \n",
       "2400           U001   200769623        WAL-MAR trust  28-08-2019 00:00   \n",
       "2584           U001   200769623  WAL-MAR corporation  16-12-2019 00:00   \n",
       "3755           U001   200769623             WAL-MAR   22-11-2019 00:00   \n",
       "3873           CA02   140104409       LOB associates               NaN   \n",
       "...             ...         ...                  ...               ...   \n",
       "49963          U001   200759878                SA us  29-01-2019 00:00   \n",
       "49986          U001   200772670  ASSOCIAT foundation  12-06-2019 00:00   \n",
       "49990          U001   200765011           MAINES llc  06-06-2019 00:00   \n",
       "49991          U001   200704045             RA trust  25-10-2019 00:00   \n",
       "50000          CA02   140106408           WAL-M corp               NaN   \n",
       "\n",
       "       buisness_year      doc_id posting_date  due_in_date invoice_currency  \\\n",
       "1041            2019  1928870382   28-02-2019     20190315              USD   \n",
       "2400            2019  1929758460   18-08-2019     20190902              USD   \n",
       "2584            2019  1930216806   04-12-2019     20191219              USD   \n",
       "3755            2019  1930137035   12-11-2019     20191127              USD   \n",
       "3873            2020  2960628616   14-04-2020     20200425              CAD   \n",
       "...              ...         ...          ...          ...              ...   \n",
       "49963           2019  1928613993   13-01-2019     20190128              USD   \n",
       "49986           2019  1929403090   29-05-2019     20190613              USD   \n",
       "49990           2019  1929365364   22-05-2019     20190606              USD   \n",
       "49991           2019  1930001131   10-10-2019     20191025              USD   \n",
       "50000           2020  2960618790   06-03-2020     20200316              CAD   \n",
       "\n",
       "       total_open_amount  baseline_create_date cust_payment_terms  \n",
       "1041            19557.41              20190228               NAH4  \n",
       "2400             5600.41              20190818               NAH4  \n",
       "2584            35352.17              20191204               NAH4  \n",
       "3755             2982.64              20191112               NAH4  \n",
       "3873            82975.82              20200415               CA10  \n",
       "...                  ...                   ...                ...  \n",
       "49963           10968.24              20190113               NAH4  \n",
       "49986          155837.53              20190529               NAU5  \n",
       "49990            4008.05              20190522               NAA8  \n",
       "49991           73002.24              20191010               NAA8  \n",
       "50000           92832.27              20200306               CA10  \n",
       "\n",
       "[1162 rows x 12 columns]"
      ]
     },
     "execution_count": 17,
     "metadata": {},
     "output_type": "execute_result"
    }
   ],
   "source": [
    "df[df.duplicated()]"
   ]
  },
  {
   "cell_type": "markdown",
   "id": "464fab09",
   "metadata": {
    "id": "464fab09"
   },
   "source": [
    "### Display the Number of Duplicate Rows"
   ]
  },
  {
   "cell_type": "code",
   "execution_count": 18,
   "id": "b1ea2397",
   "metadata": {
    "id": "b1ea2397"
   },
   "outputs": [
    {
     "data": {
      "text/plain": [
       "1162"
      ]
     },
     "execution_count": 18,
     "metadata": {},
     "output_type": "execute_result"
    }
   ],
   "source": [
    "len(df[df.duplicated()])"
   ]
  },
  {
   "cell_type": "markdown",
   "id": "827a6718",
   "metadata": {
    "id": "827a6718"
   },
   "source": [
    "### Drop all the Duplicate Rows"
   ]
  },
  {
   "cell_type": "code",
   "execution_count": 19,
   "id": "5d10151c",
   "metadata": {
    "id": "5d10151c"
   },
   "outputs": [],
   "source": [
    "df.drop_duplicates(inplace=True)"
   ]
  },
  {
   "cell_type": "markdown",
   "id": "7e5d1f9b",
   "metadata": {
    "id": "7e5d1f9b"
   },
   "source": [
    "#### Now check for all duplicate rows now\n",
    "\n",
    "- Note - It must be 0 by now"
   ]
  },
  {
   "cell_type": "code",
   "execution_count": 20,
   "id": "9accc9fc",
   "metadata": {
    "id": "9accc9fc"
   },
   "outputs": [
    {
     "data": {
      "text/plain": [
       "0"
      ]
     },
     "execution_count": 20,
     "metadata": {},
     "output_type": "execute_result"
    }
   ],
   "source": [
    "len(df[df.duplicated()])"
   ]
  },
  {
   "cell_type": "markdown",
   "id": "d0704898",
   "metadata": {
    "id": "d0704898"
   },
   "source": [
    "### Check for the number of Rows and Columns in your dataset"
   ]
  },
  {
   "cell_type": "code",
   "execution_count": 21,
   "id": "582748a8",
   "metadata": {
    "id": "582748a8"
   },
   "outputs": [
    {
     "data": {
      "text/plain": [
       "(48937, 12)"
      ]
     },
     "execution_count": 21,
     "metadata": {},
     "output_type": "execute_result"
    }
   ],
   "source": [
    "df.shape"
   ]
  },
  {
   "cell_type": "markdown",
   "id": "4o9c5UodWRtl",
   "metadata": {
    "id": "4o9c5UodWRtl"
   },
   "source": [
    "### Find out the total count of null values in each columns"
   ]
  },
  {
   "cell_type": "code",
   "execution_count": 22,
   "id": "b0612cb5",
   "metadata": {
    "id": "b0612cb5"
   },
   "outputs": [
    {
     "data": {
      "text/plain": [
       "business_code              0\n",
       "cust_number                0\n",
       "name_customer              0\n",
       "clear_date              9779\n",
       "buisness_year              0\n",
       "doc_id                     0\n",
       "posting_date               0\n",
       "due_in_date                0\n",
       "invoice_currency           0\n",
       "total_open_amount          0\n",
       "baseline_create_date       0\n",
       "cust_payment_terms         0\n",
       "dtype: int64"
      ]
     },
     "execution_count": 22,
     "metadata": {},
     "output_type": "execute_result"
    }
   ],
   "source": [
    "df.isnull().sum()"
   ]
  },
  {
   "cell_type": "markdown",
   "id": "7abdb98b",
   "metadata": {
    "id": "7abdb98b"
   },
   "source": [
    "# Data type Conversion "
   ]
  },
  {
   "cell_type": "markdown",
   "id": "LPfSUSp-WpPj",
   "metadata": {
    "id": "LPfSUSp-WpPj"
   },
   "source": [
    "### Please check the data type of each column of the dataframe"
   ]
  },
  {
   "cell_type": "code",
   "execution_count": 23,
   "id": "689c8592",
   "metadata": {
    "id": "689c8592"
   },
   "outputs": [
    {
     "data": {
      "text/plain": [
       "business_code            object\n",
       "cust_number              object\n",
       "name_customer            object\n",
       "clear_date               object\n",
       "buisness_year             int64\n",
       "doc_id                    int64\n",
       "posting_date             object\n",
       "due_in_date               int64\n",
       "invoice_currency         object\n",
       "total_open_amount       float64\n",
       "baseline_create_date      int64\n",
       "cust_payment_terms       object\n",
       "dtype: object"
      ]
     },
     "execution_count": 23,
     "metadata": {},
     "output_type": "execute_result"
    }
   ],
   "source": [
    "df.dtypes"
   ]
  },
  {
   "cell_type": "markdown",
   "id": "0nsem0_3XzOt",
   "metadata": {
    "id": "0nsem0_3XzOt"
   },
   "source": [
    "### Check the datatype format of below columns\n",
    "\n",
    "- clear_date  \n",
    "- posting_date\n",
    "- due_in_date \n",
    "- baseline_create_date"
   ]
  },
  {
   "cell_type": "code",
   "execution_count": 24,
   "id": "-yyODyW3X6pL",
   "metadata": {
    "id": "-yyODyW3X6pL"
   },
   "outputs": [
    {
     "name": "stdout",
     "output_type": "stream",
     "text": [
      "object\n",
      "object\n",
      "int64\n",
      "int64\n"
     ]
    }
   ],
   "source": [
    "print(df.clear_date.dtypes)\n",
    "print(df.posting_date.dtypes)\n",
    "print(df.due_in_date.dtypes)\n",
    "print(df.baseline_create_date.dtypes)"
   ]
  },
  {
   "cell_type": "markdown",
   "id": "11cf9478",
   "metadata": {
    "id": "11cf9478"
   },
   "source": [
    "### converting date columns into date time formats\n",
    "\n",
    "- clear_date  \n",
    "- posting_date\n",
    "- due_in_date \n",
    "- baseline_create_date\n",
    "\n",
    "\n",
    "- **Note - You have to convert all these above columns into \"%Y%m%d\" format**"
   ]
  },
  {
   "cell_type": "code",
   "execution_count": 25,
   "id": "9a8c6c71",
   "metadata": {
    "id": "9a8c6c71"
   },
   "outputs": [],
   "source": [
    "df['posting_date'] = pd.to_datetime(df['posting_date'])\n",
    "df['clear_date'] = pd.to_datetime(df['clear_date'])\n",
    "df['due_in_date'] = pd.to_datetime(df['due_in_date'],format='%Y%m%d')\n",
    "df['baseline_create_date'] = pd.to_datetime(df['baseline_create_date'],format='%Y%m%d')"
   ]
  },
  {
   "cell_type": "code",
   "execution_count": 26,
   "id": "837fb5a4",
   "metadata": {},
   "outputs": [
    {
     "data": {
      "text/plain": [
       "count                   48937\n",
       "unique                    506\n",
       "top       2020-06-03 00:00:00\n",
       "freq                      273\n",
       "first     2018-12-30 00:00:00\n",
       "last      2020-12-05 00:00:00\n",
       "Name: posting_date, dtype: object"
      ]
     },
     "execution_count": 26,
     "metadata": {},
     "output_type": "execute_result"
    }
   ],
   "source": [
    "df['posting_date'].describe()"
   ]
  },
  {
   "cell_type": "code",
   "execution_count": 27,
   "id": "024fa0a9",
   "metadata": {},
   "outputs": [
    {
     "data": {
      "text/plain": [
       "count                   39158\n",
       "unique                    403\n",
       "top       2019-12-11 00:00:00\n",
       "freq                      299\n",
       "first     2019-01-02 00:00:00\n",
       "last      2020-12-03 00:00:00\n",
       "Name: clear_date, dtype: object"
      ]
     },
     "execution_count": 27,
     "metadata": {},
     "output_type": "execute_result"
    }
   ],
   "source": [
    "df['clear_date'].describe()"
   ]
  },
  {
   "cell_type": "code",
   "execution_count": 28,
   "id": "37b61ce9",
   "metadata": {},
   "outputs": [
    {
     "data": {
      "text/plain": [
       "count                   48937\n",
       "unique                    547\n",
       "top       2020-04-08 00:00:00\n",
       "freq                      249\n",
       "first     2018-12-24 00:00:00\n",
       "last      2020-07-10 00:00:00\n",
       "Name: due_in_date, dtype: object"
      ]
     },
     "execution_count": 28,
     "metadata": {},
     "output_type": "execute_result"
    }
   ],
   "source": [
    "df['due_in_date'].describe()"
   ]
  },
  {
   "cell_type": "code",
   "execution_count": 29,
   "id": "8b8dcaa3",
   "metadata": {},
   "outputs": [
    {
     "data": {
      "text/plain": [
       "count                   48937\n",
       "unique                    506\n",
       "top       2020-04-01 00:00:00\n",
       "freq                      267\n",
       "first     2018-12-14 00:00:00\n",
       "last      2020-05-22 00:00:00\n",
       "Name: baseline_create_date, dtype: object"
      ]
     },
     "execution_count": 29,
     "metadata": {},
     "output_type": "execute_result"
    }
   ],
   "source": [
    "df['baseline_create_date'].describe()"
   ]
  },
  {
   "cell_type": "markdown",
   "id": "7adq0wSIYSCS",
   "metadata": {
    "id": "7adq0wSIYSCS"
   },
   "source": [
    "### Please check the datatype of all the columns after conversion of the above 4 columns"
   ]
  },
  {
   "cell_type": "code",
   "execution_count": 30,
   "id": "fd028c61",
   "metadata": {
    "id": "fd028c61"
   },
   "outputs": [
    {
     "data": {
      "text/plain": [
       "business_code                   object\n",
       "cust_number                     object\n",
       "name_customer                   object\n",
       "clear_date              datetime64[ns]\n",
       "buisness_year                    int64\n",
       "doc_id                           int64\n",
       "posting_date            datetime64[ns]\n",
       "due_in_date             datetime64[ns]\n",
       "invoice_currency                object\n",
       "total_open_amount              float64\n",
       "baseline_create_date    datetime64[ns]\n",
       "cust_payment_terms              object\n",
       "dtype: object"
      ]
     },
     "execution_count": 30,
     "metadata": {},
     "output_type": "execute_result"
    }
   ],
   "source": [
    "df.dtypes"
   ]
  },
  {
   "cell_type": "markdown",
   "id": "8c9882fa",
   "metadata": {
    "id": "8c9882fa"
   },
   "source": [
    "#### the invoice_currency column contains two different categories, USD and CAD\n",
    "\n",
    "- Please do a count of each currency "
   ]
  },
  {
   "cell_type": "code",
   "execution_count": 31,
   "id": "72085397",
   "metadata": {
    "id": "72085397"
   },
   "outputs": [],
   "source": [
    "cad=df[df['invoice_currency'] == 'CAD'].count()['invoice_currency']\n",
    "usd=df[df['invoice_currency'] == 'USD'].count()['invoice_currency']"
   ]
  },
  {
   "cell_type": "markdown",
   "id": "6cbe26ee",
   "metadata": {
    "id": "6cbe26ee"
   },
   "source": [
    "#### display the \"total_open_amount\" column value"
   ]
  },
  {
   "cell_type": "code",
   "execution_count": 32,
   "id": "6c49f2ab",
   "metadata": {
    "id": "6c49f2ab"
   },
   "outputs": [
    {
     "data": {
      "text/plain": [
       "dtype('float64')"
      ]
     },
     "execution_count": 32,
     "metadata": {},
     "output_type": "execute_result"
    }
   ],
   "source": [
    "df['total_open_amount'].dtype"
   ]
  },
  {
   "cell_type": "markdown",
   "id": "df899966",
   "metadata": {
    "id": "df899966"
   },
   "source": [
    "### Convert all CAD into USD currency of \"total_open_amount\" column\n",
    "\n",
    "- 1 CAD = 0.7 USD\n",
    "- Create a new column i.e \"converted_usd\" and store USD and convered CAD to USD"
   ]
  },
  {
   "cell_type": "code",
   "execution_count": 33,
   "id": "e98ae529",
   "metadata": {},
   "outputs": [
    {
     "data": {
      "text/plain": [
       "array(['USD', 'CAD'], dtype=object)"
      ]
     },
     "execution_count": 33,
     "metadata": {},
     "output_type": "execute_result"
    }
   ],
   "source": [
    "df['invoice_currency'].unique()"
   ]
  },
  {
   "cell_type": "code",
   "execution_count": 34,
   "id": "0bc2640b",
   "metadata": {},
   "outputs": [
    {
     "data": {
      "text/plain": [
       "[]"
      ]
     },
     "execution_count": 34,
     "metadata": {},
     "output_type": "execute_result"
    }
   ],
   "source": [
    "all_currency=df['invoice_currency'].unique()\n",
    "currency_convertion_rate = {}\n",
    "unavailable_currency = []\n",
    "for i in all_currency:\n",
    "    if i in list(CurrencyConverter().currencies):\n",
    "        currency_convertion_rate[i] = CurrencyConverter().convert(1,i,'USD')\n",
    "    else:\n",
    "        unavailable_currency.append(i)\n",
    "unavailable_currency"
   ]
  },
  {
   "cell_type": "code",
   "execution_count": 35,
   "id": "11377b56",
   "metadata": {},
   "outputs": [
    {
     "data": {
      "text/plain": [
       "{'USD': 1.0, 'CAD': 0.7461018352421691}"
      ]
     },
     "execution_count": 35,
     "metadata": {},
     "output_type": "execute_result"
    }
   ],
   "source": [
    "currency_convertion_rate"
   ]
  },
  {
   "cell_type": "code",
   "execution_count": 36,
   "id": "03e28362",
   "metadata": {},
   "outputs": [],
   "source": [
    "df['converted_usd'] = df.apply(lambda x : x['total_open_amount']*currency_convertion_rate[x['invoice_currency']],axis=1)"
   ]
  },
  {
   "cell_type": "markdown",
   "id": "f9f6ef1d",
   "metadata": {
    "id": "f9f6ef1d"
   },
   "source": [
    "### Display the new \"converted_usd\" column values"
   ]
  },
  {
   "cell_type": "code",
   "execution_count": 37,
   "id": "1fc1a178",
   "metadata": {
    "id": "1fc1a178"
   },
   "outputs": [
    {
     "data": {
      "text/plain": [
       "0        54273.280000\n",
       "1        79656.600000\n",
       "2         2253.860000\n",
       "3         2461.912226\n",
       "4        33133.290000\n",
       "             ...     \n",
       "50094    69262.327017\n",
       "50095    69262.327017\n",
       "50096    69262.327017\n",
       "50097    69262.327017\n",
       "50098    69262.327017\n",
       "Name: converted_usd, Length: 48937, dtype: float64"
      ]
     },
     "execution_count": 37,
     "metadata": {},
     "output_type": "execute_result"
    }
   ],
   "source": [
    "df.converted_usd"
   ]
  },
  {
   "cell_type": "code",
   "execution_count": 38,
   "id": "885cbb87",
   "metadata": {},
   "outputs": [
    {
     "data": {
      "text/html": [
       "<div>\n",
       "<style scoped>\n",
       "    .dataframe tbody tr th:only-of-type {\n",
       "        vertical-align: middle;\n",
       "    }\n",
       "\n",
       "    .dataframe tbody tr th {\n",
       "        vertical-align: top;\n",
       "    }\n",
       "\n",
       "    .dataframe thead th {\n",
       "        text-align: right;\n",
       "    }\n",
       "</style>\n",
       "<table border=\"1\" class=\"dataframe\">\n",
       "  <thead>\n",
       "    <tr style=\"text-align: right;\">\n",
       "      <th></th>\n",
       "      <th>total_open_amount</th>\n",
       "      <th>converted_usd</th>\n",
       "    </tr>\n",
       "  </thead>\n",
       "  <tbody>\n",
       "    <tr>\n",
       "      <th>0</th>\n",
       "      <td>54273.28</td>\n",
       "      <td>54273.280000</td>\n",
       "    </tr>\n",
       "    <tr>\n",
       "      <th>1</th>\n",
       "      <td>79656.60</td>\n",
       "      <td>79656.600000</td>\n",
       "    </tr>\n",
       "    <tr>\n",
       "      <th>2</th>\n",
       "      <td>2253.86</td>\n",
       "      <td>2253.860000</td>\n",
       "    </tr>\n",
       "    <tr>\n",
       "      <th>3</th>\n",
       "      <td>3299.70</td>\n",
       "      <td>2461.912226</td>\n",
       "    </tr>\n",
       "    <tr>\n",
       "      <th>4</th>\n",
       "      <td>33133.29</td>\n",
       "      <td>33133.290000</td>\n",
       "    </tr>\n",
       "    <tr>\n",
       "      <th>...</th>\n",
       "      <td>...</td>\n",
       "      <td>...</td>\n",
       "    </tr>\n",
       "    <tr>\n",
       "      <th>50094</th>\n",
       "      <td>92832.27</td>\n",
       "      <td>69262.327017</td>\n",
       "    </tr>\n",
       "    <tr>\n",
       "      <th>50095</th>\n",
       "      <td>92832.27</td>\n",
       "      <td>69262.327017</td>\n",
       "    </tr>\n",
       "    <tr>\n",
       "      <th>50096</th>\n",
       "      <td>92832.27</td>\n",
       "      <td>69262.327017</td>\n",
       "    </tr>\n",
       "    <tr>\n",
       "      <th>50097</th>\n",
       "      <td>92832.27</td>\n",
       "      <td>69262.327017</td>\n",
       "    </tr>\n",
       "    <tr>\n",
       "      <th>50098</th>\n",
       "      <td>92832.27</td>\n",
       "      <td>69262.327017</td>\n",
       "    </tr>\n",
       "  </tbody>\n",
       "</table>\n",
       "<p>48937 rows × 2 columns</p>\n",
       "</div>"
      ],
      "text/plain": [
       "       total_open_amount  converted_usd\n",
       "0               54273.28   54273.280000\n",
       "1               79656.60   79656.600000\n",
       "2                2253.86    2253.860000\n",
       "3                3299.70    2461.912226\n",
       "4               33133.29   33133.290000\n",
       "...                  ...            ...\n",
       "50094           92832.27   69262.327017\n",
       "50095           92832.27   69262.327017\n",
       "50096           92832.27   69262.327017\n",
       "50097           92832.27   69262.327017\n",
       "50098           92832.27   69262.327017\n",
       "\n",
       "[48937 rows x 2 columns]"
      ]
     },
     "execution_count": 38,
     "metadata": {},
     "output_type": "execute_result"
    }
   ],
   "source": [
    "df[['total_open_amount','converted_usd']]"
   ]
  },
  {
   "cell_type": "markdown",
   "id": "6XLXX17kayuy",
   "metadata": {
    "id": "6XLXX17kayuy"
   },
   "source": [
    "### Display year wise total number of record \n",
    "\n",
    "- Note -  use \"buisness_year\" column for this "
   ]
  },
  {
   "cell_type": "code",
   "execution_count": 39,
   "id": "00c9f6ee",
   "metadata": {
    "id": "00c9f6ee"
   },
   "outputs": [
    {
     "data": {
      "text/plain": [
       "2019    33975\n",
       "2020    14962\n",
       "Name: buisness_year, dtype: int64"
      ]
     },
     "execution_count": 39,
     "metadata": {},
     "output_type": "execute_result"
    }
   ],
   "source": [
    "df['buisness_year'].value_counts()"
   ]
  },
  {
   "cell_type": "markdown",
   "id": "05c35904",
   "metadata": {
    "id": "05c35904"
   },
   "source": [
    "### Write the code to delete the following columns \n",
    "\n",
    "- 'invoice_currency'\n",
    "- 'total_open_amount', "
   ]
  },
  {
   "cell_type": "code",
   "execution_count": 40,
   "id": "4ac28aa5",
   "metadata": {
    "id": "4ac28aa5"
   },
   "outputs": [],
   "source": [
    "df.drop(columns=['invoice_currency', 'total_open_amount'], inplace=True)"
   ]
  },
  {
   "cell_type": "markdown",
   "id": "bDBJ_Kvwc086",
   "metadata": {
    "id": "bDBJ_Kvwc086"
   },
   "source": [
    "### Write a code to check the number of columns in dataframe"
   ]
  },
  {
   "cell_type": "code",
   "execution_count": 41,
   "id": "ea360a8c",
   "metadata": {
    "id": "ea360a8c"
   },
   "outputs": [
    {
     "data": {
      "text/plain": [
       "11"
      ]
     },
     "execution_count": 41,
     "metadata": {},
     "output_type": "execute_result"
    }
   ],
   "source": [
    "len(df.columns)"
   ]
  },
  {
   "cell_type": "markdown",
   "id": "b8f63655",
   "metadata": {
    "id": "b8f63655"
   },
   "source": [
    "# Splitting the Dataset "
   ]
  },
  {
   "cell_type": "markdown",
   "id": "a00f749d",
   "metadata": {
    "id": "a00f749d"
   },
   "source": [
    "### Look for all columns containing null value\n",
    "\n",
    "- Note - Output expected is only one column "
   ]
  },
  {
   "cell_type": "code",
   "execution_count": 42,
   "id": "148c801e",
   "metadata": {
    "id": "148c801e"
   },
   "outputs": [
    {
     "data": {
      "text/plain": [
       "business_code              0\n",
       "cust_number                0\n",
       "name_customer              0\n",
       "clear_date              9779\n",
       "buisness_year              0\n",
       "doc_id                     0\n",
       "posting_date               0\n",
       "due_in_date                0\n",
       "baseline_create_date       0\n",
       "cust_payment_terms         0\n",
       "converted_usd              0\n",
       "dtype: int64"
      ]
     },
     "execution_count": 42,
     "metadata": {},
     "output_type": "execute_result"
    }
   ],
   "source": [
    "df.isnull().sum()"
   ]
  },
  {
   "cell_type": "markdown",
   "id": "a094a290",
   "metadata": {
    "id": "a094a290"
   },
   "source": [
    "#### Find out the number of null values from the column that you got from the above code"
   ]
  },
  {
   "cell_type": "code",
   "execution_count": 43,
   "id": "30bfb113",
   "metadata": {
    "id": "30bfb113"
   },
   "outputs": [
    {
     "data": {
      "text/plain": [
       "9779"
      ]
     },
     "execution_count": 43,
     "metadata": {},
     "output_type": "execute_result"
    }
   ],
   "source": [
    "df['clear_date'].isnull().sum()"
   ]
  },
  {
   "cell_type": "markdown",
   "id": "7f6d939b",
   "metadata": {
    "id": "7f6d939b"
   },
   "source": [
    "### On basis of the above column we are spliting data into dataset\n",
    "\n",
    "- First dataframe (refer that as maindata) only containing the rows, that have NO NULL data in that column ( This is going to be our train dataset ) \n",
    "- Second dataframe (refer that as nulldata) that contains the columns, that have Null data in that column ( This is going to be our test dataset ) "
   ]
  },
  {
   "cell_type": "code",
   "execution_count": 44,
   "id": "c8764c33",
   "metadata": {
    "id": "c8764c33"
   },
   "outputs": [],
   "source": [
    "maindata=df.loc[df['clear_date'].notnull()]\n",
    "nulldata=df.loc[df['clear_date'].isnull()]"
   ]
  },
  {
   "cell_type": "markdown",
   "id": "3P8riRBHd_r6",
   "metadata": {
    "id": "3P8riRBHd_r6"
   },
   "source": [
    "### Check the number of Rows and Columns for both the dataframes "
   ]
  },
  {
   "cell_type": "code",
   "execution_count": 45,
   "id": "0693a464",
   "metadata": {
    "id": "0693a464"
   },
   "outputs": [
    {
     "data": {
      "text/plain": [
       "(39158, 11)"
      ]
     },
     "execution_count": 45,
     "metadata": {},
     "output_type": "execute_result"
    }
   ],
   "source": [
    "maindata.shape"
   ]
  },
  {
   "cell_type": "code",
   "execution_count": 46,
   "id": "7f86bc74",
   "metadata": {
    "id": "7f86bc74"
   },
   "outputs": [
    {
     "data": {
      "text/plain": [
       "(9779, 11)"
      ]
     },
     "execution_count": 46,
     "metadata": {},
     "output_type": "execute_result"
    }
   ],
   "source": [
    "nulldata.shape"
   ]
  },
  {
   "cell_type": "markdown",
   "id": "0747165d",
   "metadata": {
    "id": "0747165d"
   },
   "source": [
    "### Display the 5 records from maindata and nulldata dataframes"
   ]
  },
  {
   "cell_type": "code",
   "execution_count": 47,
   "id": "dec2ec36",
   "metadata": {
    "id": "dec2ec36"
   },
   "outputs": [
    {
     "data": {
      "text/html": [
       "<div>\n",
       "<style scoped>\n",
       "    .dataframe tbody tr th:only-of-type {\n",
       "        vertical-align: middle;\n",
       "    }\n",
       "\n",
       "    .dataframe tbody tr th {\n",
       "        vertical-align: top;\n",
       "    }\n",
       "\n",
       "    .dataframe thead th {\n",
       "        text-align: right;\n",
       "    }\n",
       "</style>\n",
       "<table border=\"1\" class=\"dataframe\">\n",
       "  <thead>\n",
       "    <tr style=\"text-align: right;\">\n",
       "      <th></th>\n",
       "      <th>business_code</th>\n",
       "      <th>cust_number</th>\n",
       "      <th>name_customer</th>\n",
       "      <th>clear_date</th>\n",
       "      <th>buisness_year</th>\n",
       "      <th>doc_id</th>\n",
       "      <th>posting_date</th>\n",
       "      <th>due_in_date</th>\n",
       "      <th>baseline_create_date</th>\n",
       "      <th>cust_payment_terms</th>\n",
       "      <th>converted_usd</th>\n",
       "    </tr>\n",
       "  </thead>\n",
       "  <tbody>\n",
       "    <tr>\n",
       "      <th>0</th>\n",
       "      <td>U001</td>\n",
       "      <td>200769623</td>\n",
       "      <td>WAL-MAR corp</td>\n",
       "      <td>2020-11-02</td>\n",
       "      <td>2020</td>\n",
       "      <td>1930438491</td>\n",
       "      <td>2020-01-26</td>\n",
       "      <td>2020-02-10</td>\n",
       "      <td>2020-01-26</td>\n",
       "      <td>NAH4</td>\n",
       "      <td>54273.280000</td>\n",
       "    </tr>\n",
       "    <tr>\n",
       "      <th>1</th>\n",
       "      <td>U001</td>\n",
       "      <td>200980828</td>\n",
       "      <td>BEN E</td>\n",
       "      <td>2019-08-08</td>\n",
       "      <td>2019</td>\n",
       "      <td>1929646410</td>\n",
       "      <td>2019-07-22</td>\n",
       "      <td>2019-08-11</td>\n",
       "      <td>2019-07-22</td>\n",
       "      <td>NAD1</td>\n",
       "      <td>79656.600000</td>\n",
       "    </tr>\n",
       "    <tr>\n",
       "      <th>2</th>\n",
       "      <td>U001</td>\n",
       "      <td>200792734</td>\n",
       "      <td>MDV/ trust</td>\n",
       "      <td>2019-12-30</td>\n",
       "      <td>2019</td>\n",
       "      <td>1929873765</td>\n",
       "      <td>2019-09-14</td>\n",
       "      <td>2019-09-29</td>\n",
       "      <td>2019-09-14</td>\n",
       "      <td>NAA8</td>\n",
       "      <td>2253.860000</td>\n",
       "    </tr>\n",
       "    <tr>\n",
       "      <th>4</th>\n",
       "      <td>U001</td>\n",
       "      <td>200769623</td>\n",
       "      <td>WAL-MAR foundation</td>\n",
       "      <td>2019-11-25</td>\n",
       "      <td>2019</td>\n",
       "      <td>1930147974</td>\n",
       "      <td>2019-11-13</td>\n",
       "      <td>2019-11-28</td>\n",
       "      <td>2019-11-13</td>\n",
       "      <td>NAH4</td>\n",
       "      <td>33133.290000</td>\n",
       "    </tr>\n",
       "    <tr>\n",
       "      <th>5</th>\n",
       "      <td>CA02</td>\n",
       "      <td>140106181</td>\n",
       "      <td>THE  corporation</td>\n",
       "      <td>2019-04-12</td>\n",
       "      <td>2019</td>\n",
       "      <td>2960581231</td>\n",
       "      <td>2019-09-20</td>\n",
       "      <td>2019-10-04</td>\n",
       "      <td>2019-09-24</td>\n",
       "      <td>CA10</td>\n",
       "      <td>16582.740014</td>\n",
       "    </tr>\n",
       "  </tbody>\n",
       "</table>\n",
       "</div>"
      ],
      "text/plain": [
       "  business_code cust_number       name_customer clear_date  buisness_year  \\\n",
       "0          U001   200769623        WAL-MAR corp 2020-11-02           2020   \n",
       "1          U001   200980828              BEN E  2019-08-08           2019   \n",
       "2          U001   200792734          MDV/ trust 2019-12-30           2019   \n",
       "4          U001   200769623  WAL-MAR foundation 2019-11-25           2019   \n",
       "5          CA02   140106181    THE  corporation 2019-04-12           2019   \n",
       "\n",
       "       doc_id posting_date due_in_date baseline_create_date  \\\n",
       "0  1930438491   2020-01-26  2020-02-10           2020-01-26   \n",
       "1  1929646410   2019-07-22  2019-08-11           2019-07-22   \n",
       "2  1929873765   2019-09-14  2019-09-29           2019-09-14   \n",
       "4  1930147974   2019-11-13  2019-11-28           2019-11-13   \n",
       "5  2960581231   2019-09-20  2019-10-04           2019-09-24   \n",
       "\n",
       "  cust_payment_terms  converted_usd  \n",
       "0               NAH4   54273.280000  \n",
       "1               NAD1   79656.600000  \n",
       "2               NAA8    2253.860000  \n",
       "4               NAH4   33133.290000  \n",
       "5               CA10   16582.740014  "
      ]
     },
     "execution_count": 47,
     "metadata": {},
     "output_type": "execute_result"
    }
   ],
   "source": [
    "maindata[:5]"
   ]
  },
  {
   "cell_type": "code",
   "execution_count": 48,
   "id": "eee2d68a",
   "metadata": {
    "id": "eee2d68a"
   },
   "outputs": [
    {
     "data": {
      "text/html": [
       "<div>\n",
       "<style scoped>\n",
       "    .dataframe tbody tr th:only-of-type {\n",
       "        vertical-align: middle;\n",
       "    }\n",
       "\n",
       "    .dataframe tbody tr th {\n",
       "        vertical-align: top;\n",
       "    }\n",
       "\n",
       "    .dataframe thead th {\n",
       "        text-align: right;\n",
       "    }\n",
       "</style>\n",
       "<table border=\"1\" class=\"dataframe\">\n",
       "  <thead>\n",
       "    <tr style=\"text-align: right;\">\n",
       "      <th></th>\n",
       "      <th>business_code</th>\n",
       "      <th>cust_number</th>\n",
       "      <th>name_customer</th>\n",
       "      <th>clear_date</th>\n",
       "      <th>buisness_year</th>\n",
       "      <th>doc_id</th>\n",
       "      <th>posting_date</th>\n",
       "      <th>due_in_date</th>\n",
       "      <th>baseline_create_date</th>\n",
       "      <th>cust_payment_terms</th>\n",
       "      <th>converted_usd</th>\n",
       "    </tr>\n",
       "  </thead>\n",
       "  <tbody>\n",
       "    <tr>\n",
       "      <th>3</th>\n",
       "      <td>CA02</td>\n",
       "      <td>140105686</td>\n",
       "      <td>SYSC llc</td>\n",
       "      <td>NaT</td>\n",
       "      <td>2020</td>\n",
       "      <td>2960623488</td>\n",
       "      <td>2020-03-30</td>\n",
       "      <td>2020-04-10</td>\n",
       "      <td>2020-03-31</td>\n",
       "      <td>CA10</td>\n",
       "      <td>2461.912226</td>\n",
       "    </tr>\n",
       "    <tr>\n",
       "      <th>7</th>\n",
       "      <td>U001</td>\n",
       "      <td>200744019</td>\n",
       "      <td>TARG us</td>\n",
       "      <td>NaT</td>\n",
       "      <td>2020</td>\n",
       "      <td>1930659387</td>\n",
       "      <td>2020-03-19</td>\n",
       "      <td>2020-04-03</td>\n",
       "      <td>2020-03-19</td>\n",
       "      <td>NAA8</td>\n",
       "      <td>11173.020000</td>\n",
       "    </tr>\n",
       "    <tr>\n",
       "      <th>10</th>\n",
       "      <td>U001</td>\n",
       "      <td>200418007</td>\n",
       "      <td>AM</td>\n",
       "      <td>NaT</td>\n",
       "      <td>2020</td>\n",
       "      <td>1930610806</td>\n",
       "      <td>2020-11-03</td>\n",
       "      <td>2020-03-26</td>\n",
       "      <td>2020-03-11</td>\n",
       "      <td>NAA8</td>\n",
       "      <td>3525.590000</td>\n",
       "    </tr>\n",
       "    <tr>\n",
       "      <th>14</th>\n",
       "      <td>U001</td>\n",
       "      <td>200739534</td>\n",
       "      <td>OK systems</td>\n",
       "      <td>NaT</td>\n",
       "      <td>2020</td>\n",
       "      <td>1930788296</td>\n",
       "      <td>2020-04-15</td>\n",
       "      <td>2020-04-30</td>\n",
       "      <td>2020-04-15</td>\n",
       "      <td>NAA8</td>\n",
       "      <td>121105.650000</td>\n",
       "    </tr>\n",
       "    <tr>\n",
       "      <th>15</th>\n",
       "      <td>U001</td>\n",
       "      <td>200353024</td>\n",
       "      <td>DECA corporation</td>\n",
       "      <td>NaT</td>\n",
       "      <td>2020</td>\n",
       "      <td>1930817482</td>\n",
       "      <td>2020-04-23</td>\n",
       "      <td>2020-04-26</td>\n",
       "      <td>2020-04-16</td>\n",
       "      <td>NAM2</td>\n",
       "      <td>3726.060000</td>\n",
       "    </tr>\n",
       "  </tbody>\n",
       "</table>\n",
       "</div>"
      ],
      "text/plain": [
       "   business_code cust_number     name_customer clear_date  buisness_year  \\\n",
       "3           CA02   140105686          SYSC llc        NaT           2020   \n",
       "7           U001   200744019           TARG us        NaT           2020   \n",
       "10          U001   200418007               AM         NaT           2020   \n",
       "14          U001   200739534        OK systems        NaT           2020   \n",
       "15          U001   200353024  DECA corporation        NaT           2020   \n",
       "\n",
       "        doc_id posting_date due_in_date baseline_create_date  \\\n",
       "3   2960623488   2020-03-30  2020-04-10           2020-03-31   \n",
       "7   1930659387   2020-03-19  2020-04-03           2020-03-19   \n",
       "10  1930610806   2020-11-03  2020-03-26           2020-03-11   \n",
       "14  1930788296   2020-04-15  2020-04-30           2020-04-15   \n",
       "15  1930817482   2020-04-23  2020-04-26           2020-04-16   \n",
       "\n",
       "   cust_payment_terms  converted_usd  \n",
       "3                CA10    2461.912226  \n",
       "7                NAA8   11173.020000  \n",
       "10               NAA8    3525.590000  \n",
       "14               NAA8  121105.650000  \n",
       "15               NAM2    3726.060000  "
      ]
     },
     "execution_count": 48,
     "metadata": {},
     "output_type": "execute_result"
    }
   ],
   "source": [
    "nulldata[:5]"
   ]
  },
  {
   "cell_type": "markdown",
   "id": "24aa6746",
   "metadata": {
    "id": "24aa6746"
   },
   "source": [
    "## Considering the **maindata**"
   ]
  },
  {
   "cell_type": "markdown",
   "id": "f92c4aa7",
   "metadata": {
    "id": "f92c4aa7"
   },
   "source": [
    "#### Generate a new column \"Delay\" from the existing columns\n",
    "\n",
    "- Note - You are expected to create a new column 'Delay' from two existing columns, \"clear_date\" and \"due_in_date\" \n",
    "- Formula - Delay = clear_date - due_in_date"
   ]
  },
  {
   "cell_type": "code",
   "execution_count": 49,
   "id": "8eeceb9c",
   "metadata": {
    "id": "8eeceb9c"
   },
   "outputs": [
    {
     "data": {
      "text/plain": [
       "0        266 days\n",
       "1         -3 days\n",
       "2         92 days\n",
       "4         -3 days\n",
       "5       -175 days\n",
       "           ...   \n",
       "49994      0 days\n",
       "49996   -174 days\n",
       "49997     59 days\n",
       "49998      0 days\n",
       "49999     -9 days\n",
       "Name: Delay, Length: 39158, dtype: timedelta64[ns]"
      ]
     },
     "execution_count": 49,
     "metadata": {},
     "output_type": "execute_result"
    }
   ],
   "source": [
    "maindata['Delay']=maindata['clear_date']-maindata['due_in_date']\n",
    "maindata.Delay"
   ]
  },
  {
   "cell_type": "markdown",
   "id": "f482144e",
   "metadata": {
    "id": "f482144e"
   },
   "source": [
    "### Generate a new column \"avgdelay\" from the existing columns\n",
    "\n",
    "- Note - You are expected to make a new column \"avgdelay\" by grouping \"name_customer\" column with reapect to mean of the \"Delay\" column.\n",
    "- This new column \"avg_delay\" is meant to store \"customer_name\" wise delay\n",
    "- groupby('name_customer')['Delay'].mean(numeric_only=False)\n",
    "- Display the new \"avg_delay\" column"
   ]
  },
  {
   "cell_type": "code",
   "execution_count": 50,
   "id": "d18d2f8d",
   "metadata": {
    "id": "d18d2f8d"
   },
   "outputs": [],
   "source": [
    "avgdelay=maindata.groupby('name_customer')['Delay'].mean(numeric_only=False)"
   ]
  },
  {
   "cell_type": "markdown",
   "id": "64b995e8",
   "metadata": {
    "id": "64b995e8"
   },
   "source": [
    "You need to add the \"avg_delay\" column with the maindata, mapped with \"name_customer\" column\n",
    "\n",
    " - Note - You need to use map function to map the avgdelay with respect to \"name_customer\" column"
   ]
  },
  {
   "cell_type": "code",
   "execution_count": 51,
   "id": "e1e1f3d9",
   "metadata": {
    "id": "e1e1f3d9"
   },
   "outputs": [],
   "source": [
    "maindata['avg_delay']=maindata['name_customer'].map(avgdelay)"
   ]
  },
  {
   "cell_type": "code",
   "execution_count": 52,
   "id": "e36e1b44",
   "metadata": {},
   "outputs": [
    {
     "data": {
      "text/plain": [
       "0         3 days 00:38:22.665121668\n",
       "1                  25 days 00:00:00\n",
       "2        26 days 21:49:05.454545454\n",
       "4         4 days 19:33:27.692307692\n",
       "5                  51 days 18:40:00\n",
       "                    ...            \n",
       "49994            -10 days +04:15:00\n",
       "49996   -2 days +13:29:40.782918150\n",
       "49997     2 days 11:25:42.857142857\n",
       "49998    20 days 17:00:53.731343283\n",
       "49999   -9 days +00:31:18.260869566\n",
       "Name: avg_delay, Length: 39158, dtype: timedelta64[ns]"
      ]
     },
     "execution_count": 52,
     "metadata": {},
     "output_type": "execute_result"
    }
   ],
   "source": [
    "maindata['avg_delay']"
   ]
  },
  {
   "cell_type": "markdown",
   "id": "1d332525",
   "metadata": {
    "id": "1d332525"
   },
   "source": [
    "### Observe that the \"avg_delay\" column is in days format. You need to change the format into seconds\n",
    "\n",
    "- Days_format :  17 days 00:00:00\n",
    "- Format in seconds : 1641600.0"
   ]
  },
  {
   "cell_type": "code",
   "execution_count": 53,
   "id": "d5f1041e",
   "metadata": {
    "id": "d5f1041e"
   },
   "outputs": [
    {
     "data": {
      "text/plain": [
       "0        2.615027e+05\n",
       "1        2.160000e+06\n",
       "2        2.324945e+06\n",
       "4        4.160077e+05\n",
       "5        4.473600e+06\n",
       "             ...     \n",
       "49994   -8.487000e+05\n",
       "49996   -1.242192e+05\n",
       "49997    2.139429e+05\n",
       "49998    1.789254e+06\n",
       "49999   -7.757217e+05\n",
       "Name: avg_delay, Length: 39158, dtype: float64"
      ]
     },
     "execution_count": 53,
     "metadata": {},
     "output_type": "execute_result"
    }
   ],
   "source": [
    "maindata['avg_delay']=pd.to_timedelta(maindata['avg_delay']).dt.total_seconds()\n",
    "maindata['avg_delay']"
   ]
  },
  {
   "cell_type": "markdown",
   "id": "OvgtHSsx_O-n",
   "metadata": {
    "id": "OvgtHSsx_O-n"
   },
   "source": [
    "### Display the maindata dataframe "
   ]
  },
  {
   "cell_type": "code",
   "execution_count": 54,
   "id": "97ca9c45",
   "metadata": {
    "id": "97ca9c45"
   },
   "outputs": [
    {
     "data": {
      "text/html": [
       "<div>\n",
       "<style scoped>\n",
       "    .dataframe tbody tr th:only-of-type {\n",
       "        vertical-align: middle;\n",
       "    }\n",
       "\n",
       "    .dataframe tbody tr th {\n",
       "        vertical-align: top;\n",
       "    }\n",
       "\n",
       "    .dataframe thead th {\n",
       "        text-align: right;\n",
       "    }\n",
       "</style>\n",
       "<table border=\"1\" class=\"dataframe\">\n",
       "  <thead>\n",
       "    <tr style=\"text-align: right;\">\n",
       "      <th></th>\n",
       "      <th>business_code</th>\n",
       "      <th>cust_number</th>\n",
       "      <th>name_customer</th>\n",
       "      <th>clear_date</th>\n",
       "      <th>buisness_year</th>\n",
       "      <th>doc_id</th>\n",
       "      <th>posting_date</th>\n",
       "      <th>due_in_date</th>\n",
       "      <th>baseline_create_date</th>\n",
       "      <th>cust_payment_terms</th>\n",
       "      <th>converted_usd</th>\n",
       "      <th>Delay</th>\n",
       "      <th>avg_delay</th>\n",
       "    </tr>\n",
       "  </thead>\n",
       "  <tbody>\n",
       "    <tr>\n",
       "      <th>0</th>\n",
       "      <td>U001</td>\n",
       "      <td>200769623</td>\n",
       "      <td>WAL-MAR corp</td>\n",
       "      <td>2020-11-02</td>\n",
       "      <td>2020</td>\n",
       "      <td>1930438491</td>\n",
       "      <td>2020-01-26</td>\n",
       "      <td>2020-02-10</td>\n",
       "      <td>2020-01-26</td>\n",
       "      <td>NAH4</td>\n",
       "      <td>54273.280000</td>\n",
       "      <td>266 days</td>\n",
       "      <td>2.615027e+05</td>\n",
       "    </tr>\n",
       "    <tr>\n",
       "      <th>1</th>\n",
       "      <td>U001</td>\n",
       "      <td>200980828</td>\n",
       "      <td>BEN E</td>\n",
       "      <td>2019-08-08</td>\n",
       "      <td>2019</td>\n",
       "      <td>1929646410</td>\n",
       "      <td>2019-07-22</td>\n",
       "      <td>2019-08-11</td>\n",
       "      <td>2019-07-22</td>\n",
       "      <td>NAD1</td>\n",
       "      <td>79656.600000</td>\n",
       "      <td>-3 days</td>\n",
       "      <td>2.160000e+06</td>\n",
       "    </tr>\n",
       "    <tr>\n",
       "      <th>2</th>\n",
       "      <td>U001</td>\n",
       "      <td>200792734</td>\n",
       "      <td>MDV/ trust</td>\n",
       "      <td>2019-12-30</td>\n",
       "      <td>2019</td>\n",
       "      <td>1929873765</td>\n",
       "      <td>2019-09-14</td>\n",
       "      <td>2019-09-29</td>\n",
       "      <td>2019-09-14</td>\n",
       "      <td>NAA8</td>\n",
       "      <td>2253.860000</td>\n",
       "      <td>92 days</td>\n",
       "      <td>2.324945e+06</td>\n",
       "    </tr>\n",
       "    <tr>\n",
       "      <th>4</th>\n",
       "      <td>U001</td>\n",
       "      <td>200769623</td>\n",
       "      <td>WAL-MAR foundation</td>\n",
       "      <td>2019-11-25</td>\n",
       "      <td>2019</td>\n",
       "      <td>1930147974</td>\n",
       "      <td>2019-11-13</td>\n",
       "      <td>2019-11-28</td>\n",
       "      <td>2019-11-13</td>\n",
       "      <td>NAH4</td>\n",
       "      <td>33133.290000</td>\n",
       "      <td>-3 days</td>\n",
       "      <td>4.160077e+05</td>\n",
       "    </tr>\n",
       "    <tr>\n",
       "      <th>5</th>\n",
       "      <td>CA02</td>\n",
       "      <td>140106181</td>\n",
       "      <td>THE  corporation</td>\n",
       "      <td>2019-04-12</td>\n",
       "      <td>2019</td>\n",
       "      <td>2960581231</td>\n",
       "      <td>2019-09-20</td>\n",
       "      <td>2019-10-04</td>\n",
       "      <td>2019-09-24</td>\n",
       "      <td>CA10</td>\n",
       "      <td>16582.740014</td>\n",
       "      <td>-175 days</td>\n",
       "      <td>4.473600e+06</td>\n",
       "    </tr>\n",
       "    <tr>\n",
       "      <th>...</th>\n",
       "      <td>...</td>\n",
       "      <td>...</td>\n",
       "      <td>...</td>\n",
       "      <td>...</td>\n",
       "      <td>...</td>\n",
       "      <td>...</td>\n",
       "      <td>...</td>\n",
       "      <td>...</td>\n",
       "      <td>...</td>\n",
       "      <td>...</td>\n",
       "      <td>...</td>\n",
       "      <td>...</td>\n",
       "      <td>...</td>\n",
       "    </tr>\n",
       "    <tr>\n",
       "      <th>49994</th>\n",
       "      <td>U001</td>\n",
       "      <td>200762301</td>\n",
       "      <td>C&amp;S WH trust</td>\n",
       "      <td>2019-07-25</td>\n",
       "      <td>2019</td>\n",
       "      <td>1929600989</td>\n",
       "      <td>2019-10-07</td>\n",
       "      <td>2019-07-25</td>\n",
       "      <td>2019-07-10</td>\n",
       "      <td>NAC6</td>\n",
       "      <td>84780.400000</td>\n",
       "      <td>0 days</td>\n",
       "      <td>-8.487000e+05</td>\n",
       "    </tr>\n",
       "    <tr>\n",
       "      <th>49996</th>\n",
       "      <td>U001</td>\n",
       "      <td>200769623</td>\n",
       "      <td>WAL-MAR co</td>\n",
       "      <td>2019-03-09</td>\n",
       "      <td>2019</td>\n",
       "      <td>1929744070</td>\n",
       "      <td>2019-08-15</td>\n",
       "      <td>2019-08-30</td>\n",
       "      <td>2019-08-15</td>\n",
       "      <td>NAH4</td>\n",
       "      <td>6766.540000</td>\n",
       "      <td>-174 days</td>\n",
       "      <td>-1.242192e+05</td>\n",
       "    </tr>\n",
       "    <tr>\n",
       "      <th>49997</th>\n",
       "      <td>U001</td>\n",
       "      <td>200772595</td>\n",
       "      <td>SAFEW associates</td>\n",
       "      <td>2020-05-03</td>\n",
       "      <td>2020</td>\n",
       "      <td>1930536775</td>\n",
       "      <td>2020-02-19</td>\n",
       "      <td>2020-03-05</td>\n",
       "      <td>2020-02-19</td>\n",
       "      <td>NAA8</td>\n",
       "      <td>6120.860000</td>\n",
       "      <td>59 days</td>\n",
       "      <td>2.139429e+05</td>\n",
       "    </tr>\n",
       "    <tr>\n",
       "      <th>49998</th>\n",
       "      <td>U001</td>\n",
       "      <td>200726979</td>\n",
       "      <td>BJ'S  llc</td>\n",
       "      <td>2019-12-12</td>\n",
       "      <td>2019</td>\n",
       "      <td>1930198546</td>\n",
       "      <td>2019-11-27</td>\n",
       "      <td>2019-12-12</td>\n",
       "      <td>2019-11-27</td>\n",
       "      <td>NAA8</td>\n",
       "      <td>63.480000</td>\n",
       "      <td>0 days</td>\n",
       "      <td>1.789254e+06</td>\n",
       "    </tr>\n",
       "    <tr>\n",
       "      <th>49999</th>\n",
       "      <td>U001</td>\n",
       "      <td>200020431</td>\n",
       "      <td>DEC corp</td>\n",
       "      <td>2019-01-15</td>\n",
       "      <td>2019</td>\n",
       "      <td>1928576325</td>\n",
       "      <td>2019-05-01</td>\n",
       "      <td>2019-01-24</td>\n",
       "      <td>2019-01-01</td>\n",
       "      <td>NAM4</td>\n",
       "      <td>1790.300000</td>\n",
       "      <td>-9 days</td>\n",
       "      <td>-7.757217e+05</td>\n",
       "    </tr>\n",
       "  </tbody>\n",
       "</table>\n",
       "<p>39158 rows × 13 columns</p>\n",
       "</div>"
      ],
      "text/plain": [
       "      business_code cust_number       name_customer clear_date  buisness_year  \\\n",
       "0              U001   200769623        WAL-MAR corp 2020-11-02           2020   \n",
       "1              U001   200980828              BEN E  2019-08-08           2019   \n",
       "2              U001   200792734          MDV/ trust 2019-12-30           2019   \n",
       "4              U001   200769623  WAL-MAR foundation 2019-11-25           2019   \n",
       "5              CA02   140106181    THE  corporation 2019-04-12           2019   \n",
       "...             ...         ...                 ...        ...            ...   \n",
       "49994          U001   200762301        C&S WH trust 2019-07-25           2019   \n",
       "49996          U001   200769623          WAL-MAR co 2019-03-09           2019   \n",
       "49997          U001   200772595    SAFEW associates 2020-05-03           2020   \n",
       "49998          U001   200726979           BJ'S  llc 2019-12-12           2019   \n",
       "49999          U001   200020431            DEC corp 2019-01-15           2019   \n",
       "\n",
       "           doc_id posting_date due_in_date baseline_create_date  \\\n",
       "0      1930438491   2020-01-26  2020-02-10           2020-01-26   \n",
       "1      1929646410   2019-07-22  2019-08-11           2019-07-22   \n",
       "2      1929873765   2019-09-14  2019-09-29           2019-09-14   \n",
       "4      1930147974   2019-11-13  2019-11-28           2019-11-13   \n",
       "5      2960581231   2019-09-20  2019-10-04           2019-09-24   \n",
       "...           ...          ...         ...                  ...   \n",
       "49994  1929600989   2019-10-07  2019-07-25           2019-07-10   \n",
       "49996  1929744070   2019-08-15  2019-08-30           2019-08-15   \n",
       "49997  1930536775   2020-02-19  2020-03-05           2020-02-19   \n",
       "49998  1930198546   2019-11-27  2019-12-12           2019-11-27   \n",
       "49999  1928576325   2019-05-01  2019-01-24           2019-01-01   \n",
       "\n",
       "      cust_payment_terms  converted_usd     Delay     avg_delay  \n",
       "0                   NAH4   54273.280000  266 days  2.615027e+05  \n",
       "1                   NAD1   79656.600000   -3 days  2.160000e+06  \n",
       "2                   NAA8    2253.860000   92 days  2.324945e+06  \n",
       "4                   NAH4   33133.290000   -3 days  4.160077e+05  \n",
       "5                   CA10   16582.740014 -175 days  4.473600e+06  \n",
       "...                  ...            ...       ...           ...  \n",
       "49994               NAC6   84780.400000    0 days -8.487000e+05  \n",
       "49996               NAH4    6766.540000 -174 days -1.242192e+05  \n",
       "49997               NAA8    6120.860000   59 days  2.139429e+05  \n",
       "49998               NAA8      63.480000    0 days  1.789254e+06  \n",
       "49999               NAM4    1790.300000   -9 days -7.757217e+05  \n",
       "\n",
       "[39158 rows x 13 columns]"
      ]
     },
     "execution_count": 54,
     "metadata": {},
     "output_type": "execute_result"
    }
   ],
   "source": [
    "maindata"
   ]
  },
  {
   "cell_type": "markdown",
   "id": "ae24c7bb",
   "metadata": {
    "id": "ae24c7bb"
   },
   "source": [
    "### Since you have created the \"avg_delay\" column from \"Delay\" and \"clear_date\" column, there is no need of these two columns anymore \n",
    "\n",
    "- You are expected to drop \"Delay\" and \"clear_date\" columns from maindata dataframe "
   ]
  },
  {
   "cell_type": "code",
   "execution_count": 55,
   "id": "78a61ab9",
   "metadata": {
    "id": "78a61ab9"
   },
   "outputs": [],
   "source": [
    "maindata.drop(columns=['Delay', 'clear_date'],inplace=True)"
   ]
  },
  {
   "cell_type": "markdown",
   "id": "ae724bfc",
   "metadata": {
    "id": "ae724bfc"
   },
   "source": [
    "# Splitting of Train and the Test Data"
   ]
  },
  {
   "cell_type": "markdown",
   "id": "cb6f0264",
   "metadata": {
    "id": "cb6f0264"
   },
   "source": [
    "### You need to split the \"maindata\" columns into X and y dataframe\n",
    "\n",
    "- Note - y should have the target column i.e. \"avg_delay\" and the other column should be in X\n",
    "\n",
    "- X is going to hold the source fields and y will be going to hold the target fields"
   ]
  },
  {
   "cell_type": "code",
   "execution_count": 56,
   "id": "75ab29ab",
   "metadata": {
    "id": "75ab29ab"
   },
   "outputs": [],
   "source": [
    "y=pd.DataFrame(maindata, columns=['avg_delay'])"
   ]
  },
  {
   "cell_type": "code",
   "execution_count": 57,
   "id": "6412c62b",
   "metadata": {
    "id": "6412c62b"
   },
   "outputs": [],
   "source": [
    "X=pd.DataFrame(maindata, columns=['business_code', 'cust_number', 'name_customer', 'buisness_year', 'doc_id', 'posting_date', 'due_in_date', 'baseline_create_date', 'cust_payment_terms', 'converted_usd'])"
   ]
  },
  {
   "cell_type": "markdown",
   "id": "1c2942bf",
   "metadata": {
    "id": "1c2942bf"
   },
   "source": [
    "#### You are expected to split both the dataframes into train and test format in 60:40 ratio \n",
    "\n",
    "- Note - The expected output should be in \"X_train\", \"X_loc_test\", \"y_train\", \"y_loc_test\" format "
   ]
  },
  {
   "cell_type": "code",
   "execution_count": 58,
   "id": "d92160a5",
   "metadata": {
    "id": "d92160a5"
   },
   "outputs": [],
   "source": [
    "X_train, X_loc_test=train_test_split(X, test_size=0.40, random_state=0)\n",
    "y_train, y_loc_test=train_test_split(y, test_size=0.40, random_state=0)"
   ]
  },
  {
   "cell_type": "markdown",
   "id": "p4OME62pDufR",
   "metadata": {
    "id": "p4OME62pDufR"
   },
   "source": [
    "### Please check for the number of rows and columns of all the new dataframes (all 4)"
   ]
  },
  {
   "cell_type": "code",
   "execution_count": 59,
   "id": "48328d0a",
   "metadata": {
    "id": "48328d0a"
   },
   "outputs": [
    {
     "name": "stdout",
     "output_type": "stream",
     "text": [
      "(23494, 10)\n",
      "(15664, 10)\n",
      "(23494, 1)\n",
      "(15664, 1)\n"
     ]
    }
   ],
   "source": [
    "print(X_train.shape)\n",
    "print(X_loc_test.shape)\n",
    "print(y_train.shape)\n",
    "print(y_loc_test.shape)"
   ]
  },
  {
   "cell_type": "markdown",
   "id": "4a68ed71",
   "metadata": {
    "id": "4a68ed71"
   },
   "source": [
    "### Now you are expected to split the \"X_loc_test\" and \"y_loc_test\" dataset into \"Test\" and \"Validation\" (as the names given below) dataframe with 50:50 format \n",
    "\n",
    "- Note - The expected output should be in \"X_val\", \"X_test\", \"y_val\", \"y_test\" format"
   ]
  },
  {
   "cell_type": "code",
   "execution_count": 60,
   "id": "b56c62f2",
   "metadata": {
    "id": "b56c62f2"
   },
   "outputs": [],
   "source": [
    "X_val, X_test=train_test_split(X_loc_test, test_size=0.50, random_state=0)\n",
    "y_val, y_test=train_test_split(y_loc_test, test_size=0.50, random_state=0)"
   ]
  },
  {
   "cell_type": "markdown",
   "id": "bJTSAskvERH1",
   "metadata": {
    "id": "bJTSAskvERH1"
   },
   "source": [
    "### Please check for the number of rows and columns of all the 4 dataframes "
   ]
  },
  {
   "cell_type": "code",
   "execution_count": 61,
   "id": "845d7564",
   "metadata": {
    "id": "845d7564"
   },
   "outputs": [
    {
     "name": "stdout",
     "output_type": "stream",
     "text": [
      "(7832, 10)\n",
      "(7832, 10)\n",
      "(7832, 1)\n",
      "(7832, 1)\n"
     ]
    }
   ],
   "source": [
    "print(X_val.shape)\n",
    "print(X_test.shape)\n",
    "print(y_val.shape)\n",
    "print(y_test.shape)"
   ]
  },
  {
   "cell_type": "markdown",
   "id": "110fa872",
   "metadata": {
    "id": "110fa872"
   },
   "source": [
    "# Exploratory Data Analysis (EDA) "
   ]
  },
  {
   "cell_type": "markdown",
   "id": "ffc8fe0f",
   "metadata": {
    "id": "ffc8fe0f"
   },
   "source": [
    "### Distribution Plot of the target variable (use the dataframe which contains the target field)\n",
    "\n",
    "- Note - You are expected to make a distribution plot for the target variable "
   ]
  },
  {
   "cell_type": "code",
   "execution_count": 62,
   "id": "ba2bf8ed",
   "metadata": {
    "id": "ba2bf8ed"
   },
   "outputs": [
    {
     "data": {
      "text/plain": [
       "<AxesSubplot:xlabel='avg_delay', ylabel='Density'>"
      ]
     },
     "execution_count": 62,
     "metadata": {},
     "output_type": "execute_result"
    },
    {
     "data": {
      "image/png": "[encoded data removed]",
      "text/plain": [
       "<Figure size 720x432 with 1 Axes>"
      ]
     },
     "metadata": {
      "needs_background": "light"
     },
     "output_type": "display_data"
    },
    {
     "data": {
      "image/png": "[encoded data removed]",
      "text/plain": [
       "<Figure size 432x432 with 1 Axes>"
      ]
     },
     "metadata": {
      "needs_background": "light"
     },
     "output_type": "display_data"
    }
   ],
   "source": [
    "temp_graph=pd.DataFrame(maindata.groupby(['business_code'], axis=0, as_index=False)['avg_delay'].mean())\n",
    "\n",
    "plt.figure(figsize=(10,6))\n",
    "sns.barplot(x=\"business_code\", y=\"avg_delay\",data=temp_graph,linewidth=2.5, facecolor=(1, 1, 1, 0),\n",
    "                 errcolor=\".4\", edgecolor='red')\n",
    "\n",
    "plt.figure(figsize=(6,6))\n",
    "plt.figure(2)\n",
    "sns.distplot(y['avg_delay'],color='blue')"
   ]
  },
  {
   "cell_type": "markdown",
   "id": "d0e323a3",
   "metadata": {
    "id": "d0e323a3"
   },
   "source": [
    "### You are expected to group the X_train dataset on 'name_customer' column with 'doc_id' in the x_train set\n",
    "\n",
    "### Need to store the outcome into a new dataframe \n",
    "\n",
    "- Note code given for groupby statement- X_train.groupby(by=['name_customer'], as_index=False)['doc_id'].count()"
   ]
  },
  {
   "cell_type": "code",
   "execution_count": 63,
   "id": "f7acf0ee",
   "metadata": {
    "id": "f7acf0ee"
   },
   "outputs": [],
   "source": [
    "x_train= pd.DataFrame(X_train.groupby(['name_customer'], axis=0, as_index=False)['doc_id'].count())"
   ]
  },
  {
   "cell_type": "markdown",
   "id": "cA43bFffFt6i",
   "metadata": {
    "id": "cA43bFffFt6i"
   },
   "source": [
    "### You can make another distribution plot of the \"doc_id\" column from x_train"
   ]
  },
  {
   "cell_type": "code",
   "execution_count": 64,
   "id": "9576bf33",
   "metadata": {
    "id": "9576bf33"
   },
   "outputs": [
    {
     "data": {
      "text/plain": [
       "<AxesSubplot:xlabel='count', ylabel='doc_id'>"
      ]
     },
     "execution_count": 64,
     "metadata": {},
     "output_type": "execute_result"
    },
    {
     "data": {
      "image/png": "[encoded data removed]",
      "text/plain": [
       "<Figure size 1440x2160 with 1 Axes>"
      ]
     },
     "metadata": {
      "needs_background": "light"
     },
     "output_type": "display_data"
    }
   ],
   "source": [
    "plt.figure(figsize=(20,30))\n",
    "sns.countplot(y=\"doc_id\", data=x_train, color=\"b\")"
   ]
  },
  {
   "cell_type": "markdown",
   "id": "fba2c44f",
   "metadata": {
    "id": "fba2c44f"
   },
   "source": [
    "#### Create a Distribution plot only for business_year and a seperate distribution plot of \"business_year\" column along with the doc_id\" column\n"
   ]
  },
  {
   "cell_type": "code",
   "execution_count": 65,
   "id": "4fecec77",
   "metadata": {
    "id": "4fecec77"
   },
   "outputs": [
    {
     "data": {
      "text/plain": [
       "<seaborn.axisgrid.FacetGrid at 0x19c68803970>"
      ]
     },
     "execution_count": 65,
     "metadata": {},
     "output_type": "execute_result"
    },
    {
     "data": {
      "image/png": "[encoded data removed]",
      "text/plain": [
       "<Figure size 360x360 with 1 Axes>"
      ]
     },
     "metadata": {
      "needs_background": "light"
     },
     "output_type": "display_data"
    }
   ],
   "source": [
    "sns.catplot(x=\"buisness_year\", kind=\"count\", palette=\"twilight_shifted\", data=maindata)"
   ]
  },
  {
   "cell_type": "code",
   "execution_count": 66,
   "id": "qr1jGhfOKjnw",
   "metadata": {
    "id": "qr1jGhfOKjnw"
   },
   "outputs": [
    {
     "data": {
      "text/plain": [
       "<seaborn.axisgrid.FacetGrid at 0x19c687ea700>"
      ]
     },
     "execution_count": 66,
     "metadata": {},
     "output_type": "execute_result"
    },
    {
     "data": {
      "image/png": "[encoded data removed]",
      "text/plain": [
       "<Figure size 360x360 with 1 Axes>"
      ]
     },
     "metadata": {
      "needs_background": "light"
     },
     "output_type": "display_data"
    }
   ],
   "source": [
    "x_graph= pd.DataFrame(X_train.groupby(['buisness_year'], axis=0, as_index=False)['doc_id'].count())\n",
    "sns.factorplot(x ='buisness_year', y ='doc_id', data = x_graph, kind ='bar')"
   ]
  },
  {
   "cell_type": "markdown",
   "id": "968fbcc9",
   "metadata": {
    "id": "968fbcc9"
   },
   "source": [
    "# Feature Engineering "
   ]
  },
  {
   "cell_type": "markdown",
   "id": "jbh6CyGqH3XE",
   "metadata": {
    "id": "jbh6CyGqH3XE"
   },
   "source": [
    "### Display and describe the X_train dataframe "
   ]
  },
  {
   "cell_type": "code",
   "execution_count": 67,
   "id": "e6bcf307",
   "metadata": {
    "id": "e6bcf307"
   },
   "outputs": [
    {
     "data": {
      "text/html": [
       "<div>\n",
       "<style scoped>\n",
       "    .dataframe tbody tr th:only-of-type {\n",
       "        vertical-align: middle;\n",
       "    }\n",
       "\n",
       "    .dataframe tbody tr th {\n",
       "        vertical-align: top;\n",
       "    }\n",
       "\n",
       "    .dataframe thead th {\n",
       "        text-align: right;\n",
       "    }\n",
       "</style>\n",
       "<table border=\"1\" class=\"dataframe\">\n",
       "  <thead>\n",
       "    <tr style=\"text-align: right;\">\n",
       "      <th></th>\n",
       "      <th>business_code</th>\n",
       "      <th>cust_number</th>\n",
       "      <th>name_customer</th>\n",
       "      <th>buisness_year</th>\n",
       "      <th>doc_id</th>\n",
       "      <th>posting_date</th>\n",
       "      <th>due_in_date</th>\n",
       "      <th>baseline_create_date</th>\n",
       "      <th>cust_payment_terms</th>\n",
       "      <th>converted_usd</th>\n",
       "    </tr>\n",
       "  </thead>\n",
       "  <tbody>\n",
       "    <tr>\n",
       "      <th>45718</th>\n",
       "      <td>U001</td>\n",
       "      <td>200794332</td>\n",
       "      <td>COST foundation</td>\n",
       "      <td>2020</td>\n",
       "      <td>1930448249</td>\n",
       "      <td>2020-01-28</td>\n",
       "      <td>2020-02-12</td>\n",
       "      <td>2020-01-28</td>\n",
       "      <td>NAAX</td>\n",
       "      <td>36273.03</td>\n",
       "    </tr>\n",
       "    <tr>\n",
       "      <th>17966</th>\n",
       "      <td>U001</td>\n",
       "      <td>200706844</td>\n",
       "      <td>WINC trust</td>\n",
       "      <td>2020</td>\n",
       "      <td>1930517131</td>\n",
       "      <td>2020-02-13</td>\n",
       "      <td>2020-02-28</td>\n",
       "      <td>2020-02-13</td>\n",
       "      <td>NAA8</td>\n",
       "      <td>6349.27</td>\n",
       "    </tr>\n",
       "    <tr>\n",
       "      <th>21322</th>\n",
       "      <td>U001</td>\n",
       "      <td>200803720</td>\n",
       "      <td>DEC us</td>\n",
       "      <td>2019</td>\n",
       "      <td>1928589714</td>\n",
       "      <td>2019-08-01</td>\n",
       "      <td>2019-01-24</td>\n",
       "      <td>2019-01-01</td>\n",
       "      <td>NAM4</td>\n",
       "      <td>282.84</td>\n",
       "    </tr>\n",
       "    <tr>\n",
       "      <th>38919</th>\n",
       "      <td>U001</td>\n",
       "      <td>200752302</td>\n",
       "      <td>KROGER</td>\n",
       "      <td>2020</td>\n",
       "      <td>1930508809</td>\n",
       "      <td>2020-12-02</td>\n",
       "      <td>2020-02-27</td>\n",
       "      <td>2020-02-12</td>\n",
       "      <td>NAA8</td>\n",
       "      <td>64749.18</td>\n",
       "    </tr>\n",
       "    <tr>\n",
       "      <th>25191</th>\n",
       "      <td>U001</td>\n",
       "      <td>200974851</td>\n",
       "      <td>RESTA co</td>\n",
       "      <td>2019</td>\n",
       "      <td>1929483483</td>\n",
       "      <td>2019-12-06</td>\n",
       "      <td>2019-06-27</td>\n",
       "      <td>2019-06-12</td>\n",
       "      <td>NAA8</td>\n",
       "      <td>2066.63</td>\n",
       "    </tr>\n",
       "    <tr>\n",
       "      <th>...</th>\n",
       "      <td>...</td>\n",
       "      <td>...</td>\n",
       "      <td>...</td>\n",
       "      <td>...</td>\n",
       "      <td>...</td>\n",
       "      <td>...</td>\n",
       "      <td>...</td>\n",
       "      <td>...</td>\n",
       "      <td>...</td>\n",
       "      <td>...</td>\n",
       "    </tr>\n",
       "    <tr>\n",
       "      <th>26152</th>\n",
       "      <td>U001</td>\n",
       "      <td>200769623</td>\n",
       "      <td>WAL-MAR associates</td>\n",
       "      <td>2019</td>\n",
       "      <td>1930152454</td>\n",
       "      <td>2019-11-14</td>\n",
       "      <td>2019-11-29</td>\n",
       "      <td>2019-11-14</td>\n",
       "      <td>NAH4</td>\n",
       "      <td>3449.63</td>\n",
       "    </tr>\n",
       "    <tr>\n",
       "      <th>40790</th>\n",
       "      <td>U001</td>\n",
       "      <td>200793568</td>\n",
       "      <td>SUPE in</td>\n",
       "      <td>2019</td>\n",
       "      <td>1930222273</td>\n",
       "      <td>2019-06-12</td>\n",
       "      <td>2019-12-21</td>\n",
       "      <td>2019-12-06</td>\n",
       "      <td>NAA8</td>\n",
       "      <td>40591.75</td>\n",
       "    </tr>\n",
       "    <tr>\n",
       "      <th>38558</th>\n",
       "      <td>U001</td>\n",
       "      <td>100036066</td>\n",
       "      <td>GROC associates</td>\n",
       "      <td>2019</td>\n",
       "      <td>1929174676</td>\n",
       "      <td>2019-04-22</td>\n",
       "      <td>2019-05-07</td>\n",
       "      <td>2019-04-22</td>\n",
       "      <td>NAA8</td>\n",
       "      <td>24869.32</td>\n",
       "    </tr>\n",
       "    <tr>\n",
       "      <th>26776</th>\n",
       "      <td>U001</td>\n",
       "      <td>200769623</td>\n",
       "      <td>WAL-MAR associates</td>\n",
       "      <td>2019</td>\n",
       "      <td>1929555422</td>\n",
       "      <td>2019-06-28</td>\n",
       "      <td>2019-07-13</td>\n",
       "      <td>2019-06-28</td>\n",
       "      <td>NAH4</td>\n",
       "      <td>42362.89</td>\n",
       "    </tr>\n",
       "    <tr>\n",
       "      <th>3363</th>\n",
       "      <td>U001</td>\n",
       "      <td>200780383</td>\n",
       "      <td>MEIJ in</td>\n",
       "      <td>2019</td>\n",
       "      <td>1928854993</td>\n",
       "      <td>2019-02-25</td>\n",
       "      <td>2019-03-12</td>\n",
       "      <td>2019-02-25</td>\n",
       "      <td>NAA8</td>\n",
       "      <td>81817.20</td>\n",
       "    </tr>\n",
       "  </tbody>\n",
       "</table>\n",
       "<p>23494 rows × 10 columns</p>\n",
       "</div>"
      ],
      "text/plain": [
       "      business_code cust_number       name_customer  buisness_year  \\\n",
       "45718          U001   200794332     COST foundation           2020   \n",
       "17966          U001   200706844          WINC trust           2020   \n",
       "21322          U001   200803720              DEC us           2019   \n",
       "38919          U001   200752302             KROGER            2020   \n",
       "25191          U001   200974851            RESTA co           2019   \n",
       "...             ...         ...                 ...            ...   \n",
       "26152          U001   200769623  WAL-MAR associates           2019   \n",
       "40790          U001   200793568             SUPE in           2019   \n",
       "38558          U001   100036066     GROC associates           2019   \n",
       "26776          U001   200769623  WAL-MAR associates           2019   \n",
       "3363           U001   200780383             MEIJ in           2019   \n",
       "\n",
       "           doc_id posting_date due_in_date baseline_create_date  \\\n",
       "45718  1930448249   2020-01-28  2020-02-12           2020-01-28   \n",
       "17966  1930517131   2020-02-13  2020-02-28           2020-02-13   \n",
       "21322  1928589714   2019-08-01  2019-01-24           2019-01-01   \n",
       "38919  1930508809   2020-12-02  2020-02-27           2020-02-12   \n",
       "25191  1929483483   2019-12-06  2019-06-27           2019-06-12   \n",
       "...           ...          ...         ...                  ...   \n",
       "26152  1930152454   2019-11-14  2019-11-29           2019-11-14   \n",
       "40790  1930222273   2019-06-12  2019-12-21           2019-12-06   \n",
       "38558  1929174676   2019-04-22  2019-05-07           2019-04-22   \n",
       "26776  1929555422   2019-06-28  2019-07-13           2019-06-28   \n",
       "3363   1928854993   2019-02-25  2019-03-12           2019-02-25   \n",
       "\n",
       "      cust_payment_terms  converted_usd  \n",
       "45718               NAAX       36273.03  \n",
       "17966               NAA8        6349.27  \n",
       "21322               NAM4         282.84  \n",
       "38919               NAA8       64749.18  \n",
       "25191               NAA8        2066.63  \n",
       "...                  ...            ...  \n",
       "26152               NAH4        3449.63  \n",
       "40790               NAA8       40591.75  \n",
       "38558               NAA8       24869.32  \n",
       "26776               NAH4       42362.89  \n",
       "3363                NAA8       81817.20  \n",
       "\n",
       "[23494 rows x 10 columns]"
      ]
     },
     "execution_count": 67,
     "metadata": {},
     "output_type": "execute_result"
    }
   ],
   "source": [
    "X_train"
   ]
  },
  {
   "cell_type": "code",
   "execution_count": 68,
   "id": "08ccc819",
   "metadata": {
    "id": "08ccc819"
   },
   "outputs": [
    {
     "data": {
      "text/html": [
       "<div>\n",
       "<style scoped>\n",
       "    .dataframe tbody tr th:only-of-type {\n",
       "        vertical-align: middle;\n",
       "    }\n",
       "\n",
       "    .dataframe tbody tr th {\n",
       "        vertical-align: top;\n",
       "    }\n",
       "\n",
       "    .dataframe thead th {\n",
       "        text-align: right;\n",
       "    }\n",
       "</style>\n",
       "<table border=\"1\" class=\"dataframe\">\n",
       "  <thead>\n",
       "    <tr style=\"text-align: right;\">\n",
       "      <th></th>\n",
       "      <th>buisness_year</th>\n",
       "      <th>doc_id</th>\n",
       "      <th>converted_usd</th>\n",
       "    </tr>\n",
       "  </thead>\n",
       "  <tbody>\n",
       "    <tr>\n",
       "      <th>count</th>\n",
       "      <td>23494.000000</td>\n",
       "      <td>2.349400e+04</td>\n",
       "      <td>23494.000000</td>\n",
       "    </tr>\n",
       "    <tr>\n",
       "      <th>mean</th>\n",
       "      <td>2019.132247</td>\n",
       "      <td>2.014021e+09</td>\n",
       "      <td>31211.887272</td>\n",
       "    </tr>\n",
       "    <tr>\n",
       "      <th>std</th>\n",
       "      <td>0.338766</td>\n",
       "      <td>2.956842e+08</td>\n",
       "      <td>37042.176439</td>\n",
       "    </tr>\n",
       "    <tr>\n",
       "      <th>min</th>\n",
       "      <td>2019.000000</td>\n",
       "      <td>1.928502e+09</td>\n",
       "      <td>4.380000</td>\n",
       "    </tr>\n",
       "    <tr>\n",
       "      <th>25%</th>\n",
       "      <td>2019.000000</td>\n",
       "      <td>1.929174e+09</td>\n",
       "      <td>4652.319142</td>\n",
       "    </tr>\n",
       "    <tr>\n",
       "      <th>50%</th>\n",
       "      <td>2019.000000</td>\n",
       "      <td>1.929731e+09</td>\n",
       "      <td>17001.365000</td>\n",
       "    </tr>\n",
       "    <tr>\n",
       "      <th>75%</th>\n",
       "      <td>2019.000000</td>\n",
       "      <td>1.930209e+09</td>\n",
       "      <td>46270.849935</td>\n",
       "    </tr>\n",
       "    <tr>\n",
       "      <th>max</th>\n",
       "      <td>2020.000000</td>\n",
       "      <td>9.500000e+09</td>\n",
       "      <td>632134.240000</td>\n",
       "    </tr>\n",
       "  </tbody>\n",
       "</table>\n",
       "</div>"
      ],
      "text/plain": [
       "       buisness_year        doc_id  converted_usd\n",
       "count   23494.000000  2.349400e+04   23494.000000\n",
       "mean     2019.132247  2.014021e+09   31211.887272\n",
       "std         0.338766  2.956842e+08   37042.176439\n",
       "min      2019.000000  1.928502e+09       4.380000\n",
       "25%      2019.000000  1.929174e+09    4652.319142\n",
       "50%      2019.000000  1.929731e+09   17001.365000\n",
       "75%      2019.000000  1.930209e+09   46270.849935\n",
       "max      2020.000000  9.500000e+09  632134.240000"
      ]
     },
     "execution_count": 68,
     "metadata": {},
     "output_type": "execute_result"
    }
   ],
   "source": [
    "X_train.describe()"
   ]
  },
  {
   "cell_type": "markdown",
   "id": "abd7ac8b",
   "metadata": {
    "id": "abd7ac8b"
   },
   "source": [
    "#### The \"business_code\" column inside X_train, is a categorical column, so you need to perform Labelencoder on that particular column\n",
    "\n",
    "- Note - call the Label Encoder from sklearn library and use the fit() function on \"business_code\" column\n",
    "- Note - Please fill in the blanks (two) to complete this code"
   ]
  },
  {
   "cell_type": "code",
   "execution_count": 69,
   "id": "7c223545",
   "metadata": {
    "id": "7c223545"
   },
   "outputs": [
    {
     "data": {
      "text/html": [
       "<style>#sk-container-id-1 {color: black;background-color: white;}#sk-container-id-1 pre{padding: 0;}#sk-container-id-1 div.sk-toggleable {background-color: white;}#sk-container-id-1 label.sk-toggleable__label {cursor: pointer;display: block;width: 100%;margin-bottom: 0;padding: 0.3em;box-sizing: border-box;text-align: center;}#sk-container-id-1 label.sk-toggleable__label-arrow:before {content: \"▸\";float: left;margin-right: 0.25em;color: #696969;}#sk-container-id-1 label.sk-toggleable__label-arrow:hover:before {color: black;}#sk-container-id-1 div.sk-estimator:hover label.sk-toggleable__label-arrow:before {color: black;}#sk-container-id-1 div.sk-toggleable__content {max-height: 0;max-width: 0;overflow: hidden;text-align: left;background-color: #f0f8ff;}#sk-container-id-1 div.sk-toggleable__content pre {margin: 0.2em;color: black;border-radius: 0.25em;background-color: #f0f8ff;}#sk-container-id-1 input.sk-toggleable__control:checked~div.sk-toggleable__content {max-height: 200px;max-width: 100%;overflow: auto;}#sk-container-id-1 input.sk-toggleable__control:checked~label.sk-toggleable__label-arrow:before {content: \"▾\";}#sk-container-id-1 div.sk-estimator input.sk-toggleable__control:checked~label.sk-toggleable__label {background-color: #d4ebff;}#sk-container-id-1 div.sk-label input.sk-toggleable__control:checked~label.sk-toggleable__label {background-color: #d4ebff;}#sk-container-id-1 input.sk-hidden--visually {border: 0;clip: rect(1px 1px 1px 1px);clip: rect(1px, 1px, 1px, 1px);height: 1px;margin: -1px;overflow: hidden;padding: 0;position: absolute;width: 1px;}#sk-container-id-1 div.sk-estimator {font-family: monospace;background-color: #f0f8ff;border: 1px dotted black;border-radius: 0.25em;box-sizing: border-box;margin-bottom: 0.5em;}#sk-container-id-1 div.sk-estimator:hover {background-color: #d4ebff;}#sk-container-id-1 div.sk-parallel-item::after {content: \"\";width: 100%;border-bottom: 1px solid gray;flex-grow: 1;}#sk-container-id-1 div.sk-label:hover label.sk-toggleable__label {background-color: #d4ebff;}#sk-container-id-1 div.sk-serial::before {content: \"\";position: absolute;border-left: 1px solid gray;box-sizing: border-box;top: 0;bottom: 0;left: 50%;z-index: 0;}#sk-container-id-1 div.sk-serial {display: flex;flex-direction: column;align-items: center;background-color: white;padding-right: 0.2em;padding-left: 0.2em;position: relative;}#sk-container-id-1 div.sk-item {position: relative;z-index: 1;}#sk-container-id-1 div.sk-parallel {display: flex;align-items: stretch;justify-content: center;background-color: white;position: relative;}#sk-container-id-1 div.sk-item::before, #sk-container-id-1 div.sk-parallel-item::before {content: \"\";position: absolute;border-left: 1px solid gray;box-sizing: border-box;top: 0;bottom: 0;left: 50%;z-index: -1;}#sk-container-id-1 div.sk-parallel-item {display: flex;flex-direction: column;z-index: 1;position: relative;background-color: white;}#sk-container-id-1 div.sk-parallel-item:first-child::after {align-self: flex-end;width: 50%;}#sk-container-id-1 div.sk-parallel-item:last-child::after {align-self: flex-start;width: 50%;}#sk-container-id-1 div.sk-parallel-item:only-child::after {width: 0;}#sk-container-id-1 div.sk-dashed-wrapped {border: 1px dashed gray;margin: 0 0.4em 0.5em 0.4em;box-sizing: border-box;padding-bottom: 0.4em;background-color: white;}#sk-container-id-1 div.sk-label label {font-family: monospace;font-weight: bold;display: inline-block;line-height: 1.2em;}#sk-container-id-1 div.sk-label-container {text-align: center;}#sk-container-id-1 div.sk-container {/* jupyter's `normalize.less` sets `[hidden] { display: none; }` but bootstrap.min.css set `[hidden] { display: none !important; }` so we also need the `!important` here to be able to override the default hidden behavior on the sphinx rendered scikit-learn.org. See: https://github.com/scikit-learn/scikit-learn/issues/21755 */display: inline-block !important;position: relative;}#sk-container-id-1 div.sk-text-repr-fallback {display: none;}</style><div id=\"sk-container-id-1\" class=\"sk-top-container\"><div class=\"sk-text-repr-fallback\"><pre>LabelEncoder()</pre><b>In a Jupyter environment, please rerun this cell to show the HTML representation or trust the notebook. <br />On GitHub, the HTML representation is unable to render, please try loading this page with nbviewer.org.</b></div><div class=\"sk-container\" hidden><div class=\"sk-item\"><div class=\"sk-estimator sk-toggleable\"><input class=\"sk-toggleable__control sk-hidden--visually\" id=\"sk-estimator-id-1\" type=\"checkbox\" checked><label for=\"sk-estimator-id-1\" class=\"sk-toggleable__label sk-toggleable__label-arrow\">LabelEncoder</label><div class=\"sk-toggleable__content\"><pre>LabelEncoder()</pre></div></div></div></div></div>"
      ],
      "text/plain": [
       "LabelEncoder()"
      ]
     },
     "execution_count": 69,
     "metadata": {},
     "output_type": "execute_result"
    }
   ],
   "source": [
    "from sklearn.preprocessing import LabelEncoder\n",
    "business_coder = LabelEncoder()\n",
    "business_coder.fit(X_train['business_code'])"
   ]
  },
  {
   "cell_type": "markdown",
   "id": "f86f7d9c",
   "metadata": {
    "id": "f86f7d9c"
   },
   "source": [
    "#### You are expected to store the value into a new column i.e. \"business_code_enc\"\n",
    "\n",
    "- Note - For Training set you are expected to use fit_trainsform()\n",
    "- Note - For Test set you are expected to use the trainsform()\n",
    "- Note - For Validation set you are expected to use the trainsform()\n",
    "\n",
    "\n",
    "- Partial code is provided, please fill in the blanks "
   ]
  },
  {
   "cell_type": "code",
   "execution_count": 70,
   "id": "4269c307",
   "metadata": {
    "id": "4269c307"
   },
   "outputs": [],
   "source": [
    "X_train['business_code_enc'] = business_coder.fit_transform(X_train['business_code'])"
   ]
  },
  {
   "cell_type": "code",
   "execution_count": 71,
   "id": "70a53712",
   "metadata": {
    "id": "70a53712"
   },
   "outputs": [],
   "source": [
    "X_val['business_code_enc'] = business_coder.transform(X_val['business_code'])\n",
    "X_test['business_code_enc'] = business_coder.transform(X_test['business_code'])"
   ]
  },
  {
   "cell_type": "markdown",
   "id": "gdNYxTkqNfmz",
   "metadata": {
    "id": "gdNYxTkqNfmz"
   },
   "source": [
    "### Display \"business_code\" and \"business_code_enc\" together from X_train dataframe "
   ]
  },
  {
   "cell_type": "code",
   "execution_count": 72,
   "id": "1196a002",
   "metadata": {
    "id": "1196a002"
   },
   "outputs": [
    {
     "data": {
      "text/html": [
       "<div>\n",
       "<style scoped>\n",
       "    .dataframe tbody tr th:only-of-type {\n",
       "        vertical-align: middle;\n",
       "    }\n",
       "\n",
       "    .dataframe tbody tr th {\n",
       "        vertical-align: top;\n",
       "    }\n",
       "\n",
       "    .dataframe thead th {\n",
       "        text-align: right;\n",
       "    }\n",
       "</style>\n",
       "<table border=\"1\" class=\"dataframe\">\n",
       "  <thead>\n",
       "    <tr style=\"text-align: right;\">\n",
       "      <th></th>\n",
       "      <th>business_code</th>\n",
       "      <th>business_code_enc</th>\n",
       "    </tr>\n",
       "  </thead>\n",
       "  <tbody>\n",
       "    <tr>\n",
       "      <th>45718</th>\n",
       "      <td>U001</td>\n",
       "      <td>1</td>\n",
       "    </tr>\n",
       "    <tr>\n",
       "      <th>17966</th>\n",
       "      <td>U001</td>\n",
       "      <td>1</td>\n",
       "    </tr>\n",
       "    <tr>\n",
       "      <th>21322</th>\n",
       "      <td>U001</td>\n",
       "      <td>1</td>\n",
       "    </tr>\n",
       "    <tr>\n",
       "      <th>38919</th>\n",
       "      <td>U001</td>\n",
       "      <td>1</td>\n",
       "    </tr>\n",
       "    <tr>\n",
       "      <th>25191</th>\n",
       "      <td>U001</td>\n",
       "      <td>1</td>\n",
       "    </tr>\n",
       "    <tr>\n",
       "      <th>...</th>\n",
       "      <td>...</td>\n",
       "      <td>...</td>\n",
       "    </tr>\n",
       "    <tr>\n",
       "      <th>26152</th>\n",
       "      <td>U001</td>\n",
       "      <td>1</td>\n",
       "    </tr>\n",
       "    <tr>\n",
       "      <th>40790</th>\n",
       "      <td>U001</td>\n",
       "      <td>1</td>\n",
       "    </tr>\n",
       "    <tr>\n",
       "      <th>38558</th>\n",
       "      <td>U001</td>\n",
       "      <td>1</td>\n",
       "    </tr>\n",
       "    <tr>\n",
       "      <th>26776</th>\n",
       "      <td>U001</td>\n",
       "      <td>1</td>\n",
       "    </tr>\n",
       "    <tr>\n",
       "      <th>3363</th>\n",
       "      <td>U001</td>\n",
       "      <td>1</td>\n",
       "    </tr>\n",
       "  </tbody>\n",
       "</table>\n",
       "<p>23494 rows × 2 columns</p>\n",
       "</div>"
      ],
      "text/plain": [
       "      business_code  business_code_enc\n",
       "45718          U001                  1\n",
       "17966          U001                  1\n",
       "21322          U001                  1\n",
       "38919          U001                  1\n",
       "25191          U001                  1\n",
       "...             ...                ...\n",
       "26152          U001                  1\n",
       "40790          U001                  1\n",
       "38558          U001                  1\n",
       "26776          U001                  1\n",
       "3363           U001                  1\n",
       "\n",
       "[23494 rows x 2 columns]"
      ]
     },
     "execution_count": 72,
     "metadata": {},
     "output_type": "execute_result"
    }
   ],
   "source": [
    "X_train[['business_code', 'business_code_enc']]"
   ]
  },
  {
   "cell_type": "markdown",
   "id": "11477224",
   "metadata": {
    "id": "11477224"
   },
   "source": [
    "#### Create a function called \"custom\" for dropping the columns 'business_code' from train, test and validation dataframe\n",
    "\n",
    "- Note - Fill in the blank to complete the code"
   ]
  },
  {
   "cell_type": "code",
   "execution_count": 73,
   "id": "1052868a",
   "metadata": {
    "id": "1052868a"
   },
   "outputs": [],
   "source": [
    "def custom(col ,traindf = X_train,valdf = X_val,testdf = X_test):\n",
    "    traindf.drop(col, axis =1,inplace=True)\n",
    "    valdf.drop(col,axis=1 , inplace=True)\n",
    "    testdf.drop(col,axis=1 , inplace=True)\n",
    "\n",
    "    return traindf,valdf ,testdf"
   ]
  },
  {
   "cell_type": "markdown",
   "id": "rI--ZuMbNLne",
   "metadata": {
    "id": "rI--ZuMbNLne"
   },
   "source": [
    "### Call the function by passing the column name which needed to be dropped from train, test and validation dataframes. Return updated dataframes to be stored in X_train ,X_val, X_test  \n",
    "\n",
    "- Note = Fill in the blank to complete the code "
   ]
  },
  {
   "cell_type": "code",
   "execution_count": 74,
   "id": "1a0f955c",
   "metadata": {
    "id": "1a0f955c"
   },
   "outputs": [],
   "source": [
    "X_train, X_val, X_test = custom(['business_code'])"
   ]
  },
  {
   "cell_type": "markdown",
   "id": "28b5b27e",
   "metadata": {
    "id": "28b5b27e"
   },
   "source": [
    "### Manually replacing str values with numbers, Here we are trying manually replace the customer numbers with some specific values like, 'CCCA' as 1, 'CCU' as 2 and so on. Also we are converting the datatype \"cust_number\" field to int type.\n",
    "\n",
    "- We are doing it for all the three dataframes as shown below. This is fully completed code. No need to modify anything here \n",
    "\n"
   ]
  },
  {
   "cell_type": "code",
   "execution_count": 75,
   "id": "85dd129e",
   "metadata": {
    "id": "85dd129e"
   },
   "outputs": [],
   "source": [
    "X_train['cust_number'] = X_train['cust_number'].str.replace('CCCA',\"1\").str.replace('CCU',\"2\").str.replace('CC',\"3\").astype(int)\n",
    "X_test['cust_number'] = X_test['cust_number'].str.replace('CCCA',\"1\").str.replace('CCU',\"2\").str.replace('CC',\"3\").astype(int)\n",
    "X_val['cust_number'] = X_val['cust_number'].str.replace('CCCA',\"1\").str.replace('CCU',\"2\").str.replace('CC',\"3\").astype(int)\n"
   ]
  },
  {
   "cell_type": "markdown",
   "id": "U8vA-zmdPnJ8",
   "metadata": {
    "id": "U8vA-zmdPnJ8"
   },
   "source": [
    "#### It differs from LabelEncoder by handling new classes and providing a value for it [Unknown]. Unknown will be added in fit and transform will take care of new item. It gives unknown class id.\n",
    "\n",
    "#### This will fit the encoder for all the unique values and introduce unknown value\n",
    "\n",
    "- Note - Keep this code as it is, we will be using this later on.  "
   ]
  },
  {
   "cell_type": "code",
   "execution_count": 76,
   "id": "151f48ba",
   "metadata": {
    "id": "151f48ba"
   },
   "outputs": [],
   "source": [
    "#For encoding unseen labels\n",
    "class EncoderExt(object):\n",
    "    def __init__(self):\n",
    "        self.label_encoder = LabelEncoder()\n",
    "    def fit(self, data_list):\n",
    "        self.label_encoder = self.label_encoder.fit(list(data_list) + ['Unknown'])\n",
    "        self.classes_ = self.label_encoder.classes_\n",
    "        return self\n",
    "    def transform(self, data_list):\n",
    "        new_data_list = list(data_list)\n",
    "        for unique_item in np.unique(data_list):\n",
    "            if unique_item not in self.label_encoder.classes_:\n",
    "                new_data_list = ['Unknown' if x==unique_item else x for x in new_data_list]\n",
    "        return self.label_encoder.transform(new_data_list)"
   ]
  },
  {
   "cell_type": "markdown",
   "id": "254c64e6",
   "metadata": {
    "id": "254c64e6"
   },
   "source": [
    "### Use the user define Label Encoder function called \"EncoderExt\" for the \"name_customer\" column\n",
    "\n",
    "- Note - Keep the code as it is, no need to change"
   ]
  },
  {
   "cell_type": "code",
   "execution_count": 77,
   "id": "62b17eff",
   "metadata": {
    "id": "62b17eff"
   },
   "outputs": [],
   "source": [
    "label_encoder = EncoderExt()\n",
    "label_encoder.fit(X_train['name_customer'])\n",
    "X_train['name_customer_enc']=label_encoder.transform(X_train['name_customer'])\n",
    "X_val['name_customer_enc']=label_encoder.transform(X_val['name_customer'])\n",
    "X_test['name_customer_enc']=label_encoder.transform(X_test['name_customer'])"
   ]
  },
  {
   "cell_type": "markdown",
   "id": "mK7LMoy2QZhy",
   "metadata": {
    "id": "mK7LMoy2QZhy"
   },
   "source": [
    "### As we have created the a new column \"name_customer_enc\", so now drop \"name_customer\" column from all three dataframes\n",
    "\n",
    "- Note - Keep the code as it is, no need to change"
   ]
  },
  {
   "cell_type": "code",
   "execution_count": 78,
   "id": "ef85f1c0",
   "metadata": {
    "id": "ef85f1c0"
   },
   "outputs": [],
   "source": [
    "X_train ,X_val, X_test = custom(['name_customer'])"
   ]
  },
  {
   "cell_type": "markdown",
   "id": "3aa09d22",
   "metadata": {
    "id": "3aa09d22"
   },
   "source": [
    "### Using Label Encoder for the \"cust_payment_terms\" column\n",
    "\n",
    "- Note - Keep the code as it is, no need to change"
   ]
  },
  {
   "cell_type": "code",
   "execution_count": 79,
   "id": "6f9ab642",
   "metadata": {
    "id": "6f9ab642"
   },
   "outputs": [],
   "source": [
    "label_encoder1 = EncoderExt()\n",
    "label_encoder1.fit(X_train['cust_payment_terms'])\n",
    "X_train['cust_payment_terms_enc']=label_encoder1.transform(X_train['cust_payment_terms'])\n",
    "X_val['cust_payment_terms_enc']=label_encoder1.transform(X_val['cust_payment_terms'])\n",
    "X_test['cust_payment_terms_enc']=label_encoder1.transform(X_test['cust_payment_terms'])"
   ]
  },
  {
   "cell_type": "code",
   "execution_count": 80,
   "id": "55f9a7c2",
   "metadata": {
    "id": "55f9a7c2"
   },
   "outputs": [],
   "source": [
    "X_train ,X_val, X_test = custom(['cust_payment_terms'])"
   ]
  },
  {
   "cell_type": "markdown",
   "id": "0788f42b",
   "metadata": {
    "id": "0788f42b"
   },
   "source": [
    "## Check the datatype of all the columns of Train, Test and Validation dataframes realted to X\n",
    "\n",
    "- Note - You are expected yo use dtype"
   ]
  },
  {
   "cell_type": "code",
   "execution_count": 81,
   "id": "bc79a316",
   "metadata": {
    "id": "bc79a316"
   },
   "outputs": [
    {
     "data": {
      "text/plain": [
       "cust_number                        int32\n",
       "buisness_year                      int64\n",
       "doc_id                             int64\n",
       "posting_date              datetime64[ns]\n",
       "due_in_date               datetime64[ns]\n",
       "baseline_create_date      datetime64[ns]\n",
       "converted_usd                    float64\n",
       "business_code_enc                  int32\n",
       "name_customer_enc                  int32\n",
       "cust_payment_terms_enc             int32\n",
       "dtype: object"
      ]
     },
     "execution_count": 81,
     "metadata": {},
     "output_type": "execute_result"
    }
   ],
   "source": [
    "X_train.dtypes"
   ]
  },
  {
   "cell_type": "code",
   "execution_count": 82,
   "id": "b33242d8",
   "metadata": {
    "id": "b33242d8"
   },
   "outputs": [
    {
     "data": {
      "text/plain": [
       "cust_number                        int32\n",
       "buisness_year                      int64\n",
       "doc_id                             int64\n",
       "posting_date              datetime64[ns]\n",
       "due_in_date               datetime64[ns]\n",
       "baseline_create_date      datetime64[ns]\n",
       "converted_usd                    float64\n",
       "business_code_enc                  int32\n",
       "name_customer_enc                  int32\n",
       "cust_payment_terms_enc             int32\n",
       "dtype: object"
      ]
     },
     "execution_count": 82,
     "metadata": {},
     "output_type": "execute_result"
    }
   ],
   "source": [
    "X_val.dtypes"
   ]
  },
  {
   "cell_type": "code",
   "execution_count": 83,
   "id": "6bd4da71",
   "metadata": {
    "id": "6bd4da71"
   },
   "outputs": [
    {
     "data": {
      "text/plain": [
       "cust_number                        int32\n",
       "buisness_year                      int64\n",
       "doc_id                             int64\n",
       "posting_date              datetime64[ns]\n",
       "due_in_date               datetime64[ns]\n",
       "baseline_create_date      datetime64[ns]\n",
       "converted_usd                    float64\n",
       "business_code_enc                  int32\n",
       "name_customer_enc                  int32\n",
       "cust_payment_terms_enc             int32\n",
       "dtype: object"
      ]
     },
     "execution_count": 83,
     "metadata": {},
     "output_type": "execute_result"
    }
   ],
   "source": [
    "X_test.dtypes"
   ]
  },
  {
   "cell_type": "markdown",
   "id": "LVfvuPiWPeMB",
   "metadata": {
    "id": "LVfvuPiWPeMB"
   },
   "source": [
    "### From the above output you can notice their are multiple date columns with datetime format\n",
    "\n",
    "### In order to pass it into our model, we need to convert it into float format"
   ]
  },
  {
   "cell_type": "markdown",
   "id": "9d344db9",
   "metadata": {
    "id": "9d344db9"
   },
   "source": [
    "### You need to extract day, month and year from the \"posting_date\" column \n",
    "\n",
    "1.   Extract days from \"posting_date\" column and store it into a new column \"day_of_postingdate\" for train, test and validation dataset \n",
    "2.   Extract months from \"posting_date\" column and store it into a new column \"month_of_postingdate\" for train, test and validation dataset\n",
    "3.   Extract year from \"posting_date\" column and store it into a new column \"year_of_postingdate\" for train, test and validation dataset \n",
    "\n",
    "\n",
    "\n",
    "- Note - You are supposed yo use \n",
    "\n",
    "*   dt.day\n",
    "*   dt.month\n",
    "*   dt.year\n",
    "\n",
    "\n",
    "\n",
    "\n"
   ]
  },
  {
   "cell_type": "code",
   "execution_count": 84,
   "id": "6e3cdfd6",
   "metadata": {
    "id": "6e3cdfd6"
   },
   "outputs": [],
   "source": [
    "X_train['day_of_postingdate'] = X_train['posting_date'].dt.day\n",
    "X_train['month_of_postingdate'] = X_train['posting_date'].dt.month\n",
    "X_train['year_of_postingdate'] = X_train['posting_date'].dt.year\n",
    "\n",
    "X_val['day_of_postingdate'] = X_val['posting_date'].dt.day\n",
    "X_val['month_of_postingdate'] = X_val['posting_date'].dt.month\n",
    "X_val['year_of_postingdate'] = X_val['posting_date'].dt.year\n",
    "\n",
    "\n",
    "X_test['day_of_postingdate'] = X_test['posting_date'].dt.day\n",
    "X_test['month_of_postingdate'] = X_test['posting_date'].dt.month\n",
    "X_test['year_of_postingdate'] = X_test['posting_date'].dt.year"
   ]
  },
  {
   "cell_type": "markdown",
   "id": "GyI-F853Rxa7",
   "metadata": {
    "id": "GyI-F853Rxa7"
   },
   "source": [
    "### pass the \"posting_date\" column into the Custom function for train, test and validation dataset"
   ]
  },
  {
   "cell_type": "code",
   "execution_count": 85,
   "id": "FQHtQkrnRx_V",
   "metadata": {
    "id": "FQHtQkrnRx_V"
   },
   "outputs": [],
   "source": [
    "X_train ,X_val, X_test = custom(['posting_date'])"
   ]
  },
  {
   "cell_type": "markdown",
   "id": "GMnCaEcKReSw",
   "metadata": {
    "id": "GMnCaEcKReSw"
   },
   "source": [
    "### You need to extract day, month and year from the \"baseline_create_date\" column \n",
    "\n",
    "1.   Extract days from \"baseline_create_date\" column and store it into a new column \"day_of_createdate\" for train, test and validation dataset \n",
    "2.   Extract months from \"baseline_create_date\" column and store it into a new column \"month_of_createdate\" for train, test and validation dataset\n",
    "3.   Extract year from \"baseline_create_date\" column and store it into a new column \"year_of_createdate\" for train, test and validation dataset \n",
    "\n",
    "\n",
    "\n",
    "- Note - You are supposed yo use \n",
    "\n",
    "*   dt.day\n",
    "*   dt.month\n",
    "*   dt.year\n",
    "\n",
    "\n",
    "- Note - Do as it is been shown in the previous two code boxes"
   ]
  },
  {
   "cell_type": "markdown",
   "id": "ee4d83d0",
   "metadata": {
    "id": "ee4d83d0"
   },
   "source": [
    "### Extracting Day, Month, Year for 'baseline_create_date' column"
   ]
  },
  {
   "cell_type": "code",
   "execution_count": 86,
   "id": "32b240e1",
   "metadata": {
    "id": "32b240e1"
   },
   "outputs": [],
   "source": [
    "X_train['day_of_createdate'] = X_train['baseline_create_date'].dt.day\n",
    "X_train['month_of_createdate'] = X_train['baseline_create_date'].dt.month\n",
    "X_train['year_of_createdate'] = X_train['baseline_create_date'].dt.year\n",
    "\n",
    "X_val['day_of_createdate'] = X_val['baseline_create_date'].dt.day\n",
    "X_val['month_of_createdate'] = X_val['baseline_create_date'].dt.month\n",
    "X_val['year_of_createdate'] = X_val['baseline_create_date'].dt.year\n",
    "\n",
    "X_test['day_of_createdate'] = X_test['baseline_create_date'].dt.day\n",
    "X_test['month_of_createdate'] = X_test['baseline_create_date'].dt.month\n",
    "X_test['year_of_createdate'] = X_test['baseline_create_date'].dt.year"
   ]
  },
  {
   "cell_type": "markdown",
   "id": "cFgwkS5rSDDs",
   "metadata": {
    "id": "cFgwkS5rSDDs"
   },
   "source": [
    "### pass the \"baseline_create_date\" column into the Custom function for train, test and validation dataset"
   ]
  },
  {
   "cell_type": "code",
   "execution_count": 87,
   "id": "RGYa2BEQSDg3",
   "metadata": {
    "id": "RGYa2BEQSDg3"
   },
   "outputs": [],
   "source": [
    "X_train ,X_val, X_test = custom(['baseline_create_date'])"
   ]
  },
  {
   "cell_type": "markdown",
   "id": "77c7a0df",
   "metadata": {
    "id": "77c7a0df"
   },
   "source": [
    "### You need to extract day, month and year from the \"due_in_date\" column \n",
    "\n",
    "1.   Extract days from \"due_in_date\" column and store it into a new column \"day_of_due\" for train, test and validation dataset \n",
    "2.   Extract months from \"due_in_date\" column and store it into a new column \"month_of_due\" for train, test and validation dataset\n",
    "3.   Extract year from \"due_in_date\" column and store it into a new column \"year_of_due\" for train, test and validation dataset \n",
    "\n",
    "\n",
    "\n",
    "- Note - You are supposed yo use \n",
    "\n",
    "*   dt.day\n",
    "*   dt.month\n",
    "*   dt.year\n",
    "\n",
    "- Note - Do as it is been shown in the previous code"
   ]
  },
  {
   "cell_type": "code",
   "execution_count": 88,
   "id": "5c745547",
   "metadata": {
    "id": "5c745547"
   },
   "outputs": [],
   "source": [
    "X_train['day_of_due'] = X_train['due_in_date'].dt.day\n",
    "X_train['month_of_due'] = X_train['due_in_date'].dt.month\n",
    "X_train['year_of_due'] = X_train['due_in_date'].dt.year\n",
    "\n",
    "X_val['day_of_due'] = X_val['due_in_date'].dt.day\n",
    "X_val['month_of_due'] = X_val['due_in_date'].dt.month\n",
    "X_val['year_of_due'] = X_val['due_in_date'].dt.year\n",
    "\n",
    "X_test['day_of_due'] = X_test['due_in_date'].dt.day\n",
    "X_test['month_of_due'] = X_test['due_in_date'].dt.month\n",
    "X_test['year_of_due'] = X_test['due_in_date'].dt.year"
   ]
  },
  {
   "cell_type": "markdown",
   "id": "FYLLzulGSvRd",
   "metadata": {
    "id": "FYLLzulGSvRd"
   },
   "source": [
    "pass the \"due_in_date\" column into the Custom function for train, test and validation dataset"
   ]
  },
  {
   "cell_type": "code",
   "execution_count": 89,
   "id": "1-s6QuY9Svrh",
   "metadata": {
    "id": "1-s6QuY9Svrh"
   },
   "outputs": [],
   "source": [
    "X_train ,X_val, X_test = custom(['due_in_date'])"
   ]
  },
  {
   "cell_type": "markdown",
   "id": "1ae5d052",
   "metadata": {
    "id": "1ae5d052"
   },
   "source": [
    "### Check for the datatypes for train, test and validation set again\n",
    "\n",
    "- Note - all the data type should be in either int64 or float64 format \n"
   ]
  },
  {
   "cell_type": "code",
   "execution_count": 90,
   "id": "aee9d828",
   "metadata": {
    "id": "aee9d828"
   },
   "outputs": [
    {
     "name": "stdout",
     "output_type": "stream",
     "text": [
      "cust_number                 int32\n",
      "buisness_year               int64\n",
      "doc_id                      int64\n",
      "converted_usd             float64\n",
      "business_code_enc           int32\n",
      "name_customer_enc           int32\n",
      "cust_payment_terms_enc      int32\n",
      "day_of_postingdate          int64\n",
      "month_of_postingdate        int64\n",
      "year_of_postingdate         int64\n",
      "day_of_createdate           int64\n",
      "month_of_createdate         int64\n",
      "year_of_createdate          int64\n",
      "day_of_due                  int64\n",
      "month_of_due                int64\n",
      "year_of_due                 int64\n",
      "dtype: object\n",
      "cust_number                 int32\n",
      "buisness_year               int64\n",
      "doc_id                      int64\n",
      "converted_usd             float64\n",
      "business_code_enc           int32\n",
      "name_customer_enc           int32\n",
      "cust_payment_terms_enc      int32\n",
      "day_of_postingdate          int64\n",
      "month_of_postingdate        int64\n",
      "year_of_postingdate         int64\n",
      "day_of_createdate           int64\n",
      "month_of_createdate         int64\n",
      "year_of_createdate          int64\n",
      "day_of_due                  int64\n",
      "month_of_due                int64\n",
      "year_of_due                 int64\n",
      "dtype: object\n",
      "cust_number                 int32\n",
      "buisness_year               int64\n",
      "doc_id                      int64\n",
      "converted_usd             float64\n",
      "business_code_enc           int32\n",
      "name_customer_enc           int32\n",
      "cust_payment_terms_enc      int32\n",
      "day_of_postingdate          int64\n",
      "month_of_postingdate        int64\n",
      "year_of_postingdate         int64\n",
      "day_of_createdate           int64\n",
      "month_of_createdate         int64\n",
      "year_of_createdate          int64\n",
      "day_of_due                  int64\n",
      "month_of_due                int64\n",
      "year_of_due                 int64\n",
      "dtype: object\n"
     ]
    }
   ],
   "source": [
    "print(X_train.dtypes)\n",
    "print(X_val.dtypes)\n",
    "print(X_test.dtypes)"
   ]
  },
  {
   "cell_type": "markdown",
   "id": "65810f55",
   "metadata": {
    "id": "65810f55"
   },
   "source": [
    "# Feature Selection"
   ]
  },
  {
   "cell_type": "markdown",
   "id": "4bb1ad9f",
   "metadata": {
    "id": "4bb1ad9f"
   },
   "source": [
    "### Filter Method\n",
    "\n",
    "- Calling the VarianceThreshold Function \n",
    "- Note - Keep the code as it is, no need to change "
   ]
  },
  {
   "cell_type": "code",
   "execution_count": 91,
   "id": "e882509f",
   "metadata": {
    "id": "e882509f"
   },
   "outputs": [
    {
     "data": {
      "text/plain": [
       "16"
      ]
     },
     "execution_count": 91,
     "metadata": {},
     "output_type": "execute_result"
    }
   ],
   "source": [
    "from sklearn.feature_selection import VarianceThreshold\n",
    "constant_filter = VarianceThreshold(threshold=0)\n",
    "constant_filter.fit(X_train)\n",
    "len(X_train.columns[constant_filter.get_support()])"
   ]
  },
  {
   "cell_type": "markdown",
   "id": "V9531H3jR-W2",
   "metadata": {
    "id": "V9531H3jR-W2"
   },
   "source": [
    "- Note - Keep the code as it is, no need to change \n"
   ]
  },
  {
   "cell_type": "code",
   "execution_count": 92,
   "id": "c77c12e1",
   "metadata": {
    "id": "c77c12e1"
   },
   "outputs": [
    {
     "name": "stdout",
     "output_type": "stream",
     "text": [
      "0\n"
     ]
    }
   ],
   "source": [
    "constant_columns = [column for column in X_train.columns\n",
    "                    if column not in X_train.columns[constant_filter.get_support()]]\n",
    "print(len(constant_columns))"
   ]
  },
  {
   "cell_type": "markdown",
   "id": "6d9b8610",
   "metadata": {
    "id": "6d9b8610"
   },
   "source": [
    "- transpose the feature matrice\n",
    "- print the number of duplicated features\n",
    "- select the duplicated features columns names\n",
    "\n",
    "- Note - Keep the code as it is, no need to change \n"
   ]
  },
  {
   "cell_type": "code",
   "execution_count": 93,
   "id": "0fb7db95",
   "metadata": {
    "id": "0fb7db95"
   },
   "outputs": [
    {
     "name": "stdout",
     "output_type": "stream",
     "text": [
      "0\n"
     ]
    }
   ],
   "source": [
    "x_train_T = X_train.T\n",
    "print(x_train_T.duplicated().sum())\n",
    "duplicated_columns = x_train_T[x_train_T.duplicated()].index.values"
   ]
  },
  {
   "cell_type": "markdown",
   "id": "510fa831",
   "metadata": {
    "id": "510fa831"
   },
   "source": [
    "### Filtering depending upon correlation matrix value\n",
    "- We have created a function called handling correlation which is going to return fields based on the correlation matrix value with a threshold of 0.8\n",
    "\n",
    "- Note - Keep the code as it is, no need to change "
   ]
  },
  {
   "cell_type": "code",
   "execution_count": 94,
   "id": "67731abc",
   "metadata": {
    "id": "67731abc"
   },
   "outputs": [],
   "source": [
    "def handling_correlation(X_train,threshold=0.8):\n",
    "    corr_features = set()\n",
    "    corr_matrix = X_train.corr()\n",
    "    for i in range(len(corr_matrix .columns)):\n",
    "        for j in range(i):\n",
    "            if abs(corr_matrix.iloc[i, j]) >threshold:\n",
    "                colname = corr_matrix.columns[i]\n",
    "                corr_features.add(colname)\n",
    "    return list(corr_features)"
   ]
  },
  {
   "cell_type": "markdown",
   "id": "JaE_6qVgSXl3",
   "metadata": {
    "id": "JaE_6qVgSXl3"
   },
   "source": [
    "- Note : Here we are trying to find out the relevant fields, from X_train\n",
    "- Please fill in the blanks to call handling_correlation() function with a threshold value of 0.85"
   ]
  },
  {
   "cell_type": "code",
   "execution_count": 95,
   "id": "dd91d1a2",
   "metadata": {
    "id": "dd91d1a2"
   },
   "outputs": [
    {
     "data": {
      "text/plain": [
       "['year_of_postingdate',\n",
       " 'year_of_due',\n",
       " 'year_of_createdate',\n",
       " 'day_of_createdate',\n",
       " 'month_of_due']"
      ]
     },
     "execution_count": 95,
     "metadata": {},
     "output_type": "execute_result"
    }
   ],
   "source": [
    "train=X_train.copy()\n",
    "handling_correlation(train.copy(),0.85)"
   ]
  },
  {
   "cell_type": "markdown",
   "id": "154da511",
   "metadata": {
    "id": "154da511"
   },
   "source": [
    "### Heatmap for X_train\n",
    "\n",
    "- Note - Keep the code as it is, no need to change"
   ]
  },
  {
   "cell_type": "code",
   "execution_count": 96,
   "id": "2e8f2fe4",
   "metadata": {
    "id": "2e8f2fe4",
    "scrolled": true
   },
   "outputs": [
    {
     "data": {
      "text/plain": [
       "<AxesSubplot:title={'center':'Pearson Correlation of Features'}>"
      ]
     },
     "execution_count": 96,
     "metadata": {},
     "output_type": "execute_result"
    },
    {
     "data": {
      "image/png": "[encoded data removed]",
      "text/plain": [
       "<Figure size 1008x864 with 2 Axes>"
      ]
     },
     "metadata": {
      "needs_background": "light"
     },
     "output_type": "display_data"
    }
   ],
   "source": [
    "colormap = plt.cm.RdBu\n",
    "plt.figure(figsize=(14,12))\n",
    "plt.title('Pearson Correlation of Features', y=1.05, size=20)\n",
    "sns.heatmap(X_train.merge(y_train , on = X_train.index ).corr(),linewidths=0.1,vmax=1.0, \n",
    "            square=True, cmap='gist_rainbow_r', linecolor='white', annot=True)"
   ]
  },
  {
   "cell_type": "markdown",
   "id": "e3b0d745",
   "metadata": {
    "id": "e3b0d745"
   },
   "source": [
    "#### Calling variance threshold for threshold value = 0.8\n",
    "\n",
    "- Note -  Fill in the blanks to call the appropriate method"
   ]
  },
  {
   "cell_type": "code",
   "execution_count": 97,
   "id": "a9b2080f",
   "metadata": {
    "id": "a9b2080f"
   },
   "outputs": [
    {
     "data": {
      "text/html": [
       "<style>#sk-container-id-2 {color: black;background-color: white;}#sk-container-id-2 pre{padding: 0;}#sk-container-id-2 div.sk-toggleable {background-color: white;}#sk-container-id-2 label.sk-toggleable__label {cursor: pointer;display: block;width: 100%;margin-bottom: 0;padding: 0.3em;box-sizing: border-box;text-align: center;}#sk-container-id-2 label.sk-toggleable__label-arrow:before {content: \"▸\";float: left;margin-right: 0.25em;color: #696969;}#sk-container-id-2 label.sk-toggleable__label-arrow:hover:before {color: black;}#sk-container-id-2 div.sk-estimator:hover label.sk-toggleable__label-arrow:before {color: black;}#sk-container-id-2 div.sk-toggleable__content {max-height: 0;max-width: 0;overflow: hidden;text-align: left;background-color: #f0f8ff;}#sk-container-id-2 div.sk-toggleable__content pre {margin: 0.2em;color: black;border-radius: 0.25em;background-color: #f0f8ff;}#sk-container-id-2 input.sk-toggleable__control:checked~div.sk-toggleable__content {max-height: 200px;max-width: 100%;overflow: auto;}#sk-container-id-2 input.sk-toggleable__control:checked~label.sk-toggleable__label-arrow:before {content: \"▾\";}#sk-container-id-2 div.sk-estimator input.sk-toggleable__control:checked~label.sk-toggleable__label {background-color: #d4ebff;}#sk-container-id-2 div.sk-label input.sk-toggleable__control:checked~label.sk-toggleable__label {background-color: #d4ebff;}#sk-container-id-2 input.sk-hidden--visually {border: 0;clip: rect(1px 1px 1px 1px);clip: rect(1px, 1px, 1px, 1px);height: 1px;margin: -1px;overflow: hidden;padding: 0;position: absolute;width: 1px;}#sk-container-id-2 div.sk-estimator {font-family: monospace;background-color: #f0f8ff;border: 1px dotted black;border-radius: 0.25em;box-sizing: border-box;margin-bottom: 0.5em;}#sk-container-id-2 div.sk-estimator:hover {background-color: #d4ebff;}#sk-container-id-2 div.sk-parallel-item::after {content: \"\";width: 100%;border-bottom: 1px solid gray;flex-grow: 1;}#sk-container-id-2 div.sk-label:hover label.sk-toggleable__label {background-color: #d4ebff;}#sk-container-id-2 div.sk-serial::before {content: \"\";position: absolute;border-left: 1px solid gray;box-sizing: border-box;top: 0;bottom: 0;left: 50%;z-index: 0;}#sk-container-id-2 div.sk-serial {display: flex;flex-direction: column;align-items: center;background-color: white;padding-right: 0.2em;padding-left: 0.2em;position: relative;}#sk-container-id-2 div.sk-item {position: relative;z-index: 1;}#sk-container-id-2 div.sk-parallel {display: flex;align-items: stretch;justify-content: center;background-color: white;position: relative;}#sk-container-id-2 div.sk-item::before, #sk-container-id-2 div.sk-parallel-item::before {content: \"\";position: absolute;border-left: 1px solid gray;box-sizing: border-box;top: 0;bottom: 0;left: 50%;z-index: -1;}#sk-container-id-2 div.sk-parallel-item {display: flex;flex-direction: column;z-index: 1;position: relative;background-color: white;}#sk-container-id-2 div.sk-parallel-item:first-child::after {align-self: flex-end;width: 50%;}#sk-container-id-2 div.sk-parallel-item:last-child::after {align-self: flex-start;width: 50%;}#sk-container-id-2 div.sk-parallel-item:only-child::after {width: 0;}#sk-container-id-2 div.sk-dashed-wrapped {border: 1px dashed gray;margin: 0 0.4em 0.5em 0.4em;box-sizing: border-box;padding-bottom: 0.4em;background-color: white;}#sk-container-id-2 div.sk-label label {font-family: monospace;font-weight: bold;display: inline-block;line-height: 1.2em;}#sk-container-id-2 div.sk-label-container {text-align: center;}#sk-container-id-2 div.sk-container {/* jupyter's `normalize.less` sets `[hidden] { display: none; }` but bootstrap.min.css set `[hidden] { display: none !important; }` so we also need the `!important` here to be able to override the default hidden behavior on the sphinx rendered scikit-learn.org. See: https://github.com/scikit-learn/scikit-learn/issues/21755 */display: inline-block !important;position: relative;}#sk-container-id-2 div.sk-text-repr-fallback {display: none;}</style><div id=\"sk-container-id-2\" class=\"sk-top-container\"><div class=\"sk-text-repr-fallback\"><pre>VarianceThreshold(threshold=0.8)</pre><b>In a Jupyter environment, please rerun this cell to show the HTML representation or trust the notebook. <br />On GitHub, the HTML representation is unable to render, please try loading this page with nbviewer.org.</b></div><div class=\"sk-container\" hidden><div class=\"sk-item\"><div class=\"sk-estimator sk-toggleable\"><input class=\"sk-toggleable__control sk-hidden--visually\" id=\"sk-estimator-id-2\" type=\"checkbox\" checked><label for=\"sk-estimator-id-2\" class=\"sk-toggleable__label sk-toggleable__label-arrow\">VarianceThreshold</label><div class=\"sk-toggleable__content\"><pre>VarianceThreshold(threshold=0.8)</pre></div></div></div></div></div>"
      ],
      "text/plain": [
       "VarianceThreshold(threshold=0.8)"
      ]
     },
     "execution_count": 97,
     "metadata": {},
     "output_type": "execute_result"
    }
   ],
   "source": [
    "from sklearn.feature_selection import VarianceThreshold\n",
    "sel = VarianceThreshold(0.8)\n",
    "sel.fit(X_train)"
   ]
  },
  {
   "cell_type": "code",
   "execution_count": 98,
   "id": "6cb8c3dc",
   "metadata": {
    "id": "6cb8c3dc"
   },
   "outputs": [
    {
     "data": {
      "text/plain": [
       "array([1.81954912e+15, 1.14757386e-01, 8.74254278e+16, 1.37206443e+09,\n",
       "       2.87927752e-01, 1.07015118e+06, 1.35481309e+02, 8.17239551e+01,\n",
       "       1.19389088e+01, 1.14798749e-01, 7.70243713e+01, 1.22619699e+01,\n",
       "       1.14937418e-01, 7.66173615e+01, 1.20665594e+01, 1.18125269e-01])"
      ]
     },
     "execution_count": 98,
     "metadata": {},
     "output_type": "execute_result"
    }
   ],
   "source": [
    "sel.variances_"
   ]
  },
  {
   "cell_type": "markdown",
   "id": "62633a84",
   "metadata": {
    "id": "62633a84"
   },
   "source": [
    "### Features columns are \n",
    "- 'year_of_createdate' \n",
    "- 'year_of_due'\n",
    "- 'day_of_createdate'\n",
    "- 'year_of_postingdate'\n",
    "- 'month_of_due'\n",
    "- 'month_of_createdate'\n",
    "\n",
    "\n",
    "- 'month_of_due'\n",
    "- 'year_of_createdate'\n",
    "- 'year_of_postingdate'\n",
    "- 'day_of_createdate'\n",
    "- 'year_of_due'\n"
   ]
  },
  {
   "cell_type": "markdown",
   "id": "651f1ad0",
   "metadata": {
    "id": "651f1ad0"
   },
   "source": [
    "# Modelling \n",
    "\n",
    "#### Now you need to compare with different machine learning models, and needs to find out the best predicted model\n",
    "\n",
    "- Linear Regression\n",
    "- Decision Tree Regression\n",
    "- Random Forest Regression\n",
    "- Support Vector Regression\n",
    "- Extreme Gradient Boost Regression "
   ]
  },
  {
   "cell_type": "markdown",
   "id": "PicEhSuUUOkt",
   "metadata": {
    "id": "PicEhSuUUOkt"
   },
   "source": [
    "### You need to make different blank list for different evaluation matrix \n",
    "\n",
    "- MSE\n",
    "- R2\n",
    "- Algorithm"
   ]
  },
  {
   "cell_type": "code",
   "execution_count": 99,
   "id": "701e12b0",
   "metadata": {
    "id": "701e12b0"
   },
   "outputs": [],
   "source": [
    "MSE_Score = []\n",
    "R2_Score = []\n",
    "Huber_Loss = []\n",
    "Quantile_Loss = []\n",
    "Log_Cosh = []\n",
    "Algorithm = []\n",
    "from sklearn.metrics import mean_squared_error\n",
    "from sklearn.metrics import r2_score"
   ]
  },
  {
   "cell_type": "code",
   "execution_count": 100,
   "id": "e2647101",
   "metadata": {},
   "outputs": [
    {
     "data": {
      "text/html": [
       "<div>\n",
       "<style scoped>\n",
       "    .dataframe tbody tr th:only-of-type {\n",
       "        vertical-align: middle;\n",
       "    }\n",
       "\n",
       "    .dataframe tbody tr th {\n",
       "        vertical-align: top;\n",
       "    }\n",
       "\n",
       "    .dataframe thead th {\n",
       "        text-align: right;\n",
       "    }\n",
       "</style>\n",
       "<table border=\"1\" class=\"dataframe\">\n",
       "  <thead>\n",
       "    <tr style=\"text-align: right;\">\n",
       "      <th></th>\n",
       "      <th>avg_delay</th>\n",
       "    </tr>\n",
       "  </thead>\n",
       "  <tbody>\n",
       "    <tr>\n",
       "      <th>23619</th>\n",
       "      <td>-2.487273e+06</td>\n",
       "    </tr>\n",
       "    <tr>\n",
       "      <th>28084</th>\n",
       "      <td>6.024876e+05</td>\n",
       "    </tr>\n",
       "    <tr>\n",
       "      <th>36502</th>\n",
       "      <td>-2.592000e+05</td>\n",
       "    </tr>\n",
       "    <tr>\n",
       "      <th>38280</th>\n",
       "      <td>1.368960e+06</td>\n",
       "    </tr>\n",
       "    <tr>\n",
       "      <th>29218</th>\n",
       "      <td>-9.032727e+04</td>\n",
       "    </tr>\n",
       "    <tr>\n",
       "      <th>...</th>\n",
       "      <td>...</td>\n",
       "    </tr>\n",
       "    <tr>\n",
       "      <th>12492</th>\n",
       "      <td>-2.448000e+06</td>\n",
       "    </tr>\n",
       "    <tr>\n",
       "      <th>29953</th>\n",
       "      <td>4.774737e+04</td>\n",
       "    </tr>\n",
       "    <tr>\n",
       "      <th>49755</th>\n",
       "      <td>6.024876e+05</td>\n",
       "    </tr>\n",
       "    <tr>\n",
       "      <th>31243</th>\n",
       "      <td>4.050549e+05</td>\n",
       "    </tr>\n",
       "    <tr>\n",
       "      <th>5096</th>\n",
       "      <td>-2.104094e+05</td>\n",
       "    </tr>\n",
       "  </tbody>\n",
       "</table>\n",
       "<p>7832 rows × 1 columns</p>\n",
       "</div>"
      ],
      "text/plain": [
       "          avg_delay\n",
       "23619 -2.487273e+06\n",
       "28084  6.024876e+05\n",
       "36502 -2.592000e+05\n",
       "38280  1.368960e+06\n",
       "29218 -9.032727e+04\n",
       "...             ...\n",
       "12492 -2.448000e+06\n",
       "29953  4.774737e+04\n",
       "49755  6.024876e+05\n",
       "31243  4.050549e+05\n",
       "5096  -2.104094e+05\n",
       "\n",
       "[7832 rows x 1 columns]"
      ]
     },
     "execution_count": 100,
     "metadata": {},
     "output_type": "execute_result"
    }
   ],
   "source": [
    "y_test"
   ]
  },
  {
   "cell_type": "markdown",
   "id": "29310119",
   "metadata": {
    "id": "29310119"
   },
   "source": [
    "### You need to start with the baseline model Linear Regression\n",
    "\n",
    "- Step 1 : Call the Linear Regression from sklearn library\n",
    "- Step 2 : make an object of Linear Regression \n",
    "- Step 3 : fit the X_train and y_train dataframe into the object \n",
    "- Step 4 : Predict the output by passing the X_test Dataset into predict function\n",
    "\n",
    "\n",
    "\n",
    "\n",
    "- Note - Append the Algorithm name into the algorithm list for tracking purpose"
   ]
  },
  {
   "cell_type": "code",
   "execution_count": 101,
   "id": "6bdea395",
   "metadata": {
    "id": "6bdea395"
   },
   "outputs": [],
   "source": [
    "from sklearn.linear_model import LinearRegression\n",
    "Algorithm.append('LinearRegression')\n",
    "regressor = LinearRegression()\n",
    "regressor.fit(X_train, y_train)\n",
    "predicted= regressor.predict(X_test)\n",
    "predicted_train= regressor.predict(X_train)"
   ]
  },
  {
   "cell_type": "code",
   "execution_count": 102,
   "id": "e9d025f0",
   "metadata": {},
   "outputs": [],
   "source": [
    "x=pd.DataFrame(predicted,columns=['avg_delay_pred'])"
   ]
  },
  {
   "cell_type": "code",
   "execution_count": 115,
   "id": "fcc35644",
   "metadata": {},
   "outputs": [],
   "source": [
    "y=pd.DataFrame(predicted_train,columns=['avg_delay_pred'])"
   ]
  },
  {
   "cell_type": "code",
   "execution_count": 103,
   "id": "0fd01f2f",
   "metadata": {},
   "outputs": [
    {
     "data": {
      "text/html": [
       "<div>\n",
       "<style scoped>\n",
       "    .dataframe tbody tr th:only-of-type {\n",
       "        vertical-align: middle;\n",
       "    }\n",
       "\n",
       "    .dataframe tbody tr th {\n",
       "        vertical-align: top;\n",
       "    }\n",
       "\n",
       "    .dataframe thead th {\n",
       "        text-align: right;\n",
       "    }\n",
       "</style>\n",
       "<table border=\"1\" class=\"dataframe\">\n",
       "  <thead>\n",
       "    <tr style=\"text-align: right;\">\n",
       "      <th></th>\n",
       "      <th>avg_delay_pred</th>\n",
       "    </tr>\n",
       "  </thead>\n",
       "  <tbody>\n",
       "    <tr>\n",
       "      <th>0</th>\n",
       "      <td>1.279872e+06</td>\n",
       "    </tr>\n",
       "    <tr>\n",
       "      <th>1</th>\n",
       "      <td>3.145772e+05</td>\n",
       "    </tr>\n",
       "    <tr>\n",
       "      <th>2</th>\n",
       "      <td>-2.769268e+05</td>\n",
       "    </tr>\n",
       "    <tr>\n",
       "      <th>3</th>\n",
       "      <td>-2.254534e+05</td>\n",
       "    </tr>\n",
       "    <tr>\n",
       "      <th>4</th>\n",
       "      <td>5.205540e+05</td>\n",
       "    </tr>\n",
       "    <tr>\n",
       "      <th>...</th>\n",
       "      <td>...</td>\n",
       "    </tr>\n",
       "    <tr>\n",
       "      <th>7827</th>\n",
       "      <td>-1.347412e+05</td>\n",
       "    </tr>\n",
       "    <tr>\n",
       "      <th>7828</th>\n",
       "      <td>5.664081e+05</td>\n",
       "    </tr>\n",
       "    <tr>\n",
       "      <th>7829</th>\n",
       "      <td>2.275634e+05</td>\n",
       "    </tr>\n",
       "    <tr>\n",
       "      <th>7830</th>\n",
       "      <td>7.083196e+05</td>\n",
       "    </tr>\n",
       "    <tr>\n",
       "      <th>7831</th>\n",
       "      <td>1.567422e+04</td>\n",
       "    </tr>\n",
       "  </tbody>\n",
       "</table>\n",
       "<p>7832 rows × 1 columns</p>\n",
       "</div>"
      ],
      "text/plain": [
       "      avg_delay_pred\n",
       "0       1.279872e+06\n",
       "1       3.145772e+05\n",
       "2      -2.769268e+05\n",
       "3      -2.254534e+05\n",
       "4       5.205540e+05\n",
       "...              ...\n",
       "7827   -1.347412e+05\n",
       "7828    5.664081e+05\n",
       "7829    2.275634e+05\n",
       "7830    7.083196e+05\n",
       "7831    1.567422e+04\n",
       "\n",
       "[7832 rows x 1 columns]"
      ]
     },
     "execution_count": 103,
     "metadata": {},
     "output_type": "execute_result"
    }
   ],
   "source": [
    "x"
   ]
  },
  {
   "cell_type": "code",
   "execution_count": 104,
   "id": "5eaf545f",
   "metadata": {},
   "outputs": [],
   "source": [
    "result = pd.concat([x['avg_delay_pred'], y_test['avg_delay']],axis=1)"
   ]
  },
  {
   "cell_type": "code",
   "execution_count": null,
   "id": "6e13514a",
   "metadata": {},
   "outputs": [],
   "source": [
    "result_train="
   ]
  },
  {
   "cell_type": "code",
   "execution_count": 105,
   "id": "1225db75",
   "metadata": {},
   "outputs": [
    {
     "data": {
      "text/html": [
       "<div>\n",
       "<style scoped>\n",
       "    .dataframe tbody tr th:only-of-type {\n",
       "        vertical-align: middle;\n",
       "    }\n",
       "\n",
       "    .dataframe tbody tr th {\n",
       "        vertical-align: top;\n",
       "    }\n",
       "\n",
       "    .dataframe thead th {\n",
       "        text-align: right;\n",
       "    }\n",
       "</style>\n",
       "<table border=\"1\" class=\"dataframe\">\n",
       "  <thead>\n",
       "    <tr style=\"text-align: right;\">\n",
       "      <th></th>\n",
       "      <th>avg_delay_pred</th>\n",
       "      <th>avg_delay</th>\n",
       "    </tr>\n",
       "  </thead>\n",
       "  <tbody>\n",
       "    <tr>\n",
       "      <th>0</th>\n",
       "      <td>1.279872e+06</td>\n",
       "      <td>NaN</td>\n",
       "    </tr>\n",
       "    <tr>\n",
       "      <th>1</th>\n",
       "      <td>3.145772e+05</td>\n",
       "      <td>NaN</td>\n",
       "    </tr>\n",
       "    <tr>\n",
       "      <th>2</th>\n",
       "      <td>-2.769268e+05</td>\n",
       "      <td>NaN</td>\n",
       "    </tr>\n",
       "    <tr>\n",
       "      <th>3</th>\n",
       "      <td>-2.254534e+05</td>\n",
       "      <td>NaN</td>\n",
       "    </tr>\n",
       "    <tr>\n",
       "      <th>4</th>\n",
       "      <td>5.205540e+05</td>\n",
       "      <td>4.160077e+05</td>\n",
       "    </tr>\n",
       "    <tr>\n",
       "      <th>...</th>\n",
       "      <td>...</td>\n",
       "      <td>...</td>\n",
       "    </tr>\n",
       "    <tr>\n",
       "      <th>29048</th>\n",
       "      <td>NaN</td>\n",
       "      <td>-5.832000e+05</td>\n",
       "    </tr>\n",
       "    <tr>\n",
       "      <th>12492</th>\n",
       "      <td>NaN</td>\n",
       "      <td>-2.448000e+06</td>\n",
       "    </tr>\n",
       "    <tr>\n",
       "      <th>29953</th>\n",
       "      <td>NaN</td>\n",
       "      <td>4.774737e+04</td>\n",
       "    </tr>\n",
       "    <tr>\n",
       "      <th>49755</th>\n",
       "      <td>NaN</td>\n",
       "      <td>6.024876e+05</td>\n",
       "    </tr>\n",
       "    <tr>\n",
       "      <th>31243</th>\n",
       "      <td>NaN</td>\n",
       "      <td>4.050549e+05</td>\n",
       "    </tr>\n",
       "  </tbody>\n",
       "</table>\n",
       "<p>14404 rows × 2 columns</p>\n",
       "</div>"
      ],
      "text/plain": [
       "       avg_delay_pred     avg_delay\n",
       "0        1.279872e+06           NaN\n",
       "1        3.145772e+05           NaN\n",
       "2       -2.769268e+05           NaN\n",
       "3       -2.254534e+05           NaN\n",
       "4        5.205540e+05  4.160077e+05\n",
       "...               ...           ...\n",
       "29048             NaN -5.832000e+05\n",
       "12492             NaN -2.448000e+06\n",
       "29953             NaN  4.774737e+04\n",
       "49755             NaN  6.024876e+05\n",
       "31243             NaN  4.050549e+05\n",
       "\n",
       "[14404 rows x 2 columns]"
      ]
     },
     "execution_count": 105,
     "metadata": {},
     "output_type": "execute_result"
    }
   ],
   "source": [
    "result"
   ]
  },
  {
   "cell_type": "code",
   "execution_count": 106,
   "id": "9e08e6ad",
   "metadata": {},
   "outputs": [
    {
     "data": {
      "text/plain": [
       "[-2487272.727272727,\n",
       " 602487.5912408751,\n",
       " -259200.00000000003,\n",
       " 1368960.0,\n",
       " -90327.27272727201,\n",
       " 527791.304347826,\n",
       " 279776.18497109803,\n",
       " -3575314.2857142854,\n",
       " 1689984.0,\n",
       " -700457.142857142,\n",
       " 2013120.0000000002,\n",
       " -479852.30769230705,\n",
       " 8337600.000000001,\n",
       " 416497.86700125405,\n",
       " 381927.272727272,\n",
       " 93913.04347826,\n",
       " -2505600.0,\n",
       " -2686400.0,\n",
       " 496800.00000000006,\n",
       " 3499200.0,\n",
       " -677134.8837209301,\n",
       " -1365120.0,\n",
       " 563375.3424657531,\n",
       " 481521.95121951203,\n",
       " -1425600.0,\n",
       " -695414.634146341,\n",
       " -2686400.0,\n",
       " -990955.1020408161,\n",
       " 53543.661971830006,\n",
       " 2576290.909090909,\n",
       " 261502.66512166802,\n",
       " 1572896.385542168,\n",
       " 300406.153846153,\n",
       " 3782400.0000000005,\n",
       " 416497.86700125405,\n",
       " -210409.411764705,\n",
       " 1169157.44680851,\n",
       " 416007.692307692,\n",
       " -2982938.613861386,\n",
       " 554798.697068403,\n",
       " 151200.0,\n",
       " -1569600.0,\n",
       " -897230.769230769,\n",
       " -913680.0,\n",
       " 797929.4117647051,\n",
       " -210409.411764705,\n",
       " 1123200.0,\n",
       " 1209600.0,\n",
       " 1663200.0,\n",
       " 1133790.967741935,\n",
       " 509881.690140845,\n",
       " -1084320.0,\n",
       " -2086243.902439024,\n",
       " -210409.411764705,\n",
       " -829028.571428571,\n",
       " 4561920.0,\n",
       " 3160512.0,\n",
       " 1695143.661971831,\n",
       " -1221435.616438356,\n",
       " 372184.615384615,\n",
       " 1680000.0,\n",
       " -124219.21708185,\n",
       " 1443927.272727272,\n",
       " 470994.690265486,\n",
       " 3272663.4146341463,\n",
       " -469800.00000000006,\n",
       " 0.0,\n",
       " 325661.53846153803,\n",
       " 416007.692307692,\n",
       " 1689984.0,\n",
       " 492218.181818181,\n",
       " 459084.943820224,\n",
       " 405054.915254237,\n",
       " 246857.14285714203,\n",
       " 669257.142857142,\n",
       " -127542.85714285701,\n",
       " -1555200.0,\n",
       " -210409.411764705,\n",
       " 1543341.1764705882,\n",
       " 662400.0,\n",
       " 151200.0,\n",
       " -388800.0,\n",
       " -700457.142857142,\n",
       " 594830.769230769,\n",
       " -210409.411764705,\n",
       " -222336.0,\n",
       " 1443927.272727272,\n",
       " -375575.510204081,\n",
       " 533647.058823529,\n",
       " -829028.571428571,\n",
       " 879026.086956521,\n",
       " -1377600.0,\n",
       " -1210752.0,\n",
       " -3298780.3278688523,\n",
       " 1755284.210526315,\n",
       " 405054.915254237,\n",
       " 261502.66512166802,\n",
       " 405054.915254237,\n",
       " 311276.712328767,\n",
       " 0.0,\n",
       " -377353.846153846,\n",
       " 6177600.0,\n",
       " 1219200.0,\n",
       " -758400.0,\n",
       " 522720.00000000006,\n",
       " 5466240.0,\n",
       " 1390254.5454545452,\n",
       " -86400.0,\n",
       " 261502.66512166802,\n",
       " -259200.00000000003,\n",
       " 284611.764705882,\n",
       " 1441800.0,\n",
       " -596945.454545454,\n",
       " 279776.18497109803,\n",
       " 253309.09090909,\n",
       " 554798.697068403,\n",
       " -420324.324324324,\n",
       " 261502.66512166802,\n",
       " 373693.251533742,\n",
       " -2501672.727272727,\n",
       " -198211.764705882,\n",
       " -2041669.5652173911,\n",
       " -124219.21708185,\n",
       " 279776.18497109803,\n",
       " 144000.0,\n",
       " -524880.0,\n",
       " -1371.4285714280002,\n",
       " 459084.943820224,\n",
       " 820800.0,\n",
       " 522720.00000000006,\n",
       " -124219.21708185,\n",
       " 459084.943820224,\n",
       " 481521.95121951203,\n",
       " -1371.4285714280002,\n",
       " 0.0,\n",
       " -259200.00000000003,\n",
       " -691200.0,\n",
       " 1368757.894736842,\n",
       " -820800.0,\n",
       " 279776.18497109803,\n",
       " 375840.0,\n",
       " 261502.66512166802,\n",
       " -569793.103448275,\n",
       " -479852.30769230705,\n",
       " -549186.2068965511,\n",
       " 1767497.142857142,\n",
       " -1280000.0,\n",
       " 554798.697068403,\n",
       " 279776.18497109803,\n",
       " 0.0,\n",
       " 554798.697068403,\n",
       " -210409.411764705,\n",
       " -569793.103448275,\n",
       " 433216.90140845004,\n",
       " -493389.47368421004,\n",
       " 416497.86700125405,\n",
       " 481521.95121951203,\n",
       " 416497.86700125405,\n",
       " 602487.5912408751,\n",
       " -1313280.0,\n",
       " 416497.86700125405,\n",
       " -3149280.0,\n",
       " 1913142.857142857,\n",
       " 261502.66512166802,\n",
       " -695414.634146341,\n",
       " -6307200.0,\n",
       " 279776.18497109803,\n",
       " 2049600.0000000002,\n",
       " -1537920.0,\n",
       " 1368960.0,\n",
       " 0.0,\n",
       " 885600.0,\n",
       " -2982938.613861386,\n",
       " 799200.0,\n",
       " -6480000.0,\n",
       " -20476800.0,\n",
       " 890584.615384615,\n",
       " 799200.0,\n",
       " 3897600.0000000005,\n",
       " 481521.95121951203,\n",
       " -677134.8837209301,\n",
       " 739402.105263157,\n",
       " -61476.923076923005,\n",
       " -2471040.0,\n",
       " 135000.0,\n",
       " -124219.21708185,\n",
       " 2160000.0,\n",
       " 10281600.0,\n",
       " 416497.86700125405,\n",
       " -1671077.6470588231,\n",
       " 3542400.0,\n",
       " -921600.0,\n",
       " 481521.95121951203,\n",
       " -1084180.64516129,\n",
       " 1035490.9090909091,\n",
       " 9676800.0,\n",
       " -990955.1020408161,\n",
       " 1639590.697674418,\n",
       " 709389.4736842101,\n",
       " -7560000.000000001,\n",
       " -2462400.0,\n",
       " 7516800.000000001,\n",
       " 1441800.0,\n",
       " -545040.0,\n",
       " 259200.00000000003,\n",
       " 261502.66512166802,\n",
       " 3986742.8571428573,\n",
       " 373693.251533742,\n",
       " 2185920.0,\n",
       " 289894.736842105,\n",
       " -43200.0,\n",
       " -1035806.896551724,\n",
       " 279776.18497109803,\n",
       " -1763446.153846153,\n",
       " 207360.0,\n",
       " 0.0,\n",
       " -210409.411764705,\n",
       " -4060800.0000000005,\n",
       " 1537920.0,\n",
       " -2589726.3157894732,\n",
       " 162000.0,\n",
       " 372184.615384615,\n",
       " 1537920.0,\n",
       " -210409.411764705,\n",
       " 405054.915254237,\n",
       " 279776.18497109803,\n",
       " -1185300.0,\n",
       " -4320000.0,\n",
       " 172800.0,\n",
       " 554798.697068403,\n",
       " -545040.0,\n",
       " -5184000.0,\n",
       " 135000.0,\n",
       " 2937600.0,\n",
       " 416497.86700125405,\n",
       " 2216160.0,\n",
       " 261741.17647058802,\n",
       " 20736000.0,\n",
       " 459084.943820224,\n",
       " 1799588.5714285711,\n",
       " -1540080.0,\n",
       " 1837270.5882352942,\n",
       " -375575.510204081,\n",
       " -272766.94214876,\n",
       " 720000.0,\n",
       " -2487272.727272727,\n",
       " 984000.0000000001,\n",
       " -954268.656716417,\n",
       " 279776.18497109803,\n",
       " 411339.130434782,\n",
       " 827621.0526315791,\n",
       " 1219200.0,\n",
       " 3751200.0000000005,\n",
       " -7689600.000000001,\n",
       " 322338.46153846104,\n",
       " -98181.818181818,\n",
       " -741735.849056603,\n",
       " -1408457.142857142,\n",
       " -890295.6521739131,\n",
       " -1533880.519480519,\n",
       " -778308.1967213111,\n",
       " 5616000.0,\n",
       " 3110400.0,\n",
       " -1084180.64516129,\n",
       " -990955.1020408161,\n",
       " 1508676.923076923,\n",
       " 1605848.275862069,\n",
       " -3298780.3278688523,\n",
       " 777600.0,\n",
       " -210409.411764705,\n",
       " -1152000.0,\n",
       " -3668676.923076923,\n",
       " 3248640.0,\n",
       " 2542628.5714285714,\n",
       " 3672000.0,\n",
       " 407314.28571428504,\n",
       " 554798.697068403,\n",
       " 416007.692307692,\n",
       " 5140800.0,\n",
       " -1671077.6470588231,\n",
       " -124219.21708185,\n",
       " -2086243.902439024,\n",
       " 327410.52631578903,\n",
       " 1543341.1764705882,\n",
       " -1920960.0000000002,\n",
       " 126000.00000000001,\n",
       " 981818.1818181811,\n",
       " 554798.697068403,\n",
       " 2246400.0,\n",
       " 481521.95121951203,\n",
       " 491245.714285714,\n",
       " -1598400.0,\n",
       " -666000.0,\n",
       " 669954.098360655,\n",
       " -809431.5789473681,\n",
       " -1185300.0,\n",
       " -305902.702702702,\n",
       " 1440000.0,\n",
       " 481521.95121951203,\n",
       " -210409.411764705,\n",
       " 64800.00000000001,\n",
       " 327410.52631578903,\n",
       " 1169157.44680851,\n",
       " 494400.00000000006,\n",
       " -428349.29577464703,\n",
       " -210409.411764705,\n",
       " -210409.411764705,\n",
       " 2678400.0,\n",
       " -967680.0000000001,\n",
       " 639074.380165289,\n",
       " -1922400.0000000002,\n",
       " -3019200.0,\n",
       " -1317600.0,\n",
       " 289894.736842105,\n",
       " 459084.943820224,\n",
       " -666000.0,\n",
       " 1108800.0,\n",
       " 459084.943820224,\n",
       " -1280000.0,\n",
       " 1695143.661971831,\n",
       " 459084.943820224,\n",
       " 615600.0,\n",
       " -1035806.896551724,\n",
       " -1720421.052631579,\n",
       " -2505600.0,\n",
       " -210409.411764705,\n",
       " 1036800.0000000001,\n",
       " 1663200.0,\n",
       " -1615680.0,\n",
       " 554798.697068403,\n",
       " -1638514.2857142852,\n",
       " 1654985.915492957,\n",
       " 227232.0,\n",
       " 227232.0,\n",
       " 708000.0,\n",
       " 1347840.0,\n",
       " 2402584.615384615,\n",
       " 594830.769230769,\n",
       " -1505032.2580645161,\n",
       " 1427935.1351351351,\n",
       " -3040615.384615384,\n",
       " 3160512.0,\n",
       " 6480000.0,\n",
       " 216000.0,\n",
       " 373693.251533742,\n",
       " -700457.142857142,\n",
       " -569793.103448275,\n",
       " 416007.692307692,\n",
       " 1474314.8936170212,\n",
       " 554798.697068403,\n",
       " 4568400.0,\n",
       " -1721353.846153846,\n",
       " 1695143.661971831,\n",
       " -124219.21708185,\n",
       " 1130553.191489361,\n",
       " -1185300.0,\n",
       " -1533880.519480519,\n",
       " -809431.5789473681,\n",
       " -1280000.0,\n",
       " 470994.690265486,\n",
       " -874800.0,\n",
       " 405054.915254237,\n",
       " 623182.978723404,\n",
       " 1555200.0,\n",
       " 879026.086956521,\n",
       " 416497.86700125405,\n",
       " 4363200.0,\n",
       " 279776.18497109803,\n",
       " 298897.29729729705,\n",
       " -377353.846153846,\n",
       " -124219.21708185,\n",
       " 416497.86700125405,\n",
       " 3181090.909090909,\n",
       " -1922400.0000000002,\n",
       " -3019200.0,\n",
       " 459084.943820224,\n",
       " -650700.0,\n",
       " -2982938.613861386,\n",
       " 1540800.0,\n",
       " 100376.47058823501,\n",
       " 10091520.0,\n",
       " -124219.21708185,\n",
       " 1900800.0000000002,\n",
       " 7421760.0,\n",
       " -3088800.0,\n",
       " 554798.697068403,\n",
       " -1505032.2580645161,\n",
       " 324000.0,\n",
       " -555670.588235294,\n",
       " 2214981.8181818184,\n",
       " 527791.304347826,\n",
       " -2494231.578947368,\n",
       " -804600.0,\n",
       " -700457.142857142,\n",
       " 298897.29729729705,\n",
       " 459084.943820224,\n",
       " 481521.95121951203,\n",
       " -210409.411764705,\n",
       " -1533880.519480519,\n",
       " 879026.086956521,\n",
       " 459084.943820224,\n",
       " -2738716.981132075,\n",
       " -124219.21708185,\n",
       " 416007.692307692,\n",
       " -2678400.0,\n",
       " 1575936.0,\n",
       " -1363200.0,\n",
       " 416497.86700125405,\n",
       " 1799588.5714285711,\n",
       " 416497.86700125405,\n",
       " 1913142.857142857,\n",
       " -2086243.902439024,\n",
       " 826675.2000000001,\n",
       " 907200.0,\n",
       " -2970000.0,\n",
       " -37440.0,\n",
       " 261502.66512166802,\n",
       " 602487.5912408751,\n",
       " 1530514.285714285,\n",
       " -124219.21708185,\n",
       " 459084.943820224,\n",
       " 602487.5912408751,\n",
       " -774000.0,\n",
       " 125191.836734693,\n",
       " -210409.411764705,\n",
       " 1575936.0,\n",
       " 192738.461538461,\n",
       " -4406400.0,\n",
       " 2774400.0,\n",
       " 1243408.695652174,\n",
       " 4320000.0,\n",
       " 2008800.0000000002,\n",
       " -210409.411764705,\n",
       " -2332800.0,\n",
       " 459084.943820224,\n",
       " 416007.692307692,\n",
       " 481521.95121951203,\n",
       " -549186.2068965511,\n",
       " 481521.95121951203,\n",
       " -2501672.727272727,\n",
       " -345600.0,\n",
       " 5616000.0,\n",
       " 407314.28571428504,\n",
       " 518400.00000000006,\n",
       " 2848000.0,\n",
       " 29412.765957446,\n",
       " 669257.142857142,\n",
       " 2851200.0,\n",
       " 405054.915254237,\n",
       " -241920.00000000003,\n",
       " 984342.857142857,\n",
       " -869890.9090909091,\n",
       " -210409.411764705,\n",
       " 984960.0000000001,\n",
       " -3010775.510204081,\n",
       " 279776.18497109803,\n",
       " -2550734.328358209,\n",
       " 1411200.0,\n",
       " 3866400.0000000005,\n",
       " 172800.0,\n",
       " -86400.0,\n",
       " 1799588.5714285711,\n",
       " 1605848.275862069,\n",
       " -5097600.0,\n",
       " 1166400.0,\n",
       " -367200.0,\n",
       " 2592000.0,\n",
       " -1095486.7924528301,\n",
       " 2644800.0,\n",
       " 261741.17647058802,\n",
       " 1252800.0,\n",
       " -549186.2068965511,\n",
       " 112320.0,\n",
       " -3434400.0,\n",
       " -967680.0000000001,\n",
       " 1707536.8421052631,\n",
       " -7854.545454545,\n",
       " 279776.18497109803,\n",
       " 1769321.739130434,\n",
       " -705600.0,\n",
       " -86400.0,\n",
       " 416007.692307692,\n",
       " 459084.943820224,\n",
       " 279776.18497109803,\n",
       " 1477616.326530612,\n",
       " -549186.2068965511,\n",
       " -913680.0,\n",
       " 86400.0,\n",
       " 29412.765957446,\n",
       " 459084.943820224,\n",
       " 405054.915254237,\n",
       " -272766.94214876,\n",
       " 602487.5912408751,\n",
       " -748800.0,\n",
       " 1443927.272727272,\n",
       " 1575663.1578947362,\n",
       " 459084.943820224,\n",
       " 416497.86700125405,\n",
       " 2774400.0,\n",
       " 279776.18497109803,\n",
       " -377353.846153846,\n",
       " -1280000.0,\n",
       " -9763200.0,\n",
       " 375840.0,\n",
       " 2829600.0,\n",
       " 1020600.0000000001,\n",
       " 602487.5912408751,\n",
       " 797929.4117647051,\n",
       " 470994.690265486,\n",
       " 602487.5912408751,\n",
       " -2170409.6385542164,\n",
       " 261502.66512166802,\n",
       " -345600.0,\n",
       " -1228800.0,\n",
       " 316800.0,\n",
       " 416497.86700125405,\n",
       " 599314.285714285,\n",
       " 416007.692307692,\n",
       " 1789253.731343283,\n",
       " 131200.0,\n",
       " -328926.315789473,\n",
       " 2644800.0,\n",
       " 279776.18497109803,\n",
       " -639360.0,\n",
       " 3312000.0,\n",
       " -2034580.6451612902,\n",
       " -428349.29577464703,\n",
       " 827621.0526315791,\n",
       " 416007.692307692,\n",
       " -2246400.0,\n",
       " -604800.0,\n",
       " -545400.0,\n",
       " 86400.0,\n",
       " -576000.0,\n",
       " -673920.0,\n",
       " 621145.945945946,\n",
       " 459084.943820224,\n",
       " 8095680.000000001,\n",
       " 846720.0,\n",
       " 602487.5912408751,\n",
       " 279776.18497109803,\n",
       " 405054.915254237,\n",
       " 639074.380165289,\n",
       " 1135542.857142857,\n",
       " 416007.692307692,\n",
       " 6436800.0,\n",
       " -1885552.9411764701,\n",
       " 481521.95121951203,\n",
       " 668758.441558441,\n",
       " 411339.130434782,\n",
       " -210409.411764705,\n",
       " 86400.0,\n",
       " 602487.5912408751,\n",
       " -90327.27272727201,\n",
       " 261502.66512166802,\n",
       " 1581320.9302325582,\n",
       " 2574720.0,\n",
       " 261502.66512166802,\n",
       " 1065600.0,\n",
       " 279776.18497109803,\n",
       " 481521.95121951203,\n",
       " -1671077.6470588231,\n",
       " 6998400.0,\n",
       " -1483488.0,\n",
       " -1671077.6470588231,\n",
       " 426240.0,\n",
       " 563375.3424657531,\n",
       " -86400.0,\n",
       " 1825200.0,\n",
       " 405054.915254237,\n",
       " -1185300.0,\n",
       " 276480.0,\n",
       " 669257.142857142,\n",
       " -1533880.519480519,\n",
       " 279776.18497109803,\n",
       " 261502.66512166802,\n",
       " -305902.702702702,\n",
       " 1562112.0,\n",
       " 1133790.967741935,\n",
       " -357942.85714285704,\n",
       " 2246400.0,\n",
       " 791242.105263157,\n",
       " 459084.943820224,\n",
       " 554798.697068403,\n",
       " 578880.0,\n",
       " 416007.692307692,\n",
       " -832500.0,\n",
       " -86400.0,\n",
       " -9115200.0,\n",
       " -604800.0,\n",
       " 261502.66512166802,\n",
       " -124219.21708185,\n",
       " -778308.1967213111,\n",
       " -2982938.613861386,\n",
       " 459084.943820224,\n",
       " -428349.29577464703,\n",
       " -210409.411764705,\n",
       " 1278720.0,\n",
       " -853200.0,\n",
       " 460800.0,\n",
       " 1318967.088607595,\n",
       " -775721.739130434,\n",
       " 3160512.0,\n",
       " 481521.95121951203,\n",
       " 826675.2000000001,\n",
       " -432000.0,\n",
       " -43200.0,\n",
       " 606264.4067796611,\n",
       " -359841.75824175804,\n",
       " 494400.00000000006,\n",
       " 481521.95121951203,\n",
       " -1699200.0,\n",
       " -1084320.0,\n",
       " -4399200.0,\n",
       " -2044800.0000000002,\n",
       " 459084.943820224,\n",
       " -569793.103448275,\n",
       " 2013120.0000000002,\n",
       " 155011.764705882,\n",
       " 5616000.0,\n",
       " -596945.454545454,\n",
       " 10368000.0,\n",
       " 602487.5912408751,\n",
       " 669257.142857142,\n",
       " 602487.5912408751,\n",
       " 416497.86700125405,\n",
       " 416007.692307692,\n",
       " 771840.0,\n",
       " -43200.0,\n",
       " -1210752.0,\n",
       " 416007.692307692,\n",
       " 554798.697068403,\n",
       " 602487.5912408751,\n",
       " 684679.2452830181,\n",
       " 261502.66512166802,\n",
       " -287778.46153846104,\n",
       " -535680.0,\n",
       " 2165082.352941176,\n",
       " 669600.0,\n",
       " 1689984.0,\n",
       " -1095486.7924528301,\n",
       " -7084800.0,\n",
       " -1965600.0000000002,\n",
       " 279776.18497109803,\n",
       " 602487.5912408751,\n",
       " -74057.14285714201,\n",
       " -939600.0000000001,\n",
       " 432000.0,\n",
       " -2764800.0,\n",
       " 261502.66512166802,\n",
       " 322338.46153846104,\n",
       " 1641600.0,\n",
       " -1082057.142857142,\n",
       " -192738.461538461,\n",
       " 381978.947368421,\n",
       " -210409.411764705,\n",
       " 381927.272727272,\n",
       " -1483488.0,\n",
       " -210409.411764705,\n",
       " 373693.251533742,\n",
       " 172800.0,\n",
       " 405054.915254237,\n",
       " 373693.251533742,\n",
       " 460800.0,\n",
       " 799200.0,\n",
       " 883938.461538461,\n",
       " 602487.5912408751,\n",
       " -853835.2941176471,\n",
       " 189088.52459016303,\n",
       " -210409.411764705,\n",
       " 669954.098360655,\n",
       " -1521754.838709677,\n",
       " 416497.86700125405,\n",
       " -5026909.090909092,\n",
       " 345600.0,\n",
       " 518400.00000000006,\n",
       " -377353.846153846,\n",
       " -4119466.666666666,\n",
       " -2815200.0,\n",
       " 716886.486486486,\n",
       " -774000.0,\n",
       " 416007.692307692,\n",
       " 967680.0000000001,\n",
       " -1704960.0,\n",
       " 629485.7142857141,\n",
       " 1373305.2631578941,\n",
       " -2606811.428571428,\n",
       " -1082057.142857142,\n",
       " -1498357.894736842,\n",
       " 2049600.0000000002,\n",
       " 373693.251533742,\n",
       " 2049600.0000000002,\n",
       " -848700.0,\n",
       " 895418.1818181811,\n",
       " -1221435.616438356,\n",
       " 441600.0,\n",
       " 7560000.000000001,\n",
       " 683686.956521739,\n",
       " 739402.105263157,\n",
       " -705600.0,\n",
       " 459084.943820224,\n",
       " 739402.105263157,\n",
       " 441600.0,\n",
       " 602487.5912408751,\n",
       " -1210752.0,\n",
       " -210409.411764705,\n",
       " -377353.846153846,\n",
       " 405054.915254237,\n",
       " 279776.18497109803,\n",
       " -963692.307692307,\n",
       " -3196800.0,\n",
       " -566400.0,\n",
       " 261502.66512166802,\n",
       " -545400.0,\n",
       " 599314.285714285,\n",
       " -4339938.461538461,\n",
       " -1540080.0,\n",
       " -2085942.857142857,\n",
       " -377353.846153846,\n",
       " -848700.0,\n",
       " 1029978.947368421,\n",
       " 7905600.000000001,\n",
       " 411339.130434782,\n",
       " 623182.978723404,\n",
       " 662400.0,\n",
       " -210409.411764705,\n",
       " -2880000.0,\n",
       " 481521.95121951203,\n",
       " 279776.18497109803,\n",
       " -1513878.2608695652,\n",
       " -79046.808510638,\n",
       " -624738.461538461,\n",
       " 481521.95121951203,\n",
       " -124219.21708185,\n",
       " 251686.95652173902,\n",
       " -222336.0,\n",
       " 1209600.0,\n",
       " -151200.0,\n",
       " -2086243.902439024,\n",
       " 381394.28571428504,\n",
       " 1922400.0000000002,\n",
       " 311276.712328767,\n",
       " -955482.352941176,\n",
       " 669257.142857142,\n",
       " 1220676.923076923,\n",
       " -545040.0,\n",
       " 1133790.967741935,\n",
       " 3782400.0000000005,\n",
       " -124219.21708185,\n",
       " 981818.1818181811,\n",
       " -1513878.2608695652,\n",
       " -2721600.0,\n",
       " 416497.86700125405,\n",
       " -913680.0,\n",
       " -124219.21708185,\n",
       " 405054.915254237,\n",
       " 3816000.0000000005,\n",
       " 1663200.0,\n",
       " 416007.692307692,\n",
       " 554798.697068403,\n",
       " 416007.692307692,\n",
       " -1505032.2580645161,\n",
       " -4119466.666666666,\n",
       " -86400.0,\n",
       " 261741.17647058802,\n",
       " 1443927.272727272,\n",
       " 1313875.862068965,\n",
       " 2049600.0000000002,\n",
       " -172800.0,\n",
       " 602487.5912408751,\n",
       " 571569.23076923,\n",
       " 623182.978723404,\n",
       " 481521.95121951203,\n",
       " 518400.00000000006,\n",
       " 827621.0526315791,\n",
       " 6998400.0,\n",
       " 571569.23076923,\n",
       " 518400.00000000006,\n",
       " 743040.0,\n",
       " -931617.3913043471,\n",
       " -210409.411764705,\n",
       " -359841.75824175804,\n",
       " 375840.0,\n",
       " -598628.571428571,\n",
       " 0.0,\n",
       " 1799588.5714285711,\n",
       " 300406.153846153,\n",
       " 669257.142857142,\n",
       " 554798.697068403,\n",
       " -3600000.0,\n",
       " 1605848.275862069,\n",
       " -764307.692307692,\n",
       " 669257.142857142,\n",
       " -564266.666666666,\n",
       " 1169157.44680851,\n",
       " -1533880.519480519,\n",
       " 459084.943820224,\n",
       " -1084320.0,\n",
       " 777600.0,\n",
       " 261502.66512166802,\n",
       " -2550734.328358209,\n",
       " 1695143.661971831,\n",
       " 3240000.0,\n",
       " -90327.27272727201,\n",
       " -518400.00000000006,\n",
       " -1526400.0,\n",
       " 716886.486486486,\n",
       " 459084.943820224,\n",
       " -1721353.846153846,\n",
       " -359841.75824175804,\n",
       " 1623600.0,\n",
       " 1493485.714285714,\n",
       " 1581320.9302325582,\n",
       " 459084.943820224,\n",
       " -2373120.0,\n",
       " -2606811.428571428,\n",
       " -124219.21708185,\n",
       " 86400.0,\n",
       " -3326400.0,\n",
       " 893907.692307692,\n",
       " 481521.95121951203,\n",
       " 416497.86700125405,\n",
       " -2592000.0,\n",
       " 1541907.692307692,\n",
       " 6422400.0,\n",
       " 459084.943820224,\n",
       " 797929.4117647051,\n",
       " 279776.18497109803,\n",
       " 459084.943820224,\n",
       " -2086243.902439024,\n",
       " -359841.75824175804,\n",
       " 1913142.857142857,\n",
       " 1799588.5714285711,\n",
       " 540553.846153846,\n",
       " -2764800.0,\n",
       " 324000.0,\n",
       " -158400.0,\n",
       " 0.0,\n",
       " -529548.3870967741,\n",
       " -3010775.510204081,\n",
       " -621216.0,\n",
       " 602487.5912408751,\n",
       " -3326400.0,\n",
       " 1767497.142857142,\n",
       " -954268.656716417,\n",
       " 311276.712328767,\n",
       " 405054.915254237,\n",
       " -210409.411764705,\n",
       " -272766.94214876,\n",
       " 416497.86700125405,\n",
       " 740358.6206896551,\n",
       " 38176.744186046,\n",
       " -1870747.826086956,\n",
       " -2905200.0,\n",
       " 3085714.285714285,\n",
       " -374005.479452054,\n",
       " -621216.0,\n",
       " 1937178.9473684211,\n",
       " 345600.0,\n",
       " 416007.692307692,\n",
       " 261502.66512166802,\n",
       " 405054.915254237,\n",
       " -1280000.0,\n",
       " -1150484.210526315,\n",
       " 1929600.0000000002,\n",
       " -955482.352941176,\n",
       " 791242.105263157,\n",
       " -576000.0,\n",
       " 1334400.0,\n",
       " 1318967.088607595,\n",
       " 153051.428571428,\n",
       " 3240000.0,\n",
       " -210409.411764705,\n",
       " 405054.915254237,\n",
       " -1123200.0,\n",
       " 416497.86700125405,\n",
       " -98181.818181818,\n",
       " -2903040.0,\n",
       " 491245.714285714,\n",
       " 4190400.0000000005,\n",
       " 189088.52459016303,\n",
       " 669954.098360655,\n",
       " 1036800.0000000001,\n",
       " 11404800.0,\n",
       " 416007.692307692,\n",
       " 4190400.0000000005,\n",
       " -74057.14285714201,\n",
       " 622916.1290322581,\n",
       " 826675.2000000001,\n",
       " 2656800.0,\n",
       " -545400.0,\n",
       " 86400.0,\n",
       " 261502.66512166802,\n",
       " -210409.411764705,\n",
       " -5798400.0,\n",
       " -869890.9090909091,\n",
       " 1443927.272727272,\n",
       " -1408457.142857142,\n",
       " -869890.9090909091,\n",
       " 10091520.0,\n",
       " 416007.692307692,\n",
       " -190989.47368421,\n",
       " 459084.943820224,\n",
       " 416007.692307692,\n",
       " 563375.3424657531,\n",
       " -524880.0,\n",
       " 373693.251533742,\n",
       " 606264.4067796611,\n",
       " 1575663.1578947362,\n",
       " 261502.66512166802,\n",
       " -428349.29577464703,\n",
       " 53543.661971830006,\n",
       " -2304000.0,\n",
       " -549186.2068965511,\n",
       " -1498357.894736842,\n",
       " 1130553.191489361,\n",
       " 0.0,\n",
       " 416497.86700125405,\n",
       " -2051382.857142857,\n",
       " 3181090.909090909,\n",
       " 2643840.0,\n",
       " 1397647.0588235292,\n",
       " 481521.95121951203,\n",
       " -210409.411764705,\n",
       " 216000.0,\n",
       " 325661.53846153803,\n",
       " 2656800.0,\n",
       " 405054.915254237,\n",
       " 669954.098360655,\n",
       " 554798.697068403,\n",
       " 639074.380165289,\n",
       " -2982938.613861386,\n",
       " -287778.46153846104,\n",
       " -4084457.142857143,\n",
       " -778308.1967213111,\n",
       " 416497.86700125405,\n",
       " -1483488.0,\n",
       " -555670.588235294,\n",
       " 416007.692307692,\n",
       " 353750.94339622604,\n",
       " 494400.00000000006,\n",
       " 540553.846153846,\n",
       " -25920.0,\n",
       " 284611.764705882,\n",
       " 1313875.862068965,\n",
       " 1029978.947368421,\n",
       " -1371.4285714280002,\n",
       " -124219.21708185,\n",
       " 700625.454545454,\n",
       " -869890.9090909091,\n",
       " 1628047.0588235292,\n",
       " 563375.3424657531,\n",
       " 3139200.0,\n",
       " 768505.263157894,\n",
       " 602487.5912408751,\n",
       " 5356800.0,\n",
       " 486000.00000000006,\n",
       " -28800.0,\n",
       " -127542.85714285701,\n",
       " 1443927.272727272,\n",
       " -2808000.0,\n",
       " 1036800.0000000001,\n",
       " -2592000.0,\n",
       " 4573800.0,\n",
       " 1854400.0,\n",
       " -524880.0,\n",
       " 771840.0,\n",
       " -596945.454545454,\n",
       " -106729.411764705,\n",
       " 1364556.5217391301,\n",
       " 407314.28571428504,\n",
       " -755382.857142857,\n",
       " 227232.0,\n",
       " -1095486.7924528301,\n",
       " 3139200.0,\n",
       " 314742.85714285704,\n",
       " -326400.0,\n",
       " 279776.18497109803,\n",
       " -326400.0,\n",
       " 5864400.0,\n",
       " -1379420.6896551722,\n",
       " -328926.315789473,\n",
       " -210409.411764705,\n",
       " 571569.23076923,\n",
       " -375575.510204081,\n",
       " -121086.131386861,\n",
       " 1234285.714285714,\n",
       " 739402.105263157,\n",
       " 1825200.0,\n",
       " -2187648.0,\n",
       " -222336.0,\n",
       " 561600.0,\n",
       " -1728000.0,\n",
       " 1695143.661971831,\n",
       " 1443927.272727272,\n",
       " 639074.380165289,\n",
       " -1756800.0,\n",
       " 261502.66512166802,\n",
       " -124219.21708185,\n",
       " -1483488.0,\n",
       " ...]"
      ]
     },
     "execution_count": 106,
     "metadata": {},
     "output_type": "execute_result"
    }
   ],
   "source": [
    "list(y_test['avg_delay'])"
   ]
  },
  {
   "cell_type": "code",
   "execution_count": 107,
   "id": "3c5d258f",
   "metadata": {},
   "outputs": [
    {
     "data": {
      "text/plain": [
       "[Text(0.5, 1.0, 'Linear Regression Model on Train Data'),\n",
       " Text(0.5, 0, 'Predicted Delay'),\n",
       " Text(0, 0.5, 'Actual Delay')]"
      ]
     },
     "execution_count": 107,
     "metadata": {},
     "output_type": "execute_result"
    },
    {
     "data": {
      "image/png": "[encoded data removed]",
      "text/plain": [
       "<Figure size 1080x504 with 1 Axes>"
      ]
     },
     "metadata": {
      "needs_background": "light"
     },
     "output_type": "display_data"
    }
   ],
   "source": [
    "plt.figure(figsize=(15,7))\n",
    "fig=sns.regplot(predicted_train,y_train,color='blue',marker='D')\n",
    "fig.set(title='Linear Regression Model on Train Data',xlabel='Predicted Delay',ylabel='Actual Delay')"
   ]
  },
  {
   "cell_type": "code",
   "execution_count": 108,
   "id": "ccfd685d",
   "metadata": {},
   "outputs": [
    {
     "data": {
      "text/plain": [
       "[Text(0.5, 1.0, 'Linear Regression Model on Test Data'),\n",
       " Text(0.5, 0, 'Predicted Delay'),\n",
       " Text(0, 0.5, 'Actual Delay')]"
      ]
     },
     "execution_count": 108,
     "metadata": {},
     "output_type": "execute_result"
    },
    {
     "data": {
      "image/png": "[encoded data removed]",
      "text/plain": [
       "<Figure size 1080x504 with 1 Axes>"
      ]
     },
     "metadata": {
      "needs_background": "light"
     },
     "output_type": "display_data"
    }
   ],
   "source": [
    "plt.figure(figsize=(15,7))\n",
    "fig=sns.regplot(predicted,y_test,color='green',marker='D')\n",
    "fig.set(title='Linear Regression Model on Test Data',xlabel='Predicted Delay',ylabel='Actual Delay')"
   ]
  },
  {
   "cell_type": "markdown",
   "id": "G02cpnBhXJ14",
   "metadata": {
    "id": "G02cpnBhXJ14"
   },
   "source": [
    "### Check for the \n",
    "\n",
    "- Mean Square Error\n",
    "- R Square Error \n",
    "\n",
    "for y_test and predicted dataset and store those data inside respective list for comparison "
   ]
  },
  {
   "cell_type": "code",
   "execution_count": 120,
   "id": "0f69ca19",
   "metadata": {
    "id": "0f69ca19"
   },
   "outputs": [],
   "source": [
    "MSE_Score.append(mean_squared_error(y_test, x))\n",
    "R2_Score.append(r2_score(y_test, x))"
   ]
  },
  {
   "cell_type": "code",
   "execution_count": 121,
   "id": "1bdf2b51",
   "metadata": {},
   "outputs": [
    {
     "data": {
      "text/html": [
       "<div>\n",
       "<style scoped>\n",
       "    .dataframe tbody tr th:only-of-type {\n",
       "        vertical-align: middle;\n",
       "    }\n",
       "\n",
       "    .dataframe tbody tr th {\n",
       "        vertical-align: top;\n",
       "    }\n",
       "\n",
       "    .dataframe thead th {\n",
       "        text-align: right;\n",
       "    }\n",
       "</style>\n",
       "<table border=\"1\" class=\"dataframe\">\n",
       "  <thead>\n",
       "    <tr style=\"text-align: right;\">\n",
       "      <th></th>\n",
       "      <th>avg_delay</th>\n",
       "    </tr>\n",
       "  </thead>\n",
       "  <tbody>\n",
       "    <tr>\n",
       "      <th>23619</th>\n",
       "      <td>-2.487273e+06</td>\n",
       "    </tr>\n",
       "    <tr>\n",
       "      <th>28084</th>\n",
       "      <td>6.024876e+05</td>\n",
       "    </tr>\n",
       "    <tr>\n",
       "      <th>36502</th>\n",
       "      <td>-2.592000e+05</td>\n",
       "    </tr>\n",
       "    <tr>\n",
       "      <th>38280</th>\n",
       "      <td>1.368960e+06</td>\n",
       "    </tr>\n",
       "    <tr>\n",
       "      <th>29218</th>\n",
       "      <td>-9.032727e+04</td>\n",
       "    </tr>\n",
       "    <tr>\n",
       "      <th>...</th>\n",
       "      <td>...</td>\n",
       "    </tr>\n",
       "    <tr>\n",
       "      <th>12492</th>\n",
       "      <td>-2.448000e+06</td>\n",
       "    </tr>\n",
       "    <tr>\n",
       "      <th>29953</th>\n",
       "      <td>4.774737e+04</td>\n",
       "    </tr>\n",
       "    <tr>\n",
       "      <th>49755</th>\n",
       "      <td>6.024876e+05</td>\n",
       "    </tr>\n",
       "    <tr>\n",
       "      <th>31243</th>\n",
       "      <td>4.050549e+05</td>\n",
       "    </tr>\n",
       "    <tr>\n",
       "      <th>5096</th>\n",
       "      <td>-2.104094e+05</td>\n",
       "    </tr>\n",
       "  </tbody>\n",
       "</table>\n",
       "<p>7832 rows × 1 columns</p>\n",
       "</div>"
      ],
      "text/plain": [
       "          avg_delay\n",
       "23619 -2.487273e+06\n",
       "28084  6.024876e+05\n",
       "36502 -2.592000e+05\n",
       "38280  1.368960e+06\n",
       "29218 -9.032727e+04\n",
       "...             ...\n",
       "12492 -2.448000e+06\n",
       "29953  4.774737e+04\n",
       "49755  6.024876e+05\n",
       "31243  4.050549e+05\n",
       "5096  -2.104094e+05\n",
       "\n",
       "[7832 rows x 1 columns]"
      ]
     },
     "execution_count": 121,
     "metadata": {},
     "output_type": "execute_result"
    }
   ],
   "source": [
    "y_test"
   ]
  },
  {
   "cell_type": "code",
   "execution_count": 125,
   "id": "f53f1c6e",
   "metadata": {},
   "outputs": [
    {
     "data": {
      "text/plain": [
       "7832"
      ]
     },
     "execution_count": 125,
     "metadata": {},
     "output_type": "execute_result"
    }
   ],
   "source": [
    "len(predicted)"
   ]
  },
  {
   "cell_type": "code",
   "execution_count": 126,
   "id": "cd64dee4",
   "metadata": {},
   "outputs": [],
   "source": [
    "def huber_fn(y_true, y_pred,delta=1.0):\n",
    "#     threshold = 1\n",
    "    error = y_true - y_pred\n",
    "    abs_error = np.abs(error)\n",
    "    quadratic = np.minimum(abs_error,delta)\n",
    "    linear = abs_error - quadratic\n",
    "    return np.mean(0.5*quadratic**2 + delta  * linear)\n"
   ]
  },
  {
   "cell_type": "code",
   "execution_count": 127,
   "id": "72844094",
   "metadata": {},
   "outputs": [],
   "source": [
    "Huber_Score = huber_fn(y_test, predicted)"
   ]
  },
  {
   "cell_type": "code",
   "execution_count": 128,
   "id": "7fc9b9d8",
   "metadata": {},
   "outputs": [],
   "source": [
    "Huber_Loss.append(Huber_Score[0])"
   ]
  },
  {
   "cell_type": "code",
   "execution_count": 129,
   "id": "0b542203",
   "metadata": {},
   "outputs": [],
   "source": [
    "def quantile_loss(y_true, y_pred, quantile):\n",
    "    error = y_true - y_pred\n",
    "    return np.maximum(quantile*error,(quantile-1)*error).mean()"
   ]
  },
  {
   "cell_type": "code",
   "execution_count": 130,
   "id": "e2b27aaf",
   "metadata": {},
   "outputs": [],
   "source": [
    "Quantile_Score = quantile_loss(y_test, predicted,0.5)"
   ]
  },
  {
   "cell_type": "code",
   "execution_count": 131,
   "id": "9f82015a",
   "metadata": {},
   "outputs": [
    {
     "data": {
      "text/plain": [
       "639110.2569346691"
      ]
     },
     "execution_count": 131,
     "metadata": {},
     "output_type": "execute_result"
    }
   ],
   "source": [
    "Quantile_Score[0]"
   ]
  },
  {
   "cell_type": "code",
   "execution_count": 132,
   "id": "8ea188a0",
   "metadata": {},
   "outputs": [],
   "source": [
    "Quantile_Loss.append(Quantile_Score[0])"
   ]
  },
  {
   "cell_type": "code",
   "execution_count": 159,
   "id": "211eed68",
   "metadata": {},
   "outputs": [
    {
     "data": {
      "image/png": "[encoded data removed]",
      "text/plain": [
       "<Figure size 432x288 with 1 Axes>"
      ]
     },
     "metadata": {
      "needs_background": "light"
     },
     "output_type": "display_data"
    }
   ],
   "source": [
    "\n",
    "def huber_loss(y_true, y_pred, delta):\n",
    "    \"\"\"\n",
    "    Huber loss function.\n",
    "    \"\"\"\n",
    "    residual = np.abs(y_true - y_pred)\n",
    "    quadratic = np.minimum(residual, delta)\n",
    "    linear = (residual - quadratic)\n",
    "    return 0.5 * quadratic ** 2 + delta * linear\n",
    "\n",
    "# Create a range of values for y_true and y_pred\n",
    "y_range = np.linspace(-5, 5, 100)\n",
    "\n",
    "# Calculate the Huber loss for each pair of values with delta=1\n",
    "delta = 1\n",
    "huber_values = [huber_loss(y_test['avg_delay'],y_pred=0, delta=delta) for y in y_range]\n",
    "\n",
    "# Plot the Huber loss values\n",
    "plt.plot(y_range, huber_values)\n",
    "plt.xlabel(\"True Value (y_true)\")\n",
    "plt.ylabel(\"Huber Loss\")\n",
    "plt.title(f\"Huber Loss Function (delta={delta})\")\n",
    "plt.show()\n"
   ]
  },
  {
   "cell_type": "code",
   "execution_count": 172,
   "id": "4a144d74",
   "metadata": {},
   "outputs": [
    {
     "data": {
      "text/html": [
       "<div>\n",
       "<style scoped>\n",
       "    .dataframe tbody tr th:only-of-type {\n",
       "        vertical-align: middle;\n",
       "    }\n",
       "\n",
       "    .dataframe tbody tr th {\n",
       "        vertical-align: top;\n",
       "    }\n",
       "\n",
       "    .dataframe thead th {\n",
       "        text-align: right;\n",
       "    }\n",
       "</style>\n",
       "<table border=\"1\" class=\"dataframe\">\n",
       "  <thead>\n",
       "    <tr style=\"text-align: right;\">\n",
       "      <th></th>\n",
       "      <th>True Value</th>\n",
       "      <th>Predicted Value</th>\n",
       "      <th>MSE</th>\n",
       "    </tr>\n",
       "  </thead>\n",
       "  <tbody>\n",
       "    <tr>\n",
       "      <th>0</th>\n",
       "      <td>-2.487273e+06</td>\n",
       "      <td>1.279872e+06</td>\n",
       "      <td>1.419138e+13</td>\n",
       "    </tr>\n",
       "    <tr>\n",
       "      <th>1</th>\n",
       "      <td>6.024876e+05</td>\n",
       "      <td>3.145772e+05</td>\n",
       "      <td>8.289237e+10</td>\n",
       "    </tr>\n",
       "    <tr>\n",
       "      <th>2</th>\n",
       "      <td>-2.592000e+05</td>\n",
       "      <td>-2.769268e+05</td>\n",
       "      <td>3.142408e+08</td>\n",
       "    </tr>\n",
       "    <tr>\n",
       "      <th>3</th>\n",
       "      <td>1.368960e+06</td>\n",
       "      <td>-2.254534e+05</td>\n",
       "      <td>2.542154e+12</td>\n",
       "    </tr>\n",
       "    <tr>\n",
       "      <th>4</th>\n",
       "      <td>-9.032727e+04</td>\n",
       "      <td>5.205540e+05</td>\n",
       "      <td>3.731759e+11</td>\n",
       "    </tr>\n",
       "    <tr>\n",
       "      <th>...</th>\n",
       "      <td>...</td>\n",
       "      <td>...</td>\n",
       "      <td>...</td>\n",
       "    </tr>\n",
       "    <tr>\n",
       "      <th>7827</th>\n",
       "      <td>-2.448000e+06</td>\n",
       "      <td>-1.347412e+05</td>\n",
       "      <td>5.351166e+12</td>\n",
       "    </tr>\n",
       "    <tr>\n",
       "      <th>7828</th>\n",
       "      <td>4.774737e+04</td>\n",
       "      <td>5.664081e+05</td>\n",
       "      <td>2.690089e+11</td>\n",
       "    </tr>\n",
       "    <tr>\n",
       "      <th>7829</th>\n",
       "      <td>6.024876e+05</td>\n",
       "      <td>2.275634e+05</td>\n",
       "      <td>1.405682e+11</td>\n",
       "    </tr>\n",
       "    <tr>\n",
       "      <th>7830</th>\n",
       "      <td>4.050549e+05</td>\n",
       "      <td>7.083196e+05</td>\n",
       "      <td>9.196945e+10</td>\n",
       "    </tr>\n",
       "    <tr>\n",
       "      <th>7831</th>\n",
       "      <td>-2.104094e+05</td>\n",
       "      <td>1.567422e+04</td>\n",
       "      <td>5.111381e+10</td>\n",
       "    </tr>\n",
       "  </tbody>\n",
       "</table>\n",
       "<p>7832 rows × 3 columns</p>\n",
       "</div>"
      ],
      "text/plain": [
       "        True Value  Predicted Value           MSE\n",
       "0    -2.487273e+06     1.279872e+06  1.419138e+13\n",
       "1     6.024876e+05     3.145772e+05  8.289237e+10\n",
       "2    -2.592000e+05    -2.769268e+05  3.142408e+08\n",
       "3     1.368960e+06    -2.254534e+05  2.542154e+12\n",
       "4    -9.032727e+04     5.205540e+05  3.731759e+11\n",
       "...            ...              ...           ...\n",
       "7827 -2.448000e+06    -1.347412e+05  5.351166e+12\n",
       "7828  4.774737e+04     5.664081e+05  2.690089e+11\n",
       "7829  6.024876e+05     2.275634e+05  1.405682e+11\n",
       "7830  4.050549e+05     7.083196e+05  9.196945e+10\n",
       "7831 -2.104094e+05     1.567422e+04  5.111381e+10\n",
       "\n",
       "[7832 rows x 3 columns]"
      ]
     },
     "execution_count": 172,
     "metadata": {},
     "output_type": "execute_result"
    }
   ],
   "source": [
    "def mse_loss(y_true, y_pred):\n",
    "    \"\"\"\n",
    "    Mean Squared Error (MSE) loss function.\n",
    "    \"\"\"\n",
    "    return np.mean((y_true - y_pred) ** 2)\n",
    "\n",
    "# Create a list of true and predicted values\n",
    "\n",
    "# Calculate the MSE for each pair of values\n",
    "mse_values = [mse_loss(yt, yp) for yt, yp in zip(y_test['avg_delay'], x['avg_delay_pred'])]\n",
    "\n",
    "# Create a pandas DataFrame of the MSE values\n",
    "mse_df = pd.DataFrame({'True Value': list(y_test['avg_delay']), 'Predicted Value': list(x['avg_delay_pred']), 'MSE': mse_values})\n",
    "\n",
    "mse_df\n"
   ]
  },
  {
   "cell_type": "code",
   "execution_count": 177,
   "id": "df2af081",
   "metadata": {},
   "outputs": [
    {
     "data": {
      "image/png": "[encoded data removed]",
      "text/plain": [
       "<Figure size 1080x504 with 1 Axes>"
      ]
     },
     "metadata": {
      "needs_background": "light"
     },
     "output_type": "display_data"
    }
   ],
   "source": [
    "plt.figure(figsize=(15,7))\n",
    "\n",
    "y_range = np.linspace(-5, 5, 100)\n",
    "# Plot the MSE values\n",
    "plt.plot(mse_df['True Value'], mse_df['MSE'])\n",
    "plt.xlabel(\"True Value (y_true)\")\n",
    "plt.ylabel(\"MSE Loss\")\n",
    "plt.title(\"Mean Squared Error Loss Function\")\n",
    "plt.show()\n"
   ]
  },
  {
   "cell_type": "code",
   "execution_count": 146,
   "id": "639d0e60",
   "metadata": {},
   "outputs": [
    {
     "data": {
      "text/plain": [
       "[avg_delay        NaN\n",
       " avg_delay_pred   NaN\n",
       " dtype: float64,\n",
       " avg_delay        NaN\n",
       " avg_delay_pred   NaN\n",
       " dtype: float64,\n",
       " avg_delay        NaN\n",
       " avg_delay_pred   NaN\n",
       " dtype: float64,\n",
       " avg_delay        NaN\n",
       " avg_delay_pred   NaN\n",
       " dtype: float64,\n",
       " avg_delay        NaN\n",
       " avg_delay_pred   NaN\n",
       " dtype: float64,\n",
       " avg_delay        NaN\n",
       " avg_delay_pred   NaN\n",
       " dtype: float64,\n",
       " avg_delay        NaN\n",
       " avg_delay_pred   NaN\n",
       " dtype: float64,\n",
       " avg_delay        NaN\n",
       " avg_delay_pred   NaN\n",
       " dtype: float64,\n",
       " avg_delay        NaN\n",
       " avg_delay_pred   NaN\n",
       " dtype: float64,\n",
       " avg_delay        NaN\n",
       " avg_delay_pred   NaN\n",
       " dtype: float64,\n",
       " avg_delay        NaN\n",
       " avg_delay_pred   NaN\n",
       " dtype: float64,\n",
       " avg_delay        NaN\n",
       " avg_delay_pred   NaN\n",
       " dtype: float64,\n",
       " avg_delay        NaN\n",
       " avg_delay_pred   NaN\n",
       " dtype: float64,\n",
       " avg_delay        NaN\n",
       " avg_delay_pred   NaN\n",
       " dtype: float64,\n",
       " avg_delay        NaN\n",
       " avg_delay_pred   NaN\n",
       " dtype: float64,\n",
       " avg_delay        NaN\n",
       " avg_delay_pred   NaN\n",
       " dtype: float64,\n",
       " avg_delay        NaN\n",
       " avg_delay_pred   NaN\n",
       " dtype: float64,\n",
       " avg_delay        NaN\n",
       " avg_delay_pred   NaN\n",
       " dtype: float64,\n",
       " avg_delay        NaN\n",
       " avg_delay_pred   NaN\n",
       " dtype: float64,\n",
       " avg_delay        NaN\n",
       " avg_delay_pred   NaN\n",
       " dtype: float64,\n",
       " avg_delay        NaN\n",
       " avg_delay_pred   NaN\n",
       " dtype: float64,\n",
       " avg_delay        NaN\n",
       " avg_delay_pred   NaN\n",
       " dtype: float64,\n",
       " avg_delay        NaN\n",
       " avg_delay_pred   NaN\n",
       " dtype: float64,\n",
       " avg_delay        NaN\n",
       " avg_delay_pred   NaN\n",
       " dtype: float64,\n",
       " avg_delay        NaN\n",
       " avg_delay_pred   NaN\n",
       " dtype: float64,\n",
       " avg_delay        NaN\n",
       " avg_delay_pred   NaN\n",
       " dtype: float64,\n",
       " avg_delay        NaN\n",
       " avg_delay_pred   NaN\n",
       " dtype: float64,\n",
       " avg_delay        NaN\n",
       " avg_delay_pred   NaN\n",
       " dtype: float64,\n",
       " avg_delay        NaN\n",
       " avg_delay_pred   NaN\n",
       " dtype: float64,\n",
       " avg_delay        NaN\n",
       " avg_delay_pred   NaN\n",
       " dtype: float64,\n",
       " avg_delay        NaN\n",
       " avg_delay_pred   NaN\n",
       " dtype: float64,\n",
       " avg_delay        NaN\n",
       " avg_delay_pred   NaN\n",
       " dtype: float64,\n",
       " avg_delay        NaN\n",
       " avg_delay_pred   NaN\n",
       " dtype: float64,\n",
       " avg_delay        NaN\n",
       " avg_delay_pred   NaN\n",
       " dtype: float64,\n",
       " avg_delay        NaN\n",
       " avg_delay_pred   NaN\n",
       " dtype: float64,\n",
       " avg_delay        NaN\n",
       " avg_delay_pred   NaN\n",
       " dtype: float64,\n",
       " avg_delay        NaN\n",
       " avg_delay_pred   NaN\n",
       " dtype: float64,\n",
       " avg_delay        NaN\n",
       " avg_delay_pred   NaN\n",
       " dtype: float64,\n",
       " avg_delay        NaN\n",
       " avg_delay_pred   NaN\n",
       " dtype: float64,\n",
       " avg_delay        NaN\n",
       " avg_delay_pred   NaN\n",
       " dtype: float64,\n",
       " avg_delay        NaN\n",
       " avg_delay_pred   NaN\n",
       " dtype: float64,\n",
       " avg_delay        NaN\n",
       " avg_delay_pred   NaN\n",
       " dtype: float64,\n",
       " avg_delay        NaN\n",
       " avg_delay_pred   NaN\n",
       " dtype: float64,\n",
       " avg_delay        NaN\n",
       " avg_delay_pred   NaN\n",
       " dtype: float64,\n",
       " avg_delay        NaN\n",
       " avg_delay_pred   NaN\n",
       " dtype: float64,\n",
       " avg_delay        NaN\n",
       " avg_delay_pred   NaN\n",
       " dtype: float64,\n",
       " avg_delay        NaN\n",
       " avg_delay_pred   NaN\n",
       " dtype: float64,\n",
       " avg_delay        NaN\n",
       " avg_delay_pred   NaN\n",
       " dtype: float64,\n",
       " avg_delay        NaN\n",
       " avg_delay_pred   NaN\n",
       " dtype: float64,\n",
       " avg_delay        NaN\n",
       " avg_delay_pred   NaN\n",
       " dtype: float64,\n",
       " avg_delay        NaN\n",
       " avg_delay_pred   NaN\n",
       " dtype: float64,\n",
       " avg_delay        NaN\n",
       " avg_delay_pred   NaN\n",
       " dtype: float64,\n",
       " avg_delay        NaN\n",
       " avg_delay_pred   NaN\n",
       " dtype: float64,\n",
       " avg_delay        NaN\n",
       " avg_delay_pred   NaN\n",
       " dtype: float64,\n",
       " avg_delay        NaN\n",
       " avg_delay_pred   NaN\n",
       " dtype: float64,\n",
       " avg_delay        NaN\n",
       " avg_delay_pred   NaN\n",
       " dtype: float64,\n",
       " avg_delay        NaN\n",
       " avg_delay_pred   NaN\n",
       " dtype: float64,\n",
       " avg_delay        NaN\n",
       " avg_delay_pred   NaN\n",
       " dtype: float64,\n",
       " avg_delay        NaN\n",
       " avg_delay_pred   NaN\n",
       " dtype: float64,\n",
       " avg_delay        NaN\n",
       " avg_delay_pred   NaN\n",
       " dtype: float64,\n",
       " avg_delay        NaN\n",
       " avg_delay_pred   NaN\n",
       " dtype: float64,\n",
       " avg_delay        NaN\n",
       " avg_delay_pred   NaN\n",
       " dtype: float64,\n",
       " avg_delay        NaN\n",
       " avg_delay_pred   NaN\n",
       " dtype: float64,\n",
       " avg_delay        NaN\n",
       " avg_delay_pred   NaN\n",
       " dtype: float64,\n",
       " avg_delay        NaN\n",
       " avg_delay_pred   NaN\n",
       " dtype: float64,\n",
       " avg_delay        NaN\n",
       " avg_delay_pred   NaN\n",
       " dtype: float64,\n",
       " avg_delay        NaN\n",
       " avg_delay_pred   NaN\n",
       " dtype: float64,\n",
       " avg_delay        NaN\n",
       " avg_delay_pred   NaN\n",
       " dtype: float64,\n",
       " avg_delay        NaN\n",
       " avg_delay_pred   NaN\n",
       " dtype: float64,\n",
       " avg_delay        NaN\n",
       " avg_delay_pred   NaN\n",
       " dtype: float64,\n",
       " avg_delay        NaN\n",
       " avg_delay_pred   NaN\n",
       " dtype: float64,\n",
       " avg_delay        NaN\n",
       " avg_delay_pred   NaN\n",
       " dtype: float64,\n",
       " avg_delay        NaN\n",
       " avg_delay_pred   NaN\n",
       " dtype: float64,\n",
       " avg_delay        NaN\n",
       " avg_delay_pred   NaN\n",
       " dtype: float64,\n",
       " avg_delay        NaN\n",
       " avg_delay_pred   NaN\n",
       " dtype: float64,\n",
       " avg_delay        NaN\n",
       " avg_delay_pred   NaN\n",
       " dtype: float64,\n",
       " avg_delay        NaN\n",
       " avg_delay_pred   NaN\n",
       " dtype: float64,\n",
       " avg_delay        NaN\n",
       " avg_delay_pred   NaN\n",
       " dtype: float64,\n",
       " avg_delay        NaN\n",
       " avg_delay_pred   NaN\n",
       " dtype: float64,\n",
       " avg_delay        NaN\n",
       " avg_delay_pred   NaN\n",
       " dtype: float64,\n",
       " avg_delay        NaN\n",
       " avg_delay_pred   NaN\n",
       " dtype: float64,\n",
       " avg_delay        NaN\n",
       " avg_delay_pred   NaN\n",
       " dtype: float64,\n",
       " avg_delay        NaN\n",
       " avg_delay_pred   NaN\n",
       " dtype: float64,\n",
       " avg_delay        NaN\n",
       " avg_delay_pred   NaN\n",
       " dtype: float64,\n",
       " avg_delay        NaN\n",
       " avg_delay_pred   NaN\n",
       " dtype: float64,\n",
       " avg_delay        NaN\n",
       " avg_delay_pred   NaN\n",
       " dtype: float64,\n",
       " avg_delay        NaN\n",
       " avg_delay_pred   NaN\n",
       " dtype: float64,\n",
       " avg_delay        NaN\n",
       " avg_delay_pred   NaN\n",
       " dtype: float64,\n",
       " avg_delay        NaN\n",
       " avg_delay_pred   NaN\n",
       " dtype: float64,\n",
       " avg_delay        NaN\n",
       " avg_delay_pred   NaN\n",
       " dtype: float64,\n",
       " avg_delay        NaN\n",
       " avg_delay_pred   NaN\n",
       " dtype: float64,\n",
       " avg_delay        NaN\n",
       " avg_delay_pred   NaN\n",
       " dtype: float64,\n",
       " avg_delay        NaN\n",
       " avg_delay_pred   NaN\n",
       " dtype: float64,\n",
       " avg_delay        NaN\n",
       " avg_delay_pred   NaN\n",
       " dtype: float64,\n",
       " avg_delay        NaN\n",
       " avg_delay_pred   NaN\n",
       " dtype: float64,\n",
       " avg_delay        NaN\n",
       " avg_delay_pred   NaN\n",
       " dtype: float64,\n",
       " avg_delay        NaN\n",
       " avg_delay_pred   NaN\n",
       " dtype: float64,\n",
       " avg_delay        NaN\n",
       " avg_delay_pred   NaN\n",
       " dtype: float64,\n",
       " avg_delay        NaN\n",
       " avg_delay_pred   NaN\n",
       " dtype: float64,\n",
       " avg_delay        NaN\n",
       " avg_delay_pred   NaN\n",
       " dtype: float64,\n",
       " avg_delay        NaN\n",
       " avg_delay_pred   NaN\n",
       " dtype: float64,\n",
       " avg_delay        NaN\n",
       " avg_delay_pred   NaN\n",
       " dtype: float64,\n",
       " avg_delay        NaN\n",
       " avg_delay_pred   NaN\n",
       " dtype: float64,\n",
       " avg_delay        NaN\n",
       " avg_delay_pred   NaN\n",
       " dtype: float64,\n",
       " avg_delay        NaN\n",
       " avg_delay_pred   NaN\n",
       " dtype: float64,\n",
       " avg_delay        NaN\n",
       " avg_delay_pred   NaN\n",
       " dtype: float64,\n",
       " avg_delay        NaN\n",
       " avg_delay_pred   NaN\n",
       " dtype: float64,\n",
       " avg_delay        NaN\n",
       " avg_delay_pred   NaN\n",
       " dtype: float64,\n",
       " avg_delay        NaN\n",
       " avg_delay_pred   NaN\n",
       " dtype: float64,\n",
       " avg_delay        NaN\n",
       " avg_delay_pred   NaN\n",
       " dtype: float64,\n",
       " avg_delay        NaN\n",
       " avg_delay_pred   NaN\n",
       " dtype: float64,\n",
       " avg_delay        NaN\n",
       " avg_delay_pred   NaN\n",
       " dtype: float64,\n",
       " avg_delay        NaN\n",
       " avg_delay_pred   NaN\n",
       " dtype: float64,\n",
       " avg_delay        NaN\n",
       " avg_delay_pred   NaN\n",
       " dtype: float64,\n",
       " avg_delay        NaN\n",
       " avg_delay_pred   NaN\n",
       " dtype: float64,\n",
       " avg_delay        NaN\n",
       " avg_delay_pred   NaN\n",
       " dtype: float64,\n",
       " avg_delay        NaN\n",
       " avg_delay_pred   NaN\n",
       " dtype: float64,\n",
       " avg_delay        NaN\n",
       " avg_delay_pred   NaN\n",
       " dtype: float64,\n",
       " avg_delay        NaN\n",
       " avg_delay_pred   NaN\n",
       " dtype: float64,\n",
       " avg_delay        NaN\n",
       " avg_delay_pred   NaN\n",
       " dtype: float64,\n",
       " avg_delay        NaN\n",
       " avg_delay_pred   NaN\n",
       " dtype: float64,\n",
       " avg_delay        NaN\n",
       " avg_delay_pred   NaN\n",
       " dtype: float64,\n",
       " avg_delay        NaN\n",
       " avg_delay_pred   NaN\n",
       " dtype: float64,\n",
       " avg_delay        NaN\n",
       " avg_delay_pred   NaN\n",
       " dtype: float64,\n",
       " avg_delay        NaN\n",
       " avg_delay_pred   NaN\n",
       " dtype: float64,\n",
       " avg_delay        NaN\n",
       " avg_delay_pred   NaN\n",
       " dtype: float64,\n",
       " avg_delay        NaN\n",
       " avg_delay_pred   NaN\n",
       " dtype: float64,\n",
       " avg_delay        NaN\n",
       " avg_delay_pred   NaN\n",
       " dtype: float64,\n",
       " avg_delay        NaN\n",
       " avg_delay_pred   NaN\n",
       " dtype: float64,\n",
       " avg_delay        NaN\n",
       " avg_delay_pred   NaN\n",
       " dtype: float64,\n",
       " avg_delay        NaN\n",
       " avg_delay_pred   NaN\n",
       " dtype: float64,\n",
       " avg_delay        NaN\n",
       " avg_delay_pred   NaN\n",
       " dtype: float64,\n",
       " avg_delay        NaN\n",
       " avg_delay_pred   NaN\n",
       " dtype: float64,\n",
       " avg_delay        NaN\n",
       " avg_delay_pred   NaN\n",
       " dtype: float64,\n",
       " avg_delay        NaN\n",
       " avg_delay_pred   NaN\n",
       " dtype: float64,\n",
       " avg_delay        NaN\n",
       " avg_delay_pred   NaN\n",
       " dtype: float64,\n",
       " avg_delay        NaN\n",
       " avg_delay_pred   NaN\n",
       " dtype: float64,\n",
       " avg_delay        NaN\n",
       " avg_delay_pred   NaN\n",
       " dtype: float64,\n",
       " avg_delay        NaN\n",
       " avg_delay_pred   NaN\n",
       " dtype: float64,\n",
       " avg_delay        NaN\n",
       " avg_delay_pred   NaN\n",
       " dtype: float64,\n",
       " avg_delay        NaN\n",
       " avg_delay_pred   NaN\n",
       " dtype: float64,\n",
       " avg_delay        NaN\n",
       " avg_delay_pred   NaN\n",
       " dtype: float64,\n",
       " avg_delay        NaN\n",
       " avg_delay_pred   NaN\n",
       " dtype: float64,\n",
       " avg_delay        NaN\n",
       " avg_delay_pred   NaN\n",
       " dtype: float64,\n",
       " avg_delay        NaN\n",
       " avg_delay_pred   NaN\n",
       " dtype: float64,\n",
       " avg_delay        NaN\n",
       " avg_delay_pred   NaN\n",
       " dtype: float64,\n",
       " avg_delay        NaN\n",
       " avg_delay_pred   NaN\n",
       " dtype: float64,\n",
       " avg_delay        NaN\n",
       " avg_delay_pred   NaN\n",
       " dtype: float64,\n",
       " avg_delay        NaN\n",
       " avg_delay_pred   NaN\n",
       " dtype: float64,\n",
       " avg_delay        NaN\n",
       " avg_delay_pred   NaN\n",
       " dtype: float64,\n",
       " avg_delay        NaN\n",
       " avg_delay_pred   NaN\n",
       " dtype: float64,\n",
       " avg_delay        NaN\n",
       " avg_delay_pred   NaN\n",
       " dtype: float64,\n",
       " avg_delay        NaN\n",
       " avg_delay_pred   NaN\n",
       " dtype: float64,\n",
       " avg_delay        NaN\n",
       " avg_delay_pred   NaN\n",
       " dtype: float64,\n",
       " avg_delay        NaN\n",
       " avg_delay_pred   NaN\n",
       " dtype: float64,\n",
       " avg_delay        NaN\n",
       " avg_delay_pred   NaN\n",
       " dtype: float64,\n",
       " avg_delay        NaN\n",
       " avg_delay_pred   NaN\n",
       " dtype: float64,\n",
       " avg_delay        NaN\n",
       " avg_delay_pred   NaN\n",
       " dtype: float64,\n",
       " avg_delay        NaN\n",
       " avg_delay_pred   NaN\n",
       " dtype: float64,\n",
       " avg_delay        NaN\n",
       " avg_delay_pred   NaN\n",
       " dtype: float64,\n",
       " avg_delay        NaN\n",
       " avg_delay_pred   NaN\n",
       " dtype: float64,\n",
       " avg_delay        NaN\n",
       " avg_delay_pred   NaN\n",
       " dtype: float64,\n",
       " avg_delay        NaN\n",
       " avg_delay_pred   NaN\n",
       " dtype: float64,\n",
       " avg_delay        NaN\n",
       " avg_delay_pred   NaN\n",
       " dtype: float64,\n",
       " avg_delay        NaN\n",
       " avg_delay_pred   NaN\n",
       " dtype: float64,\n",
       " avg_delay        NaN\n",
       " avg_delay_pred   NaN\n",
       " dtype: float64,\n",
       " avg_delay        NaN\n",
       " avg_delay_pred   NaN\n",
       " dtype: float64,\n",
       " avg_delay        NaN\n",
       " avg_delay_pred   NaN\n",
       " dtype: float64,\n",
       " avg_delay        NaN\n",
       " avg_delay_pred   NaN\n",
       " dtype: float64,\n",
       " avg_delay        NaN\n",
       " avg_delay_pred   NaN\n",
       " dtype: float64,\n",
       " avg_delay        NaN\n",
       " avg_delay_pred   NaN\n",
       " dtype: float64,\n",
       " avg_delay        NaN\n",
       " avg_delay_pred   NaN\n",
       " dtype: float64,\n",
       " avg_delay        NaN\n",
       " avg_delay_pred   NaN\n",
       " dtype: float64,\n",
       " avg_delay        NaN\n",
       " avg_delay_pred   NaN\n",
       " dtype: float64,\n",
       " avg_delay        NaN\n",
       " avg_delay_pred   NaN\n",
       " dtype: float64,\n",
       " avg_delay        NaN\n",
       " avg_delay_pred   NaN\n",
       " dtype: float64,\n",
       " avg_delay        NaN\n",
       " avg_delay_pred   NaN\n",
       " dtype: float64,\n",
       " avg_delay        NaN\n",
       " avg_delay_pred   NaN\n",
       " dtype: float64,\n",
       " avg_delay        NaN\n",
       " avg_delay_pred   NaN\n",
       " dtype: float64,\n",
       " avg_delay        NaN\n",
       " avg_delay_pred   NaN\n",
       " dtype: float64,\n",
       " avg_delay        NaN\n",
       " avg_delay_pred   NaN\n",
       " dtype: float64,\n",
       " avg_delay        NaN\n",
       " avg_delay_pred   NaN\n",
       " dtype: float64,\n",
       " avg_delay        NaN\n",
       " avg_delay_pred   NaN\n",
       " dtype: float64,\n",
       " avg_delay        NaN\n",
       " avg_delay_pred   NaN\n",
       " dtype: float64,\n",
       " avg_delay        NaN\n",
       " avg_delay_pred   NaN\n",
       " dtype: float64,\n",
       " avg_delay        NaN\n",
       " avg_delay_pred   NaN\n",
       " dtype: float64,\n",
       " avg_delay        NaN\n",
       " avg_delay_pred   NaN\n",
       " dtype: float64,\n",
       " avg_delay        NaN\n",
       " avg_delay_pred   NaN\n",
       " dtype: float64,\n",
       " avg_delay        NaN\n",
       " avg_delay_pred   NaN\n",
       " dtype: float64,\n",
       " avg_delay        NaN\n",
       " avg_delay_pred   NaN\n",
       " dtype: float64,\n",
       " avg_delay        NaN\n",
       " avg_delay_pred   NaN\n",
       " dtype: float64,\n",
       " avg_delay        NaN\n",
       " avg_delay_pred   NaN\n",
       " dtype: float64,\n",
       " avg_delay        NaN\n",
       " avg_delay_pred   NaN\n",
       " dtype: float64,\n",
       " avg_delay        NaN\n",
       " avg_delay_pred   NaN\n",
       " dtype: float64,\n",
       " avg_delay        NaN\n",
       " avg_delay_pred   NaN\n",
       " dtype: float64,\n",
       " avg_delay        NaN\n",
       " avg_delay_pred   NaN\n",
       " dtype: float64,\n",
       " avg_delay        NaN\n",
       " avg_delay_pred   NaN\n",
       " dtype: float64,\n",
       " avg_delay        NaN\n",
       " avg_delay_pred   NaN\n",
       " dtype: float64,\n",
       " avg_delay        NaN\n",
       " avg_delay_pred   NaN\n",
       " dtype: float64,\n",
       " avg_delay        NaN\n",
       " avg_delay_pred   NaN\n",
       " dtype: float64,\n",
       " avg_delay        NaN\n",
       " avg_delay_pred   NaN\n",
       " dtype: float64,\n",
       " avg_delay        NaN\n",
       " avg_delay_pred   NaN\n",
       " dtype: float64,\n",
       " avg_delay        NaN\n",
       " avg_delay_pred   NaN\n",
       " dtype: float64,\n",
       " avg_delay        NaN\n",
       " avg_delay_pred   NaN\n",
       " dtype: float64,\n",
       " avg_delay        NaN\n",
       " avg_delay_pred   NaN\n",
       " dtype: float64,\n",
       " avg_delay        NaN\n",
       " avg_delay_pred   NaN\n",
       " dtype: float64,\n",
       " avg_delay        NaN\n",
       " avg_delay_pred   NaN\n",
       " dtype: float64,\n",
       " avg_delay        NaN\n",
       " avg_delay_pred   NaN\n",
       " dtype: float64,\n",
       " avg_delay        NaN\n",
       " avg_delay_pred   NaN\n",
       " dtype: float64,\n",
       " avg_delay        NaN\n",
       " avg_delay_pred   NaN\n",
       " dtype: float64,\n",
       " avg_delay        NaN\n",
       " avg_delay_pred   NaN\n",
       " dtype: float64,\n",
       " avg_delay        NaN\n",
       " avg_delay_pred   NaN\n",
       " dtype: float64,\n",
       " avg_delay        NaN\n",
       " avg_delay_pred   NaN\n",
       " dtype: float64,\n",
       " avg_delay        NaN\n",
       " avg_delay_pred   NaN\n",
       " dtype: float64,\n",
       " avg_delay        NaN\n",
       " avg_delay_pred   NaN\n",
       " dtype: float64,\n",
       " avg_delay        NaN\n",
       " avg_delay_pred   NaN\n",
       " dtype: float64,\n",
       " avg_delay        NaN\n",
       " avg_delay_pred   NaN\n",
       " dtype: float64,\n",
       " avg_delay        NaN\n",
       " avg_delay_pred   NaN\n",
       " dtype: float64,\n",
       " avg_delay        NaN\n",
       " avg_delay_pred   NaN\n",
       " dtype: float64,\n",
       " avg_delay        NaN\n",
       " avg_delay_pred   NaN\n",
       " dtype: float64,\n",
       " avg_delay        NaN\n",
       " avg_delay_pred   NaN\n",
       " dtype: float64,\n",
       " avg_delay        NaN\n",
       " avg_delay_pred   NaN\n",
       " dtype: float64,\n",
       " avg_delay        NaN\n",
       " avg_delay_pred   NaN\n",
       " dtype: float64,\n",
       " avg_delay        NaN\n",
       " avg_delay_pred   NaN\n",
       " dtype: float64,\n",
       " avg_delay        NaN\n",
       " avg_delay_pred   NaN\n",
       " dtype: float64,\n",
       " avg_delay        NaN\n",
       " avg_delay_pred   NaN\n",
       " dtype: float64,\n",
       " avg_delay        NaN\n",
       " avg_delay_pred   NaN\n",
       " dtype: float64,\n",
       " avg_delay        NaN\n",
       " avg_delay_pred   NaN\n",
       " dtype: float64,\n",
       " avg_delay        NaN\n",
       " avg_delay_pred   NaN\n",
       " dtype: float64,\n",
       " avg_delay        NaN\n",
       " avg_delay_pred   NaN\n",
       " dtype: float64,\n",
       " avg_delay        NaN\n",
       " avg_delay_pred   NaN\n",
       " dtype: float64,\n",
       " avg_delay        NaN\n",
       " avg_delay_pred   NaN\n",
       " dtype: float64,\n",
       " avg_delay        NaN\n",
       " avg_delay_pred   NaN\n",
       " dtype: float64,\n",
       " avg_delay        NaN\n",
       " avg_delay_pred   NaN\n",
       " dtype: float64,\n",
       " avg_delay        NaN\n",
       " avg_delay_pred   NaN\n",
       " dtype: float64,\n",
       " avg_delay        NaN\n",
       " avg_delay_pred   NaN\n",
       " dtype: float64,\n",
       " avg_delay        NaN\n",
       " avg_delay_pred   NaN\n",
       " dtype: float64,\n",
       " avg_delay        NaN\n",
       " avg_delay_pred   NaN\n",
       " dtype: float64,\n",
       " avg_delay        NaN\n",
       " avg_delay_pred   NaN\n",
       " dtype: float64,\n",
       " avg_delay        NaN\n",
       " avg_delay_pred   NaN\n",
       " dtype: float64,\n",
       " avg_delay        NaN\n",
       " avg_delay_pred   NaN\n",
       " dtype: float64,\n",
       " avg_delay        NaN\n",
       " avg_delay_pred   NaN\n",
       " dtype: float64,\n",
       " avg_delay        NaN\n",
       " avg_delay_pred   NaN\n",
       " dtype: float64,\n",
       " avg_delay        NaN\n",
       " avg_delay_pred   NaN\n",
       " dtype: float64,\n",
       " avg_delay        NaN\n",
       " avg_delay_pred   NaN\n",
       " dtype: float64,\n",
       " avg_delay        NaN\n",
       " avg_delay_pred   NaN\n",
       " dtype: float64,\n",
       " avg_delay        NaN\n",
       " avg_delay_pred   NaN\n",
       " dtype: float64,\n",
       " avg_delay        NaN\n",
       " avg_delay_pred   NaN\n",
       " dtype: float64,\n",
       " avg_delay        NaN\n",
       " avg_delay_pred   NaN\n",
       " dtype: float64,\n",
       " avg_delay        NaN\n",
       " avg_delay_pred   NaN\n",
       " dtype: float64,\n",
       " avg_delay        NaN\n",
       " avg_delay_pred   NaN\n",
       " dtype: float64,\n",
       " avg_delay        NaN\n",
       " avg_delay_pred   NaN\n",
       " dtype: float64,\n",
       " avg_delay        NaN\n",
       " avg_delay_pred   NaN\n",
       " dtype: float64,\n",
       " avg_delay        NaN\n",
       " avg_delay_pred   NaN\n",
       " dtype: float64,\n",
       " avg_delay        NaN\n",
       " avg_delay_pred   NaN\n",
       " dtype: float64,\n",
       " avg_delay        NaN\n",
       " avg_delay_pred   NaN\n",
       " dtype: float64,\n",
       " avg_delay        NaN\n",
       " avg_delay_pred   NaN\n",
       " dtype: float64,\n",
       " avg_delay        NaN\n",
       " avg_delay_pred   NaN\n",
       " dtype: float64,\n",
       " avg_delay        NaN\n",
       " avg_delay_pred   NaN\n",
       " dtype: float64,\n",
       " avg_delay        NaN\n",
       " avg_delay_pred   NaN\n",
       " dtype: float64,\n",
       " avg_delay        NaN\n",
       " avg_delay_pred   NaN\n",
       " dtype: float64,\n",
       " avg_delay        NaN\n",
       " avg_delay_pred   NaN\n",
       " dtype: float64,\n",
       " avg_delay        NaN\n",
       " avg_delay_pred   NaN\n",
       " dtype: float64,\n",
       " avg_delay        NaN\n",
       " avg_delay_pred   NaN\n",
       " dtype: float64,\n",
       " avg_delay        NaN\n",
       " avg_delay_pred   NaN\n",
       " dtype: float64,\n",
       " avg_delay        NaN\n",
       " avg_delay_pred   NaN\n",
       " dtype: float64,\n",
       " avg_delay        NaN\n",
       " avg_delay_pred   NaN\n",
       " dtype: float64,\n",
       " avg_delay        NaN\n",
       " avg_delay_pred   NaN\n",
       " dtype: float64,\n",
       " avg_delay        NaN\n",
       " avg_delay_pred   NaN\n",
       " dtype: float64,\n",
       " avg_delay        NaN\n",
       " avg_delay_pred   NaN\n",
       " dtype: float64,\n",
       " avg_delay        NaN\n",
       " avg_delay_pred   NaN\n",
       " dtype: float64,\n",
       " avg_delay        NaN\n",
       " avg_delay_pred   NaN\n",
       " dtype: float64,\n",
       " avg_delay        NaN\n",
       " avg_delay_pred   NaN\n",
       " dtype: float64,\n",
       " avg_delay        NaN\n",
       " avg_delay_pred   NaN\n",
       " dtype: float64,\n",
       " avg_delay        NaN\n",
       " avg_delay_pred   NaN\n",
       " dtype: float64,\n",
       " avg_delay        NaN\n",
       " avg_delay_pred   NaN\n",
       " dtype: float64,\n",
       " avg_delay        NaN\n",
       " avg_delay_pred   NaN\n",
       " dtype: float64,\n",
       " avg_delay        NaN\n",
       " avg_delay_pred   NaN\n",
       " dtype: float64,\n",
       " avg_delay        NaN\n",
       " avg_delay_pred   NaN\n",
       " dtype: float64,\n",
       " avg_delay        NaN\n",
       " avg_delay_pred   NaN\n",
       " dtype: float64,\n",
       " avg_delay        NaN\n",
       " avg_delay_pred   NaN\n",
       " dtype: float64,\n",
       " avg_delay        NaN\n",
       " avg_delay_pred   NaN\n",
       " dtype: float64,\n",
       " avg_delay        NaN\n",
       " avg_delay_pred   NaN\n",
       " dtype: float64,\n",
       " avg_delay        NaN\n",
       " avg_delay_pred   NaN\n",
       " dtype: float64,\n",
       " avg_delay        NaN\n",
       " avg_delay_pred   NaN\n",
       " dtype: float64,\n",
       " avg_delay        NaN\n",
       " avg_delay_pred   NaN\n",
       " dtype: float64,\n",
       " avg_delay        NaN\n",
       " avg_delay_pred   NaN\n",
       " dtype: float64,\n",
       " avg_delay        NaN\n",
       " avg_delay_pred   NaN\n",
       " dtype: float64,\n",
       " avg_delay        NaN\n",
       " avg_delay_pred   NaN\n",
       " dtype: float64,\n",
       " avg_delay        NaN\n",
       " avg_delay_pred   NaN\n",
       " dtype: float64,\n",
       " avg_delay        NaN\n",
       " avg_delay_pred   NaN\n",
       " dtype: float64,\n",
       " avg_delay        NaN\n",
       " avg_delay_pred   NaN\n",
       " dtype: float64,\n",
       " avg_delay        NaN\n",
       " avg_delay_pred   NaN\n",
       " dtype: float64,\n",
       " avg_delay        NaN\n",
       " avg_delay_pred   NaN\n",
       " dtype: float64,\n",
       " avg_delay        NaN\n",
       " avg_delay_pred   NaN\n",
       " dtype: float64,\n",
       " avg_delay        NaN\n",
       " avg_delay_pred   NaN\n",
       " dtype: float64,\n",
       " avg_delay        NaN\n",
       " avg_delay_pred   NaN\n",
       " dtype: float64,\n",
       " avg_delay        NaN\n",
       " avg_delay_pred   NaN\n",
       " dtype: float64,\n",
       " avg_delay        NaN\n",
       " avg_delay_pred   NaN\n",
       " dtype: float64,\n",
       " avg_delay        NaN\n",
       " avg_delay_pred   NaN\n",
       " dtype: float64,\n",
       " avg_delay        NaN\n",
       " avg_delay_pred   NaN\n",
       " dtype: float64,\n",
       " avg_delay        NaN\n",
       " avg_delay_pred   NaN\n",
       " dtype: float64,\n",
       " avg_delay        NaN\n",
       " avg_delay_pred   NaN\n",
       " dtype: float64,\n",
       " avg_delay        NaN\n",
       " avg_delay_pred   NaN\n",
       " dtype: float64,\n",
       " avg_delay        NaN\n",
       " avg_delay_pred   NaN\n",
       " dtype: float64,\n",
       " avg_delay        NaN\n",
       " avg_delay_pred   NaN\n",
       " dtype: float64,\n",
       " avg_delay        NaN\n",
       " avg_delay_pred   NaN\n",
       " dtype: float64,\n",
       " avg_delay        NaN\n",
       " avg_delay_pred   NaN\n",
       " dtype: float64,\n",
       " avg_delay        NaN\n",
       " avg_delay_pred   NaN\n",
       " dtype: float64,\n",
       " avg_delay        NaN\n",
       " avg_delay_pred   NaN\n",
       " dtype: float64,\n",
       " avg_delay        NaN\n",
       " avg_delay_pred   NaN\n",
       " dtype: float64,\n",
       " avg_delay        NaN\n",
       " avg_delay_pred   NaN\n",
       " dtype: float64,\n",
       " avg_delay        NaN\n",
       " avg_delay_pred   NaN\n",
       " dtype: float64,\n",
       " avg_delay        NaN\n",
       " avg_delay_pred   NaN\n",
       " dtype: float64,\n",
       " avg_delay        NaN\n",
       " avg_delay_pred   NaN\n",
       " dtype: float64,\n",
       " avg_delay        NaN\n",
       " avg_delay_pred   NaN\n",
       " dtype: float64,\n",
       " avg_delay        NaN\n",
       " avg_delay_pred   NaN\n",
       " dtype: float64,\n",
       " avg_delay        NaN\n",
       " avg_delay_pred   NaN\n",
       " dtype: float64,\n",
       " avg_delay        NaN\n",
       " avg_delay_pred   NaN\n",
       " dtype: float64,\n",
       " avg_delay        NaN\n",
       " avg_delay_pred   NaN\n",
       " dtype: float64,\n",
       " avg_delay        NaN\n",
       " avg_delay_pred   NaN\n",
       " dtype: float64,\n",
       " avg_delay        NaN\n",
       " avg_delay_pred   NaN\n",
       " dtype: float64,\n",
       " avg_delay        NaN\n",
       " avg_delay_pred   NaN\n",
       " dtype: float64,\n",
       " avg_delay        NaN\n",
       " avg_delay_pred   NaN\n",
       " dtype: float64,\n",
       " avg_delay        NaN\n",
       " avg_delay_pred   NaN\n",
       " dtype: float64,\n",
       " avg_delay        NaN\n",
       " avg_delay_pred   NaN\n",
       " dtype: float64,\n",
       " avg_delay        NaN\n",
       " avg_delay_pred   NaN\n",
       " dtype: float64,\n",
       " avg_delay        NaN\n",
       " avg_delay_pred   NaN\n",
       " dtype: float64,\n",
       " avg_delay        NaN\n",
       " avg_delay_pred   NaN\n",
       " dtype: float64,\n",
       " avg_delay        NaN\n",
       " avg_delay_pred   NaN\n",
       " dtype: float64,\n",
       " avg_delay        NaN\n",
       " avg_delay_pred   NaN\n",
       " dtype: float64,\n",
       " avg_delay        NaN\n",
       " avg_delay_pred   NaN\n",
       " dtype: float64,\n",
       " avg_delay        NaN\n",
       " avg_delay_pred   NaN\n",
       " dtype: float64,\n",
       " avg_delay        NaN\n",
       " avg_delay_pred   NaN\n",
       " dtype: float64,\n",
       " avg_delay        NaN\n",
       " avg_delay_pred   NaN\n",
       " dtype: float64,\n",
       " avg_delay        NaN\n",
       " avg_delay_pred   NaN\n",
       " dtype: float64,\n",
       " avg_delay        NaN\n",
       " avg_delay_pred   NaN\n",
       " dtype: float64,\n",
       " avg_delay        NaN\n",
       " avg_delay_pred   NaN\n",
       " dtype: float64,\n",
       " avg_delay        NaN\n",
       " avg_delay_pred   NaN\n",
       " dtype: float64,\n",
       " avg_delay        NaN\n",
       " avg_delay_pred   NaN\n",
       " dtype: float64,\n",
       " avg_delay        NaN\n",
       " avg_delay_pred   NaN\n",
       " dtype: float64,\n",
       " avg_delay        NaN\n",
       " avg_delay_pred   NaN\n",
       " dtype: float64,\n",
       " avg_delay        NaN\n",
       " avg_delay_pred   NaN\n",
       " dtype: float64,\n",
       " avg_delay        NaN\n",
       " avg_delay_pred   NaN\n",
       " dtype: float64,\n",
       " avg_delay        NaN\n",
       " avg_delay_pred   NaN\n",
       " dtype: float64,\n",
       " avg_delay        NaN\n",
       " avg_delay_pred   NaN\n",
       " dtype: float64,\n",
       " avg_delay        NaN\n",
       " avg_delay_pred   NaN\n",
       " dtype: float64,\n",
       " avg_delay        NaN\n",
       " avg_delay_pred   NaN\n",
       " dtype: float64,\n",
       " avg_delay        NaN\n",
       " avg_delay_pred   NaN\n",
       " dtype: float64,\n",
       " avg_delay        NaN\n",
       " avg_delay_pred   NaN\n",
       " dtype: float64,\n",
       " avg_delay        NaN\n",
       " avg_delay_pred   NaN\n",
       " dtype: float64,\n",
       " avg_delay        NaN\n",
       " avg_delay_pred   NaN\n",
       " dtype: float64,\n",
       " avg_delay        NaN\n",
       " avg_delay_pred   NaN\n",
       " dtype: float64,\n",
       " avg_delay        NaN\n",
       " avg_delay_pred   NaN\n",
       " dtype: float64,\n",
       " avg_delay        NaN\n",
       " avg_delay_pred   NaN\n",
       " dtype: float64,\n",
       " avg_delay        NaN\n",
       " avg_delay_pred   NaN\n",
       " dtype: float64,\n",
       " avg_delay        NaN\n",
       " avg_delay_pred   NaN\n",
       " dtype: float64,\n",
       " avg_delay        NaN\n",
       " avg_delay_pred   NaN\n",
       " dtype: float64,\n",
       " avg_delay        NaN\n",
       " avg_delay_pred   NaN\n",
       " dtype: float64,\n",
       " avg_delay        NaN\n",
       " avg_delay_pred   NaN\n",
       " dtype: float64,\n",
       " avg_delay        NaN\n",
       " avg_delay_pred   NaN\n",
       " dtype: float64,\n",
       " avg_delay        NaN\n",
       " avg_delay_pred   NaN\n",
       " dtype: float64,\n",
       " avg_delay        NaN\n",
       " avg_delay_pred   NaN\n",
       " dtype: float64,\n",
       " avg_delay        NaN\n",
       " avg_delay_pred   NaN\n",
       " dtype: float64,\n",
       " avg_delay        NaN\n",
       " avg_delay_pred   NaN\n",
       " dtype: float64,\n",
       " avg_delay        NaN\n",
       " avg_delay_pred   NaN\n",
       " dtype: float64,\n",
       " avg_delay        NaN\n",
       " avg_delay_pred   NaN\n",
       " dtype: float64,\n",
       " avg_delay        NaN\n",
       " avg_delay_pred   NaN\n",
       " dtype: float64,\n",
       " avg_delay        NaN\n",
       " avg_delay_pred   NaN\n",
       " dtype: float64,\n",
       " avg_delay        NaN\n",
       " avg_delay_pred   NaN\n",
       " dtype: float64,\n",
       " avg_delay        NaN\n",
       " avg_delay_pred   NaN\n",
       " dtype: float64,\n",
       " avg_delay        NaN\n",
       " avg_delay_pred   NaN\n",
       " dtype: float64,\n",
       " avg_delay        NaN\n",
       " avg_delay_pred   NaN\n",
       " dtype: float64,\n",
       " avg_delay        NaN\n",
       " avg_delay_pred   NaN\n",
       " dtype: float64,\n",
       " avg_delay        NaN\n",
       " avg_delay_pred   NaN\n",
       " dtype: float64,\n",
       " avg_delay        NaN\n",
       " avg_delay_pred   NaN\n",
       " dtype: float64,\n",
       " avg_delay        NaN\n",
       " avg_delay_pred   NaN\n",
       " dtype: float64,\n",
       " avg_delay        NaN\n",
       " avg_delay_pred   NaN\n",
       " dtype: float64,\n",
       " avg_delay        NaN\n",
       " avg_delay_pred   NaN\n",
       " dtype: float64,\n",
       " avg_delay        NaN\n",
       " avg_delay_pred   NaN\n",
       " dtype: float64,\n",
       " avg_delay        NaN\n",
       " avg_delay_pred   NaN\n",
       " dtype: float64,\n",
       " avg_delay        NaN\n",
       " avg_delay_pred   NaN\n",
       " dtype: float64,\n",
       " avg_delay        NaN\n",
       " avg_delay_pred   NaN\n",
       " dtype: float64,\n",
       " avg_delay        NaN\n",
       " avg_delay_pred   NaN\n",
       " dtype: float64,\n",
       " avg_delay        NaN\n",
       " avg_delay_pred   NaN\n",
       " dtype: float64,\n",
       " avg_delay        NaN\n",
       " avg_delay_pred   NaN\n",
       " dtype: float64,\n",
       " avg_delay        NaN\n",
       " avg_delay_pred   NaN\n",
       " dtype: float64,\n",
       " avg_delay        NaN\n",
       " avg_delay_pred   NaN\n",
       " dtype: float64,\n",
       " avg_delay        NaN\n",
       " avg_delay_pred   NaN\n",
       " dtype: float64,\n",
       " avg_delay        NaN\n",
       " avg_delay_pred   NaN\n",
       " dtype: float64,\n",
       " avg_delay        NaN\n",
       " avg_delay_pred   NaN\n",
       " dtype: float64,\n",
       " avg_delay        NaN\n",
       " avg_delay_pred   NaN\n",
       " dtype: float64,\n",
       " avg_delay        NaN\n",
       " avg_delay_pred   NaN\n",
       " dtype: float64,\n",
       " avg_delay        NaN\n",
       " avg_delay_pred   NaN\n",
       " dtype: float64,\n",
       " avg_delay        NaN\n",
       " avg_delay_pred   NaN\n",
       " dtype: float64,\n",
       " avg_delay        NaN\n",
       " avg_delay_pred   NaN\n",
       " dtype: float64,\n",
       " avg_delay        NaN\n",
       " avg_delay_pred   NaN\n",
       " dtype: float64,\n",
       " avg_delay        NaN\n",
       " avg_delay_pred   NaN\n",
       " dtype: float64,\n",
       " avg_delay        NaN\n",
       " avg_delay_pred   NaN\n",
       " dtype: float64,\n",
       " avg_delay        NaN\n",
       " avg_delay_pred   NaN\n",
       " dtype: float64,\n",
       " avg_delay        NaN\n",
       " avg_delay_pred   NaN\n",
       " dtype: float64,\n",
       " avg_delay        NaN\n",
       " avg_delay_pred   NaN\n",
       " dtype: float64,\n",
       " avg_delay        NaN\n",
       " avg_delay_pred   NaN\n",
       " dtype: float64,\n",
       " avg_delay        NaN\n",
       " avg_delay_pred   NaN\n",
       " dtype: float64,\n",
       " avg_delay        NaN\n",
       " avg_delay_pred   NaN\n",
       " dtype: float64,\n",
       " avg_delay        NaN\n",
       " avg_delay_pred   NaN\n",
       " dtype: float64,\n",
       " avg_delay        NaN\n",
       " avg_delay_pred   NaN\n",
       " dtype: float64,\n",
       " avg_delay        NaN\n",
       " avg_delay_pred   NaN\n",
       " dtype: float64,\n",
       " avg_delay        NaN\n",
       " avg_delay_pred   NaN\n",
       " dtype: float64,\n",
       " avg_delay        NaN\n",
       " avg_delay_pred   NaN\n",
       " dtype: float64,\n",
       " avg_delay        NaN\n",
       " avg_delay_pred   NaN\n",
       " dtype: float64,\n",
       " avg_delay        NaN\n",
       " avg_delay_pred   NaN\n",
       " dtype: float64,\n",
       " avg_delay        NaN\n",
       " avg_delay_pred   NaN\n",
       " dtype: float64,\n",
       " avg_delay        NaN\n",
       " avg_delay_pred   NaN\n",
       " dtype: float64,\n",
       " avg_delay        NaN\n",
       " avg_delay_pred   NaN\n",
       " dtype: float64,\n",
       " avg_delay        NaN\n",
       " avg_delay_pred   NaN\n",
       " dtype: float64,\n",
       " avg_delay        NaN\n",
       " avg_delay_pred   NaN\n",
       " dtype: float64,\n",
       " avg_delay        NaN\n",
       " avg_delay_pred   NaN\n",
       " dtype: float64,\n",
       " avg_delay        NaN\n",
       " avg_delay_pred   NaN\n",
       " dtype: float64,\n",
       " avg_delay        NaN\n",
       " avg_delay_pred   NaN\n",
       " dtype: float64,\n",
       " avg_delay        NaN\n",
       " avg_delay_pred   NaN\n",
       " dtype: float64,\n",
       " avg_delay        NaN\n",
       " avg_delay_pred   NaN\n",
       " dtype: float64,\n",
       " avg_delay        NaN\n",
       " avg_delay_pred   NaN\n",
       " dtype: float64,\n",
       " avg_delay        NaN\n",
       " avg_delay_pred   NaN\n",
       " dtype: float64,\n",
       " avg_delay        NaN\n",
       " avg_delay_pred   NaN\n",
       " dtype: float64,\n",
       " avg_delay        NaN\n",
       " avg_delay_pred   NaN\n",
       " dtype: float64,\n",
       " avg_delay        NaN\n",
       " avg_delay_pred   NaN\n",
       " dtype: float64,\n",
       " avg_delay        NaN\n",
       " avg_delay_pred   NaN\n",
       " dtype: float64,\n",
       " avg_delay        NaN\n",
       " avg_delay_pred   NaN\n",
       " dtype: float64,\n",
       " avg_delay        NaN\n",
       " avg_delay_pred   NaN\n",
       " dtype: float64,\n",
       " avg_delay        NaN\n",
       " avg_delay_pred   NaN\n",
       " dtype: float64,\n",
       " avg_delay        NaN\n",
       " avg_delay_pred   NaN\n",
       " dtype: float64,\n",
       " avg_delay        NaN\n",
       " avg_delay_pred   NaN\n",
       " dtype: float64,\n",
       " avg_delay        NaN\n",
       " avg_delay_pred   NaN\n",
       " dtype: float64,\n",
       " avg_delay        NaN\n",
       " avg_delay_pred   NaN\n",
       " dtype: float64,\n",
       " avg_delay        NaN\n",
       " avg_delay_pred   NaN\n",
       " dtype: float64,\n",
       " avg_delay        NaN\n",
       " avg_delay_pred   NaN\n",
       " dtype: float64,\n",
       " avg_delay        NaN\n",
       " avg_delay_pred   NaN\n",
       " dtype: float64,\n",
       " avg_delay        NaN\n",
       " avg_delay_pred   NaN\n",
       " dtype: float64,\n",
       " avg_delay        NaN\n",
       " avg_delay_pred   NaN\n",
       " dtype: float64,\n",
       " avg_delay        NaN\n",
       " avg_delay_pred   NaN\n",
       " dtype: float64,\n",
       " avg_delay        NaN\n",
       " avg_delay_pred   NaN\n",
       " dtype: float64,\n",
       " avg_delay        NaN\n",
       " avg_delay_pred   NaN\n",
       " dtype: float64,\n",
       " avg_delay        NaN\n",
       " avg_delay_pred   NaN\n",
       " dtype: float64,\n",
       " avg_delay        NaN\n",
       " avg_delay_pred   NaN\n",
       " dtype: float64,\n",
       " avg_delay        NaN\n",
       " avg_delay_pred   NaN\n",
       " dtype: float64,\n",
       " avg_delay        NaN\n",
       " avg_delay_pred   NaN\n",
       " dtype: float64,\n",
       " avg_delay        NaN\n",
       " avg_delay_pred   NaN\n",
       " dtype: float64,\n",
       " avg_delay        NaN\n",
       " avg_delay_pred   NaN\n",
       " dtype: float64,\n",
       " avg_delay        NaN\n",
       " avg_delay_pred   NaN\n",
       " dtype: float64,\n",
       " avg_delay        NaN\n",
       " avg_delay_pred   NaN\n",
       " dtype: float64,\n",
       " avg_delay        NaN\n",
       " avg_delay_pred   NaN\n",
       " dtype: float64,\n",
       " avg_delay        NaN\n",
       " avg_delay_pred   NaN\n",
       " dtype: float64,\n",
       " avg_delay        NaN\n",
       " avg_delay_pred   NaN\n",
       " dtype: float64,\n",
       " avg_delay        NaN\n",
       " avg_delay_pred   NaN\n",
       " dtype: float64,\n",
       " avg_delay        NaN\n",
       " avg_delay_pred   NaN\n",
       " dtype: float64,\n",
       " avg_delay        NaN\n",
       " avg_delay_pred   NaN\n",
       " dtype: float64,\n",
       " avg_delay        NaN\n",
       " avg_delay_pred   NaN\n",
       " dtype: float64,\n",
       " avg_delay        NaN\n",
       " avg_delay_pred   NaN\n",
       " dtype: float64,\n",
       " avg_delay        NaN\n",
       " avg_delay_pred   NaN\n",
       " dtype: float64,\n",
       " avg_delay        NaN\n",
       " avg_delay_pred   NaN\n",
       " dtype: float64,\n",
       " avg_delay        NaN\n",
       " avg_delay_pred   NaN\n",
       " dtype: float64,\n",
       " avg_delay        NaN\n",
       " avg_delay_pred   NaN\n",
       " dtype: float64,\n",
       " avg_delay        NaN\n",
       " avg_delay_pred   NaN\n",
       " dtype: float64,\n",
       " avg_delay        NaN\n",
       " avg_delay_pred   NaN\n",
       " dtype: float64,\n",
       " avg_delay        NaN\n",
       " avg_delay_pred   NaN\n",
       " dtype: float64,\n",
       " avg_delay        NaN\n",
       " avg_delay_pred   NaN\n",
       " dtype: float64,\n",
       " avg_delay        NaN\n",
       " avg_delay_pred   NaN\n",
       " dtype: float64,\n",
       " avg_delay        NaN\n",
       " avg_delay_pred   NaN\n",
       " dtype: float64,\n",
       " avg_delay        NaN\n",
       " avg_delay_pred   NaN\n",
       " dtype: float64,\n",
       " avg_delay        NaN\n",
       " avg_delay_pred   NaN\n",
       " dtype: float64,\n",
       " avg_delay        NaN\n",
       " avg_delay_pred   NaN\n",
       " dtype: float64,\n",
       " avg_delay        NaN\n",
       " avg_delay_pred   NaN\n",
       " dtype: float64,\n",
       " avg_delay        NaN\n",
       " avg_delay_pred   NaN\n",
       " dtype: float64,\n",
       " avg_delay        NaN\n",
       " avg_delay_pred   NaN\n",
       " dtype: float64,\n",
       " avg_delay        NaN\n",
       " avg_delay_pred   NaN\n",
       " dtype: float64,\n",
       " avg_delay        NaN\n",
       " avg_delay_pred   NaN\n",
       " dtype: float64,\n",
       " avg_delay        NaN\n",
       " avg_delay_pred   NaN\n",
       " dtype: float64,\n",
       " avg_delay        NaN\n",
       " avg_delay_pred   NaN\n",
       " dtype: float64,\n",
       " avg_delay        NaN\n",
       " avg_delay_pred   NaN\n",
       " dtype: float64,\n",
       " avg_delay        NaN\n",
       " avg_delay_pred   NaN\n",
       " dtype: float64,\n",
       " avg_delay        NaN\n",
       " avg_delay_pred   NaN\n",
       " dtype: float64,\n",
       " avg_delay        NaN\n",
       " avg_delay_pred   NaN\n",
       " dtype: float64,\n",
       " avg_delay        NaN\n",
       " avg_delay_pred   NaN\n",
       " dtype: float64,\n",
       " avg_delay        NaN\n",
       " avg_delay_pred   NaN\n",
       " dtype: float64,\n",
       " avg_delay        NaN\n",
       " avg_delay_pred   NaN\n",
       " dtype: float64,\n",
       " avg_delay        NaN\n",
       " avg_delay_pred   NaN\n",
       " dtype: float64,\n",
       " avg_delay        NaN\n",
       " avg_delay_pred   NaN\n",
       " dtype: float64,\n",
       " avg_delay        NaN\n",
       " avg_delay_pred   NaN\n",
       " dtype: float64,\n",
       " avg_delay        NaN\n",
       " avg_delay_pred   NaN\n",
       " dtype: float64,\n",
       " avg_delay        NaN\n",
       " avg_delay_pred   NaN\n",
       " dtype: float64,\n",
       " avg_delay        NaN\n",
       " avg_delay_pred   NaN\n",
       " dtype: float64,\n",
       " avg_delay        NaN\n",
       " avg_delay_pred   NaN\n",
       " dtype: float64,\n",
       " avg_delay        NaN\n",
       " avg_delay_pred   NaN\n",
       " dtype: float64,\n",
       " avg_delay        NaN\n",
       " avg_delay_pred   NaN\n",
       " dtype: float64,\n",
       " avg_delay        NaN\n",
       " avg_delay_pred   NaN\n",
       " dtype: float64,\n",
       " avg_delay        NaN\n",
       " avg_delay_pred   NaN\n",
       " dtype: float64,\n",
       " avg_delay        NaN\n",
       " avg_delay_pred   NaN\n",
       " dtype: float64,\n",
       " avg_delay        NaN\n",
       " avg_delay_pred   NaN\n",
       " dtype: float64,\n",
       " avg_delay        NaN\n",
       " avg_delay_pred   NaN\n",
       " dtype: float64,\n",
       " avg_delay        NaN\n",
       " avg_delay_pred   NaN\n",
       " dtype: float64,\n",
       " avg_delay        NaN\n",
       " avg_delay_pred   NaN\n",
       " dtype: float64,\n",
       " avg_delay        NaN\n",
       " avg_delay_pred   NaN\n",
       " dtype: float64,\n",
       " avg_delay        NaN\n",
       " avg_delay_pred   NaN\n",
       " dtype: float64,\n",
       " avg_delay        NaN\n",
       " avg_delay_pred   NaN\n",
       " dtype: float64,\n",
       " avg_delay        NaN\n",
       " avg_delay_pred   NaN\n",
       " dtype: float64,\n",
       " avg_delay        NaN\n",
       " avg_delay_pred   NaN\n",
       " dtype: float64,\n",
       " avg_delay        NaN\n",
       " avg_delay_pred   NaN\n",
       " dtype: float64,\n",
       " avg_delay        NaN\n",
       " avg_delay_pred   NaN\n",
       " dtype: float64,\n",
       " avg_delay        NaN\n",
       " avg_delay_pred   NaN\n",
       " dtype: float64,\n",
       " avg_delay        NaN\n",
       " avg_delay_pred   NaN\n",
       " dtype: float64,\n",
       " avg_delay        NaN\n",
       " avg_delay_pred   NaN\n",
       " dtype: float64,\n",
       " avg_delay        NaN\n",
       " avg_delay_pred   NaN\n",
       " dtype: float64,\n",
       " avg_delay        NaN\n",
       " avg_delay_pred   NaN\n",
       " dtype: float64,\n",
       " avg_delay        NaN\n",
       " avg_delay_pred   NaN\n",
       " dtype: float64,\n",
       " avg_delay        NaN\n",
       " avg_delay_pred   NaN\n",
       " dtype: float64,\n",
       " avg_delay        NaN\n",
       " avg_delay_pred   NaN\n",
       " dtype: float64,\n",
       " avg_delay        NaN\n",
       " avg_delay_pred   NaN\n",
       " dtype: float64,\n",
       " avg_delay        NaN\n",
       " avg_delay_pred   NaN\n",
       " dtype: float64,\n",
       " avg_delay        NaN\n",
       " avg_delay_pred   NaN\n",
       " dtype: float64,\n",
       " avg_delay        NaN\n",
       " avg_delay_pred   NaN\n",
       " dtype: float64,\n",
       " avg_delay        NaN\n",
       " avg_delay_pred   NaN\n",
       " dtype: float64,\n",
       " avg_delay        NaN\n",
       " avg_delay_pred   NaN\n",
       " dtype: float64,\n",
       " avg_delay        NaN\n",
       " avg_delay_pred   NaN\n",
       " dtype: float64,\n",
       " avg_delay        NaN\n",
       " avg_delay_pred   NaN\n",
       " dtype: float64,\n",
       " avg_delay        NaN\n",
       " avg_delay_pred   NaN\n",
       " dtype: float64,\n",
       " avg_delay        NaN\n",
       " avg_delay_pred   NaN\n",
       " dtype: float64,\n",
       " avg_delay        NaN\n",
       " avg_delay_pred   NaN\n",
       " dtype: float64,\n",
       " avg_delay        NaN\n",
       " avg_delay_pred   NaN\n",
       " dtype: float64,\n",
       " avg_delay        NaN\n",
       " avg_delay_pred   NaN\n",
       " dtype: float64,\n",
       " avg_delay        NaN\n",
       " avg_delay_pred   NaN\n",
       " dtype: float64,\n",
       " avg_delay        NaN\n",
       " avg_delay_pred   NaN\n",
       " dtype: float64,\n",
       " avg_delay        NaN\n",
       " avg_delay_pred   NaN\n",
       " dtype: float64,\n",
       " avg_delay        NaN\n",
       " avg_delay_pred   NaN\n",
       " dtype: float64,\n",
       " avg_delay        NaN\n",
       " avg_delay_pred   NaN\n",
       " dtype: float64,\n",
       " avg_delay        NaN\n",
       " avg_delay_pred   NaN\n",
       " dtype: float64,\n",
       " avg_delay        NaN\n",
       " avg_delay_pred   NaN\n",
       " dtype: float64,\n",
       " avg_delay        NaN\n",
       " avg_delay_pred   NaN\n",
       " dtype: float64,\n",
       " avg_delay        NaN\n",
       " avg_delay_pred   NaN\n",
       " dtype: float64,\n",
       " avg_delay        NaN\n",
       " avg_delay_pred   NaN\n",
       " dtype: float64,\n",
       " avg_delay        NaN\n",
       " avg_delay_pred   NaN\n",
       " dtype: float64,\n",
       " avg_delay        NaN\n",
       " avg_delay_pred   NaN\n",
       " dtype: float64,\n",
       " avg_delay        NaN\n",
       " avg_delay_pred   NaN\n",
       " dtype: float64,\n",
       " avg_delay        NaN\n",
       " avg_delay_pred   NaN\n",
       " dtype: float64,\n",
       " avg_delay        NaN\n",
       " avg_delay_pred   NaN\n",
       " dtype: float64,\n",
       " avg_delay        NaN\n",
       " avg_delay_pred   NaN\n",
       " dtype: float64,\n",
       " avg_delay        NaN\n",
       " avg_delay_pred   NaN\n",
       " dtype: float64,\n",
       " avg_delay        NaN\n",
       " avg_delay_pred   NaN\n",
       " dtype: float64,\n",
       " avg_delay        NaN\n",
       " avg_delay_pred   NaN\n",
       " dtype: float64,\n",
       " avg_delay        NaN\n",
       " avg_delay_pred   NaN\n",
       " dtype: float64,\n",
       " avg_delay        NaN\n",
       " avg_delay_pred   NaN\n",
       " dtype: float64,\n",
       " avg_delay        NaN\n",
       " avg_delay_pred   NaN\n",
       " dtype: float64,\n",
       " avg_delay        NaN\n",
       " avg_delay_pred   NaN\n",
       " dtype: float64,\n",
       " avg_delay        NaN\n",
       " avg_delay_pred   NaN\n",
       " dtype: float64,\n",
       " avg_delay        NaN\n",
       " avg_delay_pred   NaN\n",
       " dtype: float64,\n",
       " avg_delay        NaN\n",
       " avg_delay_pred   NaN\n",
       " dtype: float64,\n",
       " avg_delay        NaN\n",
       " avg_delay_pred   NaN\n",
       " dtype: float64,\n",
       " avg_delay        NaN\n",
       " avg_delay_pred   NaN\n",
       " dtype: float64,\n",
       " avg_delay        NaN\n",
       " avg_delay_pred   NaN\n",
       " dtype: float64,\n",
       " avg_delay        NaN\n",
       " avg_delay_pred   NaN\n",
       " dtype: float64,\n",
       " avg_delay        NaN\n",
       " avg_delay_pred   NaN\n",
       " dtype: float64,\n",
       " avg_delay        NaN\n",
       " avg_delay_pred   NaN\n",
       " dtype: float64,\n",
       " avg_delay        NaN\n",
       " avg_delay_pred   NaN\n",
       " dtype: float64,\n",
       " avg_delay        NaN\n",
       " avg_delay_pred   NaN\n",
       " dtype: float64,\n",
       " avg_delay        NaN\n",
       " avg_delay_pred   NaN\n",
       " dtype: float64,\n",
       " avg_delay        NaN\n",
       " avg_delay_pred   NaN\n",
       " dtype: float64,\n",
       " avg_delay        NaN\n",
       " avg_delay_pred   NaN\n",
       " dtype: float64,\n",
       " avg_delay        NaN\n",
       " avg_delay_pred   NaN\n",
       " dtype: float64,\n",
       " avg_delay        NaN\n",
       " avg_delay_pred   NaN\n",
       " dtype: float64,\n",
       " avg_delay        NaN\n",
       " avg_delay_pred   NaN\n",
       " dtype: float64,\n",
       " avg_delay        NaN\n",
       " avg_delay_pred   NaN\n",
       " dtype: float64,\n",
       " avg_delay        NaN\n",
       " avg_delay_pred   NaN\n",
       " dtype: float64,\n",
       " avg_delay        NaN\n",
       " avg_delay_pred   NaN\n",
       " dtype: float64,\n",
       " avg_delay        NaN\n",
       " avg_delay_pred   NaN\n",
       " dtype: float64,\n",
       " avg_delay        NaN\n",
       " avg_delay_pred   NaN\n",
       " dtype: float64,\n",
       " avg_delay        NaN\n",
       " avg_delay_pred   NaN\n",
       " dtype: float64,\n",
       " avg_delay        NaN\n",
       " avg_delay_pred   NaN\n",
       " dtype: float64,\n",
       " avg_delay        NaN\n",
       " avg_delay_pred   NaN\n",
       " dtype: float64,\n",
       " avg_delay        NaN\n",
       " avg_delay_pred   NaN\n",
       " dtype: float64,\n",
       " avg_delay        NaN\n",
       " avg_delay_pred   NaN\n",
       " dtype: float64,\n",
       " avg_delay        NaN\n",
       " avg_delay_pred   NaN\n",
       " dtype: float64,\n",
       " avg_delay        NaN\n",
       " avg_delay_pred   NaN\n",
       " dtype: float64,\n",
       " avg_delay        NaN\n",
       " avg_delay_pred   NaN\n",
       " dtype: float64,\n",
       " avg_delay        NaN\n",
       " avg_delay_pred   NaN\n",
       " dtype: float64,\n",
       " avg_delay        NaN\n",
       " avg_delay_pred   NaN\n",
       " dtype: float64,\n",
       " avg_delay        NaN\n",
       " avg_delay_pred   NaN\n",
       " dtype: float64,\n",
       " avg_delay        NaN\n",
       " avg_delay_pred   NaN\n",
       " dtype: float64,\n",
       " avg_delay        NaN\n",
       " avg_delay_pred   NaN\n",
       " dtype: float64,\n",
       " avg_delay        NaN\n",
       " avg_delay_pred   NaN\n",
       " dtype: float64,\n",
       " avg_delay        NaN\n",
       " avg_delay_pred   NaN\n",
       " dtype: float64,\n",
       " avg_delay        NaN\n",
       " avg_delay_pred   NaN\n",
       " dtype: float64,\n",
       " avg_delay        NaN\n",
       " avg_delay_pred   NaN\n",
       " dtype: float64,\n",
       " avg_delay        NaN\n",
       " avg_delay_pred   NaN\n",
       " dtype: float64,\n",
       " avg_delay        NaN\n",
       " avg_delay_pred   NaN\n",
       " dtype: float64,\n",
       " avg_delay        NaN\n",
       " avg_delay_pred   NaN\n",
       " dtype: float64,\n",
       " avg_delay        NaN\n",
       " avg_delay_pred   NaN\n",
       " dtype: float64,\n",
       " avg_delay        NaN\n",
       " avg_delay_pred   NaN\n",
       " dtype: float64,\n",
       " avg_delay        NaN\n",
       " avg_delay_pred   NaN\n",
       " dtype: float64,\n",
       " avg_delay        NaN\n",
       " avg_delay_pred   NaN\n",
       " dtype: float64,\n",
       " avg_delay        NaN\n",
       " avg_delay_pred   NaN\n",
       " dtype: float64,\n",
       " avg_delay        NaN\n",
       " avg_delay_pred   NaN\n",
       " dtype: float64,\n",
       " avg_delay        NaN\n",
       " avg_delay_pred   NaN\n",
       " dtype: float64,\n",
       " avg_delay        NaN\n",
       " avg_delay_pred   NaN\n",
       " dtype: float64,\n",
       " avg_delay        NaN\n",
       " avg_delay_pred   NaN\n",
       " dtype: float64,\n",
       " avg_delay        NaN\n",
       " avg_delay_pred   NaN\n",
       " dtype: float64,\n",
       " avg_delay        NaN\n",
       " avg_delay_pred   NaN\n",
       " dtype: float64,\n",
       " avg_delay        NaN\n",
       " avg_delay_pred   NaN\n",
       " dtype: float64,\n",
       " avg_delay        NaN\n",
       " avg_delay_pred   NaN\n",
       " dtype: float64,\n",
       " avg_delay        NaN\n",
       " avg_delay_pred   NaN\n",
       " dtype: float64,\n",
       " avg_delay        NaN\n",
       " avg_delay_pred   NaN\n",
       " dtype: float64,\n",
       " avg_delay        NaN\n",
       " avg_delay_pred   NaN\n",
       " dtype: float64,\n",
       " avg_delay        NaN\n",
       " avg_delay_pred   NaN\n",
       " dtype: float64,\n",
       " avg_delay        NaN\n",
       " avg_delay_pred   NaN\n",
       " dtype: float64,\n",
       " avg_delay        NaN\n",
       " avg_delay_pred   NaN\n",
       " dtype: float64,\n",
       " avg_delay        NaN\n",
       " avg_delay_pred   NaN\n",
       " dtype: float64,\n",
       " avg_delay        NaN\n",
       " avg_delay_pred   NaN\n",
       " dtype: float64,\n",
       " avg_delay        NaN\n",
       " avg_delay_pred   NaN\n",
       " dtype: float64,\n",
       " avg_delay        NaN\n",
       " avg_delay_pred   NaN\n",
       " dtype: float64,\n",
       " avg_delay        NaN\n",
       " avg_delay_pred   NaN\n",
       " dtype: float64,\n",
       " avg_delay        NaN\n",
       " avg_delay_pred   NaN\n",
       " dtype: float64,\n",
       " avg_delay        NaN\n",
       " avg_delay_pred   NaN\n",
       " dtype: float64,\n",
       " avg_delay        NaN\n",
       " avg_delay_pred   NaN\n",
       " dtype: float64,\n",
       " avg_delay        NaN\n",
       " avg_delay_pred   NaN\n",
       " dtype: float64,\n",
       " avg_delay        NaN\n",
       " avg_delay_pred   NaN\n",
       " dtype: float64,\n",
       " avg_delay        NaN\n",
       " avg_delay_pred   NaN\n",
       " dtype: float64,\n",
       " avg_delay        NaN\n",
       " avg_delay_pred   NaN\n",
       " dtype: float64,\n",
       " avg_delay        NaN\n",
       " avg_delay_pred   NaN\n",
       " dtype: float64,\n",
       " avg_delay        NaN\n",
       " avg_delay_pred   NaN\n",
       " dtype: float64,\n",
       " avg_delay        NaN\n",
       " avg_delay_pred   NaN\n",
       " dtype: float64,\n",
       " avg_delay        NaN\n",
       " avg_delay_pred   NaN\n",
       " dtype: float64,\n",
       " avg_delay        NaN\n",
       " avg_delay_pred   NaN\n",
       " dtype: float64,\n",
       " avg_delay        NaN\n",
       " avg_delay_pred   NaN\n",
       " dtype: float64,\n",
       " avg_delay        NaN\n",
       " avg_delay_pred   NaN\n",
       " dtype: float64,\n",
       " avg_delay        NaN\n",
       " avg_delay_pred   NaN\n",
       " dtype: float64,\n",
       " avg_delay        NaN\n",
       " avg_delay_pred   NaN\n",
       " dtype: float64,\n",
       " avg_delay        NaN\n",
       " avg_delay_pred   NaN\n",
       " dtype: float64,\n",
       " avg_delay        NaN\n",
       " avg_delay_pred   NaN\n",
       " dtype: float64,\n",
       " avg_delay        NaN\n",
       " avg_delay_pred   NaN\n",
       " dtype: float64,\n",
       " avg_delay        NaN\n",
       " avg_delay_pred   NaN\n",
       " dtype: float64,\n",
       " avg_delay        NaN\n",
       " avg_delay_pred   NaN\n",
       " dtype: float64,\n",
       " avg_delay        NaN\n",
       " avg_delay_pred   NaN\n",
       " dtype: float64,\n",
       " avg_delay        NaN\n",
       " avg_delay_pred   NaN\n",
       " dtype: float64,\n",
       " avg_delay        NaN\n",
       " avg_delay_pred   NaN\n",
       " dtype: float64,\n",
       " avg_delay        NaN\n",
       " avg_delay_pred   NaN\n",
       " dtype: float64,\n",
       " avg_delay        NaN\n",
       " avg_delay_pred   NaN\n",
       " dtype: float64,\n",
       " avg_delay        NaN\n",
       " avg_delay_pred   NaN\n",
       " dtype: float64,\n",
       " avg_delay        NaN\n",
       " avg_delay_pred   NaN\n",
       " dtype: float64,\n",
       " avg_delay        NaN\n",
       " avg_delay_pred   NaN\n",
       " dtype: float64,\n",
       " avg_delay        NaN\n",
       " avg_delay_pred   NaN\n",
       " dtype: float64,\n",
       " avg_delay        NaN\n",
       " avg_delay_pred   NaN\n",
       " dtype: float64,\n",
       " avg_delay        NaN\n",
       " avg_delay_pred   NaN\n",
       " dtype: float64,\n",
       " avg_delay        NaN\n",
       " avg_delay_pred   NaN\n",
       " dtype: float64,\n",
       " avg_delay        NaN\n",
       " avg_delay_pred   NaN\n",
       " dtype: float64,\n",
       " avg_delay        NaN\n",
       " avg_delay_pred   NaN\n",
       " dtype: float64,\n",
       " avg_delay        NaN\n",
       " avg_delay_pred   NaN\n",
       " dtype: float64,\n",
       " avg_delay        NaN\n",
       " avg_delay_pred   NaN\n",
       " dtype: float64,\n",
       " avg_delay        NaN\n",
       " avg_delay_pred   NaN\n",
       " dtype: float64,\n",
       " avg_delay        NaN\n",
       " avg_delay_pred   NaN\n",
       " dtype: float64,\n",
       " avg_delay        NaN\n",
       " avg_delay_pred   NaN\n",
       " dtype: float64,\n",
       " avg_delay        NaN\n",
       " avg_delay_pred   NaN\n",
       " dtype: float64,\n",
       " avg_delay        NaN\n",
       " avg_delay_pred   NaN\n",
       " dtype: float64,\n",
       " avg_delay        NaN\n",
       " avg_delay_pred   NaN\n",
       " dtype: float64,\n",
       " avg_delay        NaN\n",
       " avg_delay_pred   NaN\n",
       " dtype: float64,\n",
       " avg_delay        NaN\n",
       " avg_delay_pred   NaN\n",
       " dtype: float64,\n",
       " avg_delay        NaN\n",
       " avg_delay_pred   NaN\n",
       " dtype: float64,\n",
       " avg_delay        NaN\n",
       " avg_delay_pred   NaN\n",
       " dtype: float64,\n",
       " avg_delay        NaN\n",
       " avg_delay_pred   NaN\n",
       " dtype: float64,\n",
       " avg_delay        NaN\n",
       " avg_delay_pred   NaN\n",
       " dtype: float64,\n",
       " avg_delay        NaN\n",
       " avg_delay_pred   NaN\n",
       " dtype: float64,\n",
       " avg_delay        NaN\n",
       " avg_delay_pred   NaN\n",
       " dtype: float64,\n",
       " avg_delay        NaN\n",
       " avg_delay_pred   NaN\n",
       " dtype: float64,\n",
       " avg_delay        NaN\n",
       " avg_delay_pred   NaN\n",
       " dtype: float64,\n",
       " avg_delay        NaN\n",
       " avg_delay_pred   NaN\n",
       " dtype: float64,\n",
       " avg_delay        NaN\n",
       " avg_delay_pred   NaN\n",
       " dtype: float64,\n",
       " avg_delay        NaN\n",
       " avg_delay_pred   NaN\n",
       " dtype: float64,\n",
       " avg_delay        NaN\n",
       " avg_delay_pred   NaN\n",
       " dtype: float64,\n",
       " avg_delay        NaN\n",
       " avg_delay_pred   NaN\n",
       " dtype: float64,\n",
       " avg_delay        NaN\n",
       " avg_delay_pred   NaN\n",
       " dtype: float64,\n",
       " avg_delay        NaN\n",
       " avg_delay_pred   NaN\n",
       " dtype: float64,\n",
       " avg_delay        NaN\n",
       " avg_delay_pred   NaN\n",
       " dtype: float64,\n",
       " avg_delay        NaN\n",
       " avg_delay_pred   NaN\n",
       " dtype: float64,\n",
       " avg_delay        NaN\n",
       " avg_delay_pred   NaN\n",
       " dtype: float64,\n",
       " avg_delay        NaN\n",
       " avg_delay_pred   NaN\n",
       " dtype: float64,\n",
       " avg_delay        NaN\n",
       " avg_delay_pred   NaN\n",
       " dtype: float64,\n",
       " avg_delay        NaN\n",
       " avg_delay_pred   NaN\n",
       " dtype: float64,\n",
       " avg_delay        NaN\n",
       " avg_delay_pred   NaN\n",
       " dtype: float64,\n",
       " avg_delay        NaN\n",
       " avg_delay_pred   NaN\n",
       " dtype: float64,\n",
       " avg_delay        NaN\n",
       " avg_delay_pred   NaN\n",
       " dtype: float64,\n",
       " avg_delay        NaN\n",
       " avg_delay_pred   NaN\n",
       " dtype: float64,\n",
       " avg_delay        NaN\n",
       " avg_delay_pred   NaN\n",
       " dtype: float64,\n",
       " avg_delay        NaN\n",
       " avg_delay_pred   NaN\n",
       " dtype: float64,\n",
       " avg_delay        NaN\n",
       " avg_delay_pred   NaN\n",
       " dtype: float64,\n",
       " avg_delay        NaN\n",
       " avg_delay_pred   NaN\n",
       " dtype: float64,\n",
       " avg_delay        NaN\n",
       " avg_delay_pred   NaN\n",
       " dtype: float64,\n",
       " avg_delay        NaN\n",
       " avg_delay_pred   NaN\n",
       " dtype: float64,\n",
       " avg_delay        NaN\n",
       " avg_delay_pred   NaN\n",
       " dtype: float64,\n",
       " avg_delay        NaN\n",
       " avg_delay_pred   NaN\n",
       " dtype: float64,\n",
       " avg_delay        NaN\n",
       " avg_delay_pred   NaN\n",
       " dtype: float64,\n",
       " avg_delay        NaN\n",
       " avg_delay_pred   NaN\n",
       " dtype: float64,\n",
       " avg_delay        NaN\n",
       " avg_delay_pred   NaN\n",
       " dtype: float64,\n",
       " avg_delay        NaN\n",
       " avg_delay_pred   NaN\n",
       " dtype: float64,\n",
       " avg_delay        NaN\n",
       " avg_delay_pred   NaN\n",
       " dtype: float64,\n",
       " avg_delay        NaN\n",
       " avg_delay_pred   NaN\n",
       " dtype: float64,\n",
       " avg_delay        NaN\n",
       " avg_delay_pred   NaN\n",
       " dtype: float64,\n",
       " avg_delay        NaN\n",
       " avg_delay_pred   NaN\n",
       " dtype: float64,\n",
       " avg_delay        NaN\n",
       " avg_delay_pred   NaN\n",
       " dtype: float64,\n",
       " avg_delay        NaN\n",
       " avg_delay_pred   NaN\n",
       " dtype: float64,\n",
       " avg_delay        NaN\n",
       " avg_delay_pred   NaN\n",
       " dtype: float64,\n",
       " avg_delay        NaN\n",
       " avg_delay_pred   NaN\n",
       " dtype: float64,\n",
       " avg_delay        NaN\n",
       " avg_delay_pred   NaN\n",
       " dtype: float64,\n",
       " avg_delay        NaN\n",
       " avg_delay_pred   NaN\n",
       " dtype: float64,\n",
       " avg_delay        NaN\n",
       " avg_delay_pred   NaN\n",
       " dtype: float64,\n",
       " avg_delay        NaN\n",
       " avg_delay_pred   NaN\n",
       " dtype: float64,\n",
       " avg_delay        NaN\n",
       " avg_delay_pred   NaN\n",
       " dtype: float64,\n",
       " avg_delay        NaN\n",
       " avg_delay_pred   NaN\n",
       " dtype: float64,\n",
       " avg_delay        NaN\n",
       " avg_delay_pred   NaN\n",
       " dtype: float64,\n",
       " avg_delay        NaN\n",
       " avg_delay_pred   NaN\n",
       " dtype: float64,\n",
       " avg_delay        NaN\n",
       " avg_delay_pred   NaN\n",
       " dtype: float64,\n",
       " avg_delay        NaN\n",
       " avg_delay_pred   NaN\n",
       " dtype: float64,\n",
       " avg_delay        NaN\n",
       " avg_delay_pred   NaN\n",
       " dtype: float64,\n",
       " avg_delay        NaN\n",
       " avg_delay_pred   NaN\n",
       " dtype: float64,\n",
       " avg_delay        NaN\n",
       " avg_delay_pred   NaN\n",
       " dtype: float64,\n",
       " avg_delay        NaN\n",
       " avg_delay_pred   NaN\n",
       " dtype: float64,\n",
       " avg_delay        NaN\n",
       " avg_delay_pred   NaN\n",
       " dtype: float64,\n",
       " avg_delay        NaN\n",
       " avg_delay_pred   NaN\n",
       " dtype: float64,\n",
       " avg_delay        NaN\n",
       " avg_delay_pred   NaN\n",
       " dtype: float64,\n",
       " avg_delay        NaN\n",
       " avg_delay_pred   NaN\n",
       " dtype: float64,\n",
       " avg_delay        NaN\n",
       " avg_delay_pred   NaN\n",
       " dtype: float64,\n",
       " avg_delay        NaN\n",
       " avg_delay_pred   NaN\n",
       " dtype: float64,\n",
       " avg_delay        NaN\n",
       " avg_delay_pred   NaN\n",
       " dtype: float64,\n",
       " avg_delay        NaN\n",
       " avg_delay_pred   NaN\n",
       " dtype: float64,\n",
       " avg_delay        NaN\n",
       " avg_delay_pred   NaN\n",
       " dtype: float64,\n",
       " avg_delay        NaN\n",
       " avg_delay_pred   NaN\n",
       " dtype: float64,\n",
       " avg_delay        NaN\n",
       " avg_delay_pred   NaN\n",
       " dtype: float64,\n",
       " avg_delay        NaN\n",
       " avg_delay_pred   NaN\n",
       " dtype: float64,\n",
       " avg_delay        NaN\n",
       " avg_delay_pred   NaN\n",
       " dtype: float64,\n",
       " avg_delay        NaN\n",
       " avg_delay_pred   NaN\n",
       " dtype: float64,\n",
       " avg_delay        NaN\n",
       " avg_delay_pred   NaN\n",
       " dtype: float64,\n",
       " avg_delay        NaN\n",
       " avg_delay_pred   NaN\n",
       " dtype: float64,\n",
       " avg_delay        NaN\n",
       " avg_delay_pred   NaN\n",
       " dtype: float64,\n",
       " avg_delay        NaN\n",
       " avg_delay_pred   NaN\n",
       " dtype: float64,\n",
       " avg_delay        NaN\n",
       " avg_delay_pred   NaN\n",
       " dtype: float64,\n",
       " avg_delay        NaN\n",
       " avg_delay_pred   NaN\n",
       " dtype: float64,\n",
       " avg_delay        NaN\n",
       " avg_delay_pred   NaN\n",
       " dtype: float64,\n",
       " avg_delay        NaN\n",
       " avg_delay_pred   NaN\n",
       " dtype: float64,\n",
       " avg_delay        NaN\n",
       " avg_delay_pred   NaN\n",
       " dtype: float64,\n",
       " avg_delay        NaN\n",
       " avg_delay_pred   NaN\n",
       " dtype: float64,\n",
       " avg_delay        NaN\n",
       " avg_delay_pred   NaN\n",
       " dtype: float64,\n",
       " avg_delay        NaN\n",
       " avg_delay_pred   NaN\n",
       " dtype: float64,\n",
       " avg_delay        NaN\n",
       " avg_delay_pred   NaN\n",
       " dtype: float64,\n",
       " avg_delay        NaN\n",
       " avg_delay_pred   NaN\n",
       " dtype: float64,\n",
       " avg_delay        NaN\n",
       " avg_delay_pred   NaN\n",
       " dtype: float64,\n",
       " avg_delay        NaN\n",
       " avg_delay_pred   NaN\n",
       " dtype: float64,\n",
       " avg_delay        NaN\n",
       " avg_delay_pred   NaN\n",
       " dtype: float64,\n",
       " avg_delay        NaN\n",
       " avg_delay_pred   NaN\n",
       " dtype: float64,\n",
       " avg_delay        NaN\n",
       " avg_delay_pred   NaN\n",
       " dtype: float64,\n",
       " avg_delay        NaN\n",
       " avg_delay_pred   NaN\n",
       " dtype: float64,\n",
       " avg_delay        NaN\n",
       " avg_delay_pred   NaN\n",
       " dtype: float64,\n",
       " avg_delay        NaN\n",
       " avg_delay_pred   NaN\n",
       " dtype: float64,\n",
       " avg_delay        NaN\n",
       " avg_delay_pred   NaN\n",
       " dtype: float64,\n",
       " avg_delay        NaN\n",
       " avg_delay_pred   NaN\n",
       " dtype: float64,\n",
       " avg_delay        NaN\n",
       " avg_delay_pred   NaN\n",
       " dtype: float64,\n",
       " avg_delay        NaN\n",
       " avg_delay_pred   NaN\n",
       " dtype: float64,\n",
       " avg_delay        NaN\n",
       " avg_delay_pred   NaN\n",
       " dtype: float64,\n",
       " avg_delay        NaN\n",
       " avg_delay_pred   NaN\n",
       " dtype: float64,\n",
       " avg_delay        NaN\n",
       " avg_delay_pred   NaN\n",
       " dtype: float64,\n",
       " avg_delay        NaN\n",
       " avg_delay_pred   NaN\n",
       " dtype: float64,\n",
       " avg_delay        NaN\n",
       " avg_delay_pred   NaN\n",
       " dtype: float64,\n",
       " avg_delay        NaN\n",
       " avg_delay_pred   NaN\n",
       " dtype: float64,\n",
       " avg_delay        NaN\n",
       " avg_delay_pred   NaN\n",
       " dtype: float64,\n",
       " avg_delay        NaN\n",
       " avg_delay_pred   NaN\n",
       " dtype: float64,\n",
       " avg_delay        NaN\n",
       " avg_delay_pred   NaN\n",
       " dtype: float64,\n",
       " avg_delay        NaN\n",
       " avg_delay_pred   NaN\n",
       " dtype: float64,\n",
       " avg_delay        NaN\n",
       " avg_delay_pred   NaN\n",
       " dtype: float64,\n",
       " avg_delay        NaN\n",
       " avg_delay_pred   NaN\n",
       " dtype: float64,\n",
       " avg_delay        NaN\n",
       " avg_delay_pred   NaN\n",
       " dtype: float64,\n",
       " avg_delay        NaN\n",
       " avg_delay_pred   NaN\n",
       " dtype: float64,\n",
       " avg_delay        NaN\n",
       " avg_delay_pred   NaN\n",
       " dtype: float64,\n",
       " avg_delay        NaN\n",
       " avg_delay_pred   NaN\n",
       " dtype: float64,\n",
       " avg_delay        NaN\n",
       " avg_delay_pred   NaN\n",
       " dtype: float64,\n",
       " avg_delay        NaN\n",
       " avg_delay_pred   NaN\n",
       " dtype: float64,\n",
       " avg_delay        NaN\n",
       " avg_delay_pred   NaN\n",
       " dtype: float64,\n",
       " avg_delay        NaN\n",
       " avg_delay_pred   NaN\n",
       " dtype: float64,\n",
       " avg_delay        NaN\n",
       " avg_delay_pred   NaN\n",
       " dtype: float64,\n",
       " avg_delay        NaN\n",
       " avg_delay_pred   NaN\n",
       " dtype: float64,\n",
       " avg_delay        NaN\n",
       " avg_delay_pred   NaN\n",
       " dtype: float64,\n",
       " avg_delay        NaN\n",
       " avg_delay_pred   NaN\n",
       " dtype: float64,\n",
       " avg_delay        NaN\n",
       " avg_delay_pred   NaN\n",
       " dtype: float64,\n",
       " avg_delay        NaN\n",
       " avg_delay_pred   NaN\n",
       " dtype: float64,\n",
       " avg_delay        NaN\n",
       " avg_delay_pred   NaN\n",
       " dtype: float64,\n",
       " avg_delay        NaN\n",
       " avg_delay_pred   NaN\n",
       " dtype: float64,\n",
       " avg_delay        NaN\n",
       " avg_delay_pred   NaN\n",
       " dtype: float64,\n",
       " avg_delay        NaN\n",
       " avg_delay_pred   NaN\n",
       " dtype: float64,\n",
       " avg_delay        NaN\n",
       " avg_delay_pred   NaN\n",
       " dtype: float64,\n",
       " avg_delay        NaN\n",
       " avg_delay_pred   NaN\n",
       " dtype: float64,\n",
       " avg_delay        NaN\n",
       " avg_delay_pred   NaN\n",
       " dtype: float64,\n",
       " avg_delay        NaN\n",
       " avg_delay_pred   NaN\n",
       " dtype: float64,\n",
       " avg_delay        NaN\n",
       " avg_delay_pred   NaN\n",
       " dtype: float64,\n",
       " avg_delay        NaN\n",
       " avg_delay_pred   NaN\n",
       " dtype: float64,\n",
       " avg_delay        NaN\n",
       " avg_delay_pred   NaN\n",
       " dtype: float64,\n",
       " avg_delay        NaN\n",
       " avg_delay_pred   NaN\n",
       " dtype: float64,\n",
       " avg_delay        NaN\n",
       " avg_delay_pred   NaN\n",
       " dtype: float64,\n",
       " avg_delay        NaN\n",
       " avg_delay_pred   NaN\n",
       " dtype: float64,\n",
       " avg_delay        NaN\n",
       " avg_delay_pred   NaN\n",
       " dtype: float64,\n",
       " avg_delay        NaN\n",
       " avg_delay_pred   NaN\n",
       " dtype: float64,\n",
       " avg_delay        NaN\n",
       " avg_delay_pred   NaN\n",
       " dtype: float64,\n",
       " avg_delay        NaN\n",
       " avg_delay_pred   NaN\n",
       " dtype: float64,\n",
       " avg_delay        NaN\n",
       " avg_delay_pred   NaN\n",
       " dtype: float64,\n",
       " avg_delay        NaN\n",
       " avg_delay_pred   NaN\n",
       " dtype: float64,\n",
       " avg_delay        NaN\n",
       " avg_delay_pred   NaN\n",
       " dtype: float64,\n",
       " avg_delay        NaN\n",
       " avg_delay_pred   NaN\n",
       " dtype: float64,\n",
       " avg_delay        NaN\n",
       " avg_delay_pred   NaN\n",
       " dtype: float64,\n",
       " avg_delay        NaN\n",
       " avg_delay_pred   NaN\n",
       " dtype: float64,\n",
       " avg_delay        NaN\n",
       " avg_delay_pred   NaN\n",
       " dtype: float64,\n",
       " avg_delay        NaN\n",
       " avg_delay_pred   NaN\n",
       " dtype: float64,\n",
       " avg_delay        NaN\n",
       " avg_delay_pred   NaN\n",
       " dtype: float64,\n",
       " avg_delay        NaN\n",
       " avg_delay_pred   NaN\n",
       " dtype: float64,\n",
       " avg_delay        NaN\n",
       " avg_delay_pred   NaN\n",
       " dtype: float64,\n",
       " avg_delay        NaN\n",
       " avg_delay_pred   NaN\n",
       " dtype: float64,\n",
       " avg_delay        NaN\n",
       " avg_delay_pred   NaN\n",
       " dtype: float64,\n",
       " avg_delay        NaN\n",
       " avg_delay_pred   NaN\n",
       " dtype: float64,\n",
       " avg_delay        NaN\n",
       " avg_delay_pred   NaN\n",
       " dtype: float64,\n",
       " avg_delay        NaN\n",
       " avg_delay_pred   NaN\n",
       " dtype: float64,\n",
       " avg_delay        NaN\n",
       " avg_delay_pred   NaN\n",
       " dtype: float64,\n",
       " avg_delay        NaN\n",
       " avg_delay_pred   NaN\n",
       " dtype: float64,\n",
       " avg_delay        NaN\n",
       " avg_delay_pred   NaN\n",
       " dtype: float64,\n",
       " avg_delay        NaN\n",
       " avg_delay_pred   NaN\n",
       " dtype: float64,\n",
       " avg_delay        NaN\n",
       " avg_delay_pred   NaN\n",
       " dtype: float64,\n",
       " avg_delay        NaN\n",
       " avg_delay_pred   NaN\n",
       " dtype: float64,\n",
       " avg_delay        NaN\n",
       " avg_delay_pred   NaN\n",
       " dtype: float64,\n",
       " avg_delay        NaN\n",
       " avg_delay_pred   NaN\n",
       " dtype: float64,\n",
       " avg_delay        NaN\n",
       " avg_delay_pred   NaN\n",
       " dtype: float64,\n",
       " avg_delay        NaN\n",
       " avg_delay_pred   NaN\n",
       " dtype: float64,\n",
       " avg_delay        NaN\n",
       " avg_delay_pred   NaN\n",
       " dtype: float64,\n",
       " avg_delay        NaN\n",
       " avg_delay_pred   NaN\n",
       " dtype: float64,\n",
       " avg_delay        NaN\n",
       " avg_delay_pred   NaN\n",
       " dtype: float64,\n",
       " avg_delay        NaN\n",
       " avg_delay_pred   NaN\n",
       " dtype: float64,\n",
       " avg_delay        NaN\n",
       " avg_delay_pred   NaN\n",
       " dtype: float64,\n",
       " avg_delay        NaN\n",
       " avg_delay_pred   NaN\n",
       " dtype: float64,\n",
       " avg_delay        NaN\n",
       " avg_delay_pred   NaN\n",
       " dtype: float64,\n",
       " avg_delay        NaN\n",
       " avg_delay_pred   NaN\n",
       " dtype: float64,\n",
       " avg_delay        NaN\n",
       " avg_delay_pred   NaN\n",
       " dtype: float64,\n",
       " avg_delay        NaN\n",
       " avg_delay_pred   NaN\n",
       " dtype: float64,\n",
       " avg_delay        NaN\n",
       " avg_delay_pred   NaN\n",
       " dtype: float64,\n",
       " avg_delay        NaN\n",
       " avg_delay_pred   NaN\n",
       " dtype: float64,\n",
       " avg_delay        NaN\n",
       " avg_delay_pred   NaN\n",
       " dtype: float64,\n",
       " avg_delay        NaN\n",
       " avg_delay_pred   NaN\n",
       " dtype: float64,\n",
       " avg_delay        NaN\n",
       " avg_delay_pred   NaN\n",
       " dtype: float64,\n",
       " avg_delay        NaN\n",
       " avg_delay_pred   NaN\n",
       " dtype: float64,\n",
       " avg_delay        NaN\n",
       " avg_delay_pred   NaN\n",
       " dtype: float64,\n",
       " avg_delay        NaN\n",
       " avg_delay_pred   NaN\n",
       " dtype: float64,\n",
       " avg_delay        NaN\n",
       " avg_delay_pred   NaN\n",
       " dtype: float64,\n",
       " avg_delay        NaN\n",
       " avg_delay_pred   NaN\n",
       " dtype: float64,\n",
       " avg_delay        NaN\n",
       " avg_delay_pred   NaN\n",
       " dtype: float64,\n",
       " avg_delay        NaN\n",
       " avg_delay_pred   NaN\n",
       " dtype: float64,\n",
       " avg_delay        NaN\n",
       " avg_delay_pred   NaN\n",
       " dtype: float64,\n",
       " avg_delay        NaN\n",
       " avg_delay_pred   NaN\n",
       " dtype: float64,\n",
       " avg_delay        NaN\n",
       " avg_delay_pred   NaN\n",
       " dtype: float64,\n",
       " avg_delay        NaN\n",
       " avg_delay_pred   NaN\n",
       " dtype: float64,\n",
       " avg_delay        NaN\n",
       " avg_delay_pred   NaN\n",
       " dtype: float64,\n",
       " avg_delay        NaN\n",
       " avg_delay_pred   NaN\n",
       " dtype: float64,\n",
       " avg_delay        NaN\n",
       " avg_delay_pred   NaN\n",
       " dtype: float64,\n",
       " avg_delay        NaN\n",
       " avg_delay_pred   NaN\n",
       " dtype: float64,\n",
       " avg_delay        NaN\n",
       " avg_delay_pred   NaN\n",
       " dtype: float64,\n",
       " avg_delay        NaN\n",
       " avg_delay_pred   NaN\n",
       " dtype: float64,\n",
       " avg_delay        NaN\n",
       " avg_delay_pred   NaN\n",
       " dtype: float64,\n",
       " avg_delay        NaN\n",
       " avg_delay_pred   NaN\n",
       " dtype: float64,\n",
       " avg_delay        NaN\n",
       " avg_delay_pred   NaN\n",
       " dtype: float64,\n",
       " avg_delay        NaN\n",
       " avg_delay_pred   NaN\n",
       " dtype: float64,\n",
       " avg_delay        NaN\n",
       " avg_delay_pred   NaN\n",
       " dtype: float64,\n",
       " avg_delay        NaN\n",
       " avg_delay_pred   NaN\n",
       " dtype: float64,\n",
       " avg_delay        NaN\n",
       " avg_delay_pred   NaN\n",
       " dtype: float64,\n",
       " avg_delay        NaN\n",
       " avg_delay_pred   NaN\n",
       " dtype: float64,\n",
       " avg_delay        NaN\n",
       " avg_delay_pred   NaN\n",
       " dtype: float64,\n",
       " avg_delay        NaN\n",
       " avg_delay_pred   NaN\n",
       " dtype: float64,\n",
       " avg_delay        NaN\n",
       " avg_delay_pred   NaN\n",
       " dtype: float64,\n",
       " avg_delay        NaN\n",
       " avg_delay_pred   NaN\n",
       " dtype: float64,\n",
       " avg_delay        NaN\n",
       " avg_delay_pred   NaN\n",
       " dtype: float64,\n",
       " avg_delay        NaN\n",
       " avg_delay_pred   NaN\n",
       " dtype: float64,\n",
       " avg_delay        NaN\n",
       " avg_delay_pred   NaN\n",
       " dtype: float64,\n",
       " avg_delay        NaN\n",
       " avg_delay_pred   NaN\n",
       " dtype: float64,\n",
       " avg_delay        NaN\n",
       " avg_delay_pred   NaN\n",
       " dtype: float64,\n",
       " avg_delay        NaN\n",
       " avg_delay_pred   NaN\n",
       " dtype: float64,\n",
       " avg_delay        NaN\n",
       " avg_delay_pred   NaN\n",
       " dtype: float64,\n",
       " avg_delay        NaN\n",
       " avg_delay_pred   NaN\n",
       " dtype: float64,\n",
       " avg_delay        NaN\n",
       " avg_delay_pred   NaN\n",
       " dtype: float64,\n",
       " avg_delay        NaN\n",
       " avg_delay_pred   NaN\n",
       " dtype: float64,\n",
       " avg_delay        NaN\n",
       " avg_delay_pred   NaN\n",
       " dtype: float64,\n",
       " avg_delay        NaN\n",
       " avg_delay_pred   NaN\n",
       " dtype: float64,\n",
       " avg_delay        NaN\n",
       " avg_delay_pred   NaN\n",
       " dtype: float64,\n",
       " avg_delay        NaN\n",
       " avg_delay_pred   NaN\n",
       " dtype: float64,\n",
       " avg_delay        NaN\n",
       " avg_delay_pred   NaN\n",
       " dtype: float64,\n",
       " avg_delay        NaN\n",
       " avg_delay_pred   NaN\n",
       " dtype: float64,\n",
       " avg_delay        NaN\n",
       " avg_delay_pred   NaN\n",
       " dtype: float64,\n",
       " avg_delay        NaN\n",
       " avg_delay_pred   NaN\n",
       " dtype: float64,\n",
       " avg_delay        NaN\n",
       " avg_delay_pred   NaN\n",
       " dtype: float64,\n",
       " avg_delay        NaN\n",
       " avg_delay_pred   NaN\n",
       " dtype: float64,\n",
       " avg_delay        NaN\n",
       " avg_delay_pred   NaN\n",
       " dtype: float64,\n",
       " avg_delay        NaN\n",
       " avg_delay_pred   NaN\n",
       " dtype: float64,\n",
       " avg_delay        NaN\n",
       " avg_delay_pred   NaN\n",
       " dtype: float64,\n",
       " avg_delay        NaN\n",
       " avg_delay_pred   NaN\n",
       " dtype: float64,\n",
       " avg_delay        NaN\n",
       " avg_delay_pred   NaN\n",
       " dtype: float64,\n",
       " avg_delay        NaN\n",
       " avg_delay_pred   NaN\n",
       " dtype: float64,\n",
       " avg_delay        NaN\n",
       " avg_delay_pred   NaN\n",
       " dtype: float64,\n",
       " avg_delay        NaN\n",
       " avg_delay_pred   NaN\n",
       " dtype: float64,\n",
       " avg_delay        NaN\n",
       " avg_delay_pred   NaN\n",
       " dtype: float64,\n",
       " avg_delay        NaN\n",
       " avg_delay_pred   NaN\n",
       " dtype: float64,\n",
       " avg_delay        NaN\n",
       " avg_delay_pred   NaN\n",
       " dtype: float64,\n",
       " avg_delay        NaN\n",
       " avg_delay_pred   NaN\n",
       " dtype: float64,\n",
       " avg_delay        NaN\n",
       " avg_delay_pred   NaN\n",
       " dtype: float64,\n",
       " avg_delay        NaN\n",
       " avg_delay_pred   NaN\n",
       " dtype: float64,\n",
       " avg_delay        NaN\n",
       " avg_delay_pred   NaN\n",
       " dtype: float64,\n",
       " avg_delay        NaN\n",
       " avg_delay_pred   NaN\n",
       " dtype: float64,\n",
       " avg_delay        NaN\n",
       " avg_delay_pred   NaN\n",
       " dtype: float64,\n",
       " avg_delay        NaN\n",
       " avg_delay_pred   NaN\n",
       " dtype: float64,\n",
       " avg_delay        NaN\n",
       " avg_delay_pred   NaN\n",
       " dtype: float64,\n",
       " avg_delay        NaN\n",
       " avg_delay_pred   NaN\n",
       " dtype: float64,\n",
       " avg_delay        NaN\n",
       " avg_delay_pred   NaN\n",
       " dtype: float64,\n",
       " avg_delay        NaN\n",
       " avg_delay_pred   NaN\n",
       " dtype: float64,\n",
       " avg_delay        NaN\n",
       " avg_delay_pred   NaN\n",
       " dtype: float64,\n",
       " avg_delay        NaN\n",
       " avg_delay_pred   NaN\n",
       " dtype: float64,\n",
       " avg_delay        NaN\n",
       " avg_delay_pred   NaN\n",
       " dtype: float64,\n",
       " avg_delay        NaN\n",
       " avg_delay_pred   NaN\n",
       " dtype: float64,\n",
       " avg_delay        NaN\n",
       " avg_delay_pred   NaN\n",
       " dtype: float64,\n",
       " avg_delay        NaN\n",
       " avg_delay_pred   NaN\n",
       " dtype: float64,\n",
       " avg_delay        NaN\n",
       " avg_delay_pred   NaN\n",
       " dtype: float64,\n",
       " avg_delay        NaN\n",
       " avg_delay_pred   NaN\n",
       " dtype: float64,\n",
       " avg_delay        NaN\n",
       " avg_delay_pred   NaN\n",
       " dtype: float64,\n",
       " avg_delay        NaN\n",
       " avg_delay_pred   NaN\n",
       " dtype: float64,\n",
       " avg_delay        NaN\n",
       " avg_delay_pred   NaN\n",
       " dtype: float64,\n",
       " avg_delay        NaN\n",
       " avg_delay_pred   NaN\n",
       " dtype: float64,\n",
       " avg_delay        NaN\n",
       " avg_delay_pred   NaN\n",
       " dtype: float64,\n",
       " avg_delay        NaN\n",
       " avg_delay_pred   NaN\n",
       " dtype: float64,\n",
       " avg_delay        NaN\n",
       " avg_delay_pred   NaN\n",
       " dtype: float64,\n",
       " avg_delay        NaN\n",
       " avg_delay_pred   NaN\n",
       " dtype: float64,\n",
       " avg_delay        NaN\n",
       " avg_delay_pred   NaN\n",
       " dtype: float64,\n",
       " avg_delay        NaN\n",
       " avg_delay_pred   NaN\n",
       " dtype: float64,\n",
       " avg_delay        NaN\n",
       " avg_delay_pred   NaN\n",
       " dtype: float64,\n",
       " avg_delay        NaN\n",
       " avg_delay_pred   NaN\n",
       " dtype: float64,\n",
       " avg_delay        NaN\n",
       " avg_delay_pred   NaN\n",
       " dtype: float64,\n",
       " avg_delay        NaN\n",
       " avg_delay_pred   NaN\n",
       " dtype: float64,\n",
       " avg_delay        NaN\n",
       " avg_delay_pred   NaN\n",
       " dtype: float64,\n",
       " avg_delay        NaN\n",
       " avg_delay_pred   NaN\n",
       " dtype: float64,\n",
       " avg_delay        NaN\n",
       " avg_delay_pred   NaN\n",
       " dtype: float64,\n",
       " avg_delay        NaN\n",
       " avg_delay_pred   NaN\n",
       " dtype: float64,\n",
       " avg_delay        NaN\n",
       " avg_delay_pred   NaN\n",
       " dtype: float64,\n",
       " avg_delay        NaN\n",
       " avg_delay_pred   NaN\n",
       " dtype: float64,\n",
       " avg_delay        NaN\n",
       " avg_delay_pred   NaN\n",
       " dtype: float64,\n",
       " avg_delay        NaN\n",
       " avg_delay_pred   NaN\n",
       " dtype: float64,\n",
       " avg_delay        NaN\n",
       " avg_delay_pred   NaN\n",
       " dtype: float64,\n",
       " avg_delay        NaN\n",
       " avg_delay_pred   NaN\n",
       " dtype: float64,\n",
       " avg_delay        NaN\n",
       " avg_delay_pred   NaN\n",
       " dtype: float64,\n",
       " avg_delay        NaN\n",
       " avg_delay_pred   NaN\n",
       " dtype: float64,\n",
       " avg_delay        NaN\n",
       " avg_delay_pred   NaN\n",
       " dtype: float64,\n",
       " avg_delay        NaN\n",
       " avg_delay_pred   NaN\n",
       " dtype: float64,\n",
       " avg_delay        NaN\n",
       " avg_delay_pred   NaN\n",
       " dtype: float64,\n",
       " avg_delay        NaN\n",
       " avg_delay_pred   NaN\n",
       " dtype: float64,\n",
       " avg_delay        NaN\n",
       " avg_delay_pred   NaN\n",
       " dtype: float64,\n",
       " avg_delay        NaN\n",
       " avg_delay_pred   NaN\n",
       " dtype: float64,\n",
       " avg_delay        NaN\n",
       " avg_delay_pred   NaN\n",
       " dtype: float64,\n",
       " avg_delay        NaN\n",
       " avg_delay_pred   NaN\n",
       " dtype: float64,\n",
       " avg_delay        NaN\n",
       " avg_delay_pred   NaN\n",
       " dtype: float64,\n",
       " avg_delay        NaN\n",
       " avg_delay_pred   NaN\n",
       " dtype: float64,\n",
       " avg_delay        NaN\n",
       " avg_delay_pred   NaN\n",
       " dtype: float64,\n",
       " avg_delay        NaN\n",
       " avg_delay_pred   NaN\n",
       " dtype: float64,\n",
       " avg_delay        NaN\n",
       " avg_delay_pred   NaN\n",
       " dtype: float64,\n",
       " avg_delay        NaN\n",
       " avg_delay_pred   NaN\n",
       " dtype: float64,\n",
       " avg_delay        NaN\n",
       " avg_delay_pred   NaN\n",
       " dtype: float64,\n",
       " avg_delay        NaN\n",
       " avg_delay_pred   NaN\n",
       " dtype: float64,\n",
       " avg_delay        NaN\n",
       " avg_delay_pred   NaN\n",
       " dtype: float64,\n",
       " avg_delay        NaN\n",
       " avg_delay_pred   NaN\n",
       " dtype: float64,\n",
       " avg_delay        NaN\n",
       " avg_delay_pred   NaN\n",
       " dtype: float64,\n",
       " avg_delay        NaN\n",
       " avg_delay_pred   NaN\n",
       " dtype: float64,\n",
       " avg_delay        NaN\n",
       " avg_delay_pred   NaN\n",
       " dtype: float64,\n",
       " avg_delay        NaN\n",
       " avg_delay_pred   NaN\n",
       " dtype: float64,\n",
       " avg_delay        NaN\n",
       " avg_delay_pred   NaN\n",
       " dtype: float64,\n",
       " avg_delay        NaN\n",
       " avg_delay_pred   NaN\n",
       " dtype: float64,\n",
       " avg_delay        NaN\n",
       " avg_delay_pred   NaN\n",
       " dtype: float64,\n",
       " avg_delay        NaN\n",
       " avg_delay_pred   NaN\n",
       " dtype: float64,\n",
       " avg_delay        NaN\n",
       " avg_delay_pred   NaN\n",
       " dtype: float64,\n",
       " avg_delay        NaN\n",
       " avg_delay_pred   NaN\n",
       " dtype: float64,\n",
       " avg_delay        NaN\n",
       " avg_delay_pred   NaN\n",
       " dtype: float64,\n",
       " avg_delay        NaN\n",
       " avg_delay_pred   NaN\n",
       " dtype: float64,\n",
       " avg_delay        NaN\n",
       " avg_delay_pred   NaN\n",
       " dtype: float64,\n",
       " avg_delay        NaN\n",
       " avg_delay_pred   NaN\n",
       " dtype: float64,\n",
       " avg_delay        NaN\n",
       " avg_delay_pred   NaN\n",
       " dtype: float64,\n",
       " avg_delay        NaN\n",
       " avg_delay_pred   NaN\n",
       " dtype: float64,\n",
       " avg_delay        NaN\n",
       " avg_delay_pred   NaN\n",
       " dtype: float64,\n",
       " avg_delay        NaN\n",
       " avg_delay_pred   NaN\n",
       " dtype: float64,\n",
       " avg_delay        NaN\n",
       " avg_delay_pred   NaN\n",
       " dtype: float64,\n",
       " avg_delay        NaN\n",
       " avg_delay_pred   NaN\n",
       " dtype: float64,\n",
       " avg_delay        NaN\n",
       " avg_delay_pred   NaN\n",
       " dtype: float64,\n",
       " avg_delay        NaN\n",
       " avg_delay_pred   NaN\n",
       " dtype: float64,\n",
       " avg_delay        NaN\n",
       " avg_delay_pred   NaN\n",
       " dtype: float64,\n",
       " avg_delay        NaN\n",
       " avg_delay_pred   NaN\n",
       " dtype: float64,\n",
       " avg_delay        NaN\n",
       " avg_delay_pred   NaN\n",
       " dtype: float64,\n",
       " avg_delay        NaN\n",
       " avg_delay_pred   NaN\n",
       " dtype: float64,\n",
       " avg_delay        NaN\n",
       " avg_delay_pred   NaN\n",
       " dtype: float64,\n",
       " avg_delay        NaN\n",
       " avg_delay_pred   NaN\n",
       " dtype: float64,\n",
       " avg_delay        NaN\n",
       " avg_delay_pred   NaN\n",
       " dtype: float64]"
      ]
     },
     "execution_count": 146,
     "metadata": {},
     "output_type": "execute_result"
    }
   ],
   "source": [
    "mse_values"
   ]
  },
  {
   "cell_type": "markdown",
   "id": "CsmScbHjYMv1",
   "metadata": {
    "id": "CsmScbHjYMv1"
   },
   "source": [
    "### Check the same for the Validation set also "
   ]
  },
  {
   "cell_type": "code",
   "execution_count": null,
   "id": "fe653295",
   "metadata": {
    "colab": {
     "base_uri": "https://localhost:8080/"
    },
    "executionInfo": {
     "elapsed": 10,
     "status": "ok",
     "timestamp": 1643093994094,
     "user": {
      "displayName": "Chandramouli Das",
      "photoUrl": "https://lh3.googleusercontent.com/a-/AOh14GgsMuDXf6PZsS77v0Q5x8metxFPnlLXsBC6Y3O7=s64",
      "userId": "13777762579346461395"
     },
     "user_tz": -330
    },
    "id": "fe653295",
    "outputId": "0c7429ca-50d0-42a2-96a1-effaa92f549e"
   },
   "outputs": [],
   "source": [
    "predict_test= regressor.predict(X_val)\n",
    "mean_squared_error(y_val, predict_test, squared=False)"
   ]
  },
  {
   "cell_type": "markdown",
   "id": "LokxV2LGYUVh",
   "metadata": {
    "id": "LokxV2LGYUVh"
   },
   "source": [
    "### Display The Comparison Lists"
   ]
  },
  {
   "cell_type": "code",
   "execution_count": null,
   "id": "9c405bd3",
   "metadata": {
    "colab": {
     "base_uri": "https://localhost:8080/"
    },
    "executionInfo": {
     "elapsed": 8,
     "status": "ok",
     "timestamp": 1643093994095,
     "user": {
      "displayName": "Chandramouli Das",
      "photoUrl": "https://lh3.googleusercontent.com/a-/AOh14GgsMuDXf6PZsS77v0Q5x8metxFPnlLXsBC6Y3O7=s64",
      "userId": "13777762579346461395"
     },
     "user_tz": -330
    },
    "id": "9c405bd3",
    "outputId": "9d78f4a9-33fc-48d1-edc8-c997eca38de0"
   },
   "outputs": [],
   "source": [
    "for i in Algorithm, MSE_Score, R2_Score , Huber_Loss, Quantile_Loss, Log_Cosh:\n",
    "    print(i,end=',')"
   ]
  },
  {
   "cell_type": "code",
   "execution_count": null,
   "id": "41461f25",
   "metadata": {},
   "outputs": [],
   "source": [
    "# HELL"
   ]
  },
  {
   "cell_type": "markdown",
   "id": "b0e65c86",
   "metadata": {
    "id": "b0e65c86"
   },
   "source": [
    "### You need to start with the baseline model Support Vector Regression\n",
    "\n",
    "- Step 1 : Call the Support Vector Regressor from sklearn library\n",
    "- Step 2 : make an object of SVR\n",
    "- Step 3 : fit the X_train and y_train dataframe into the object \n",
    "- Step 4 : Predict the output by passing the X_test Dataset into predict function\n",
    "\n",
    "\n",
    "\n",
    "\n",
    "- Note - Append the Algorithm name into the algorithm list for tracking purpose"
   ]
  },
  {
   "cell_type": "code",
   "execution_count": null,
   "id": "ccb5de08",
   "metadata": {
    "id": "ccb5de08"
   },
   "outputs": [],
   "source": [
    "from sklearn.svm import SVR\n",
    "Algorithm.append('SupportVectorRegression')\n",
    "regressor = SVR()\n",
    "regressor.fit(X_train, y_train)\n",
    "predicted= regressor.predict(X_test)\n",
    "predicted_train= regressor.predict(X_train)"
   ]
  },
  {
   "cell_type": "code",
   "execution_count": null,
   "id": "226f358f",
   "metadata": {},
   "outputs": [],
   "source": [
    "predicted"
   ]
  },
  {
   "cell_type": "code",
   "execution_count": null,
   "id": "24356bf8",
   "metadata": {},
   "outputs": [],
   "source": [
    "x=pd.DataFrame(predicted,columns=['avg_delay'])"
   ]
  },
  {
   "cell_type": "code",
   "execution_count": null,
   "id": "1d9781a9",
   "metadata": {},
   "outputs": [],
   "source": [
    "x.columns"
   ]
  },
  {
   "cell_type": "code",
   "execution_count": null,
   "id": "9c539852",
   "metadata": {},
   "outputs": [],
   "source": [
    "plt.figure(figsize=(15,7))\n",
    "fig=sns.regplot(predicted_train,y_train,color='blue',marker='D')\n",
    "fig.set(title='SVR Model on Train Data',xlabel='Predicted Delay',ylabel='Actual Delay')"
   ]
  },
  {
   "cell_type": "code",
   "execution_count": null,
   "id": "b7d0bbc5",
   "metadata": {},
   "outputs": [],
   "source": [
    "plt.figure(figsize=(15,7))\n",
    "fig=sns.regplot(predicted,y_test,color='green',marker='D')\n",
    "fig.set(title='SVR Model on Test Data',xlabel='Predicted Delay',ylabel='Actual Delay')"
   ]
  },
  {
   "cell_type": "markdown",
   "id": "zz9kcrViYt7e",
   "metadata": {
    "id": "zz9kcrViYt7e"
   },
   "source": [
    "### Check for the \n",
    "\n",
    "- Mean Square Error\n",
    "- R Square Error \n",
    "\n",
    "for \"y_test\" and \"predicted\" dataset and store those data inside respective list for comparison "
   ]
  },
  {
   "cell_type": "code",
   "execution_count": null,
   "id": "5bb9db76",
   "metadata": {
    "id": "5bb9db76"
   },
   "outputs": [],
   "source": [
    "MSE_Score.append(mean_squared_error(y_test, predicted))\n",
    "R2_Score.append(r2_score(y_test, predicted))"
   ]
  },
  {
   "cell_type": "code",
   "execution_count": null,
   "id": "64e9975a",
   "metadata": {},
   "outputs": [],
   "source": [
    "Huber_Score = huber_fn(y_test, x)"
   ]
  },
  {
   "cell_type": "code",
   "execution_count": null,
   "id": "c4e59d93",
   "metadata": {},
   "outputs": [],
   "source": [
    "Huber_Loss.append(Huber_Score[0])"
   ]
  },
  {
   "cell_type": "code",
   "execution_count": null,
   "id": "cd32a91e",
   "metadata": {},
   "outputs": [],
   "source": [
    "Huber_Loss"
   ]
  },
  {
   "cell_type": "code",
   "execution_count": null,
   "id": "70784473",
   "metadata": {},
   "outputs": [],
   "source": [
    "Quantile_Score = quantile_loss(y_test, x,0.5)"
   ]
  },
  {
   "cell_type": "code",
   "execution_count": null,
   "id": "63d26bc7",
   "metadata": {},
   "outputs": [],
   "source": [
    "Quantile_Score[0]"
   ]
  },
  {
   "cell_type": "code",
   "execution_count": null,
   "id": "f952db8f",
   "metadata": {},
   "outputs": [],
   "source": [
    "Quantile_Loss.append(Quantile_Score[0])"
   ]
  },
  {
   "cell_type": "code",
   "execution_count": null,
   "id": "d6ee71b1",
   "metadata": {
    "id": "d6ee71b1"
   },
   "outputs": [],
   "source": [
    "predict_test= regressor.predict(X_val)\n",
    "mean_squared_error(y_val, predict_test, squared=False)"
   ]
  },
  {
   "cell_type": "markdown",
   "id": "eGcqS5EcY4BI",
   "metadata": {
    "id": "eGcqS5EcY4BI"
   },
   "source": [
    "### Display The Comparison Lists"
   ]
  },
  {
   "cell_type": "code",
   "execution_count": null,
   "id": "aa72c1ec",
   "metadata": {
    "id": "aa72c1ec"
   },
   "outputs": [],
   "source": [
    "for i in Algorithm, MSE_Score, R2_Score, Huber_Loss, Quantile_Loss:\n",
    "    print(i,end=',')"
   ]
  },
  {
   "cell_type": "markdown",
   "id": "dad18bb3",
   "metadata": {
    "id": "dad18bb3"
   },
   "source": [
    "### Your next model would be Decision Tree Regression\n",
    "\n",
    "- Step 1 : Call the Decision Tree Regressor from sklearn library\n",
    "- Step 2 : make an object of Decision Tree\n",
    "- Step 3 : fit the X_train and y_train dataframe into the object \n",
    "- Step 4 : Predict the output by passing the X_test Dataset into predict function\n",
    "\n",
    "\n",
    "\n",
    "\n",
    "- Note - Append the Algorithm name into the algorithm list for tracking purpose"
   ]
  },
  {
   "cell_type": "code",
   "execution_count": null,
   "id": "1b6a51eb",
   "metadata": {
    "id": "1b6a51eb"
   },
   "outputs": [],
   "source": [
    "from sklearn.tree import DecisionTreeRegressor\n",
    "Algorithm.append('DecisionTreeRegressor')\n",
    "regressor = DecisionTreeRegressor()\n",
    "regressor.fit(X_train, y_train)\n",
    "predicted = regressor.predict(X_test)\n",
    "predicted_train = regressor.predict(X_train)"
   ]
  },
  {
   "cell_type": "markdown",
   "id": "AOzfgfeOZo3F",
   "metadata": {
    "id": "AOzfgfeOZo3F"
   },
   "source": [
    "### Check for the \n",
    "\n",
    "- Mean Square Error\n",
    "- R Square Error \n",
    "\n",
    "for y_test and predicted dataset and store those data inside respective list for comparison "
   ]
  },
  {
   "cell_type": "code",
   "execution_count": null,
   "id": "776e6983",
   "metadata": {
    "id": "776e6983"
   },
   "outputs": [],
   "source": [
    "MSE_Score.append(mean_squared_error(y_test, predicted))\n",
    "R2_Score.append(r2_score(y_test, predicted))"
   ]
  },
  {
   "cell_type": "code",
   "execution_count": null,
   "id": "7495e62b",
   "metadata": {},
   "outputs": [],
   "source": [
    "x=pd.DataFrame(predicted,columns=['avg_delay'])"
   ]
  },
  {
   "cell_type": "code",
   "execution_count": null,
   "id": "6680b576",
   "metadata": {},
   "outputs": [],
   "source": [
    "Huber_Score = huber_fn(y_test, x)"
   ]
  },
  {
   "cell_type": "code",
   "execution_count": null,
   "id": "ec5ac002",
   "metadata": {},
   "outputs": [],
   "source": [
    "Huber_Loss.append(Huber_Score[0])"
   ]
  },
  {
   "cell_type": "code",
   "execution_count": null,
   "id": "9408ed4d",
   "metadata": {},
   "outputs": [],
   "source": [
    "Huber_Loss"
   ]
  },
  {
   "cell_type": "code",
   "execution_count": null,
   "id": "6ccc8954",
   "metadata": {},
   "outputs": [],
   "source": [
    "Quantile_Score = quantile_loss(y_test, x,0.5)"
   ]
  },
  {
   "cell_type": "code",
   "execution_count": null,
   "id": "4bd1ae52",
   "metadata": {},
   "outputs": [],
   "source": [
    "Quantile_Score[0]"
   ]
  },
  {
   "cell_type": "code",
   "execution_count": null,
   "id": "ab9a3036",
   "metadata": {},
   "outputs": [],
   "source": [
    "Quantile_Loss.append(Quantile_Score[0])"
   ]
  },
  {
   "cell_type": "code",
   "execution_count": null,
   "id": "25e9e01b",
   "metadata": {},
   "outputs": [],
   "source": [
    "plt.figure(figsize=(15,7))\n",
    "fig=sns.regplot(predicted_train,y_train,color='blue',marker='D')\n",
    "fig.set(title='Decision Tree Regression Model on Train Data',xlabel='Predicted Delay',ylabel='Actual Delay')"
   ]
  },
  {
   "cell_type": "code",
   "execution_count": null,
   "id": "75b4192b",
   "metadata": {},
   "outputs": [],
   "source": [
    "plt.figure(figsize=(15,7))\n",
    "fig=sns.regplot(predicted,y_test,color='green',marker='D')\n",
    "fig.set(title='Decision Tree Regression Model on Test Data',xlabel='Predicted Delay',ylabel='Actual Delay')"
   ]
  },
  {
   "cell_type": "markdown",
   "id": "eI6d49DQZrhW",
   "metadata": {
    "id": "eI6d49DQZrhW"
   },
   "source": [
    "### Check the same for the Validation set also "
   ]
  },
  {
   "cell_type": "code",
   "execution_count": null,
   "id": "155fb55c",
   "metadata": {
    "id": "155fb55c"
   },
   "outputs": [],
   "source": [
    "predict_test= regressor.predict(X_val)\n",
    "mean_squared_error(y_val, predict_test, squared=False)"
   ]
  },
  {
   "cell_type": "markdown",
   "id": "sbGXvBLQZw5E",
   "metadata": {
    "id": "sbGXvBLQZw5E"
   },
   "source": [
    "### Display The Comparison Lists"
   ]
  },
  {
   "cell_type": "code",
   "execution_count": null,
   "id": "1d74d515",
   "metadata": {
    "id": "1d74d515"
   },
   "outputs": [],
   "source": [
    "for i in Algorithm, MSE_Score, R2_Score,Huber_Loss, Quantile_Loss:\n",
    "    print(i,end=',')"
   ]
  },
  {
   "cell_type": "markdown",
   "id": "4ae9979b",
   "metadata": {
    "id": "4ae9979b"
   },
   "source": [
    "### Your next model would be Random Forest Regression\n",
    "\n",
    "- Step 1 : Call the Random Forest Regressor from sklearn library\n",
    "- Step 2 : make an object of Random Forest\n",
    "- Step 3 : fit the X_train and y_train dataframe into the object \n",
    "- Step 4 : Predict the output by passing the X_test Dataset into predict function\n",
    "\n",
    "\n",
    "\n",
    "\n",
    "- Note - Append the Algorithm name into the algorithm list for tracking purpose"
   ]
  },
  {
   "cell_type": "code",
   "execution_count": null,
   "id": "a69e476a",
   "metadata": {
    "id": "a69e476a"
   },
   "outputs": [],
   "source": [
    "from sklearn.ensemble import RandomForestRegressor\n",
    "Algorithm.append('RandomForestRegressor')\n",
    "regressor = RandomForestRegressor()\n",
    "regressor.fit(X_train, y_train)\n",
    "predicted = regressor.predict(X_test)\n",
    "predicted_train = regressor.predict(X_train)"
   ]
  },
  {
   "cell_type": "markdown",
   "id": "XNcEJF-6anof",
   "metadata": {
    "id": "XNcEJF-6anof"
   },
   "source": [
    "### Check for the \n",
    "\n",
    "- Mean Square Error\n",
    "- R Square Error \n",
    "\n",
    "for y_test and predicted dataset and store those data inside respective list for comparison "
   ]
  },
  {
   "cell_type": "code",
   "execution_count": null,
   "id": "826f63f4",
   "metadata": {
    "id": "826f63f4"
   },
   "outputs": [],
   "source": [
    "MSE_Score.append(mean_squared_error(y_test, predicted))\n",
    "R2_Score.append(r2_score(y_test, predicted))"
   ]
  },
  {
   "cell_type": "code",
   "execution_count": null,
   "id": "ab335d00",
   "metadata": {},
   "outputs": [],
   "source": [
    "x=pd.DataFrame(predicted,columns=['avg_delay'])"
   ]
  },
  {
   "cell_type": "code",
   "execution_count": null,
   "id": "cf53237e",
   "metadata": {},
   "outputs": [],
   "source": [
    "Huber_Score = huber_fn(y_test, x)"
   ]
  },
  {
   "cell_type": "code",
   "execution_count": null,
   "id": "05fd2871",
   "metadata": {},
   "outputs": [],
   "source": [
    "Huber_Loss.append(Huber_Score[0])"
   ]
  },
  {
   "cell_type": "code",
   "execution_count": null,
   "id": "578e6812",
   "metadata": {},
   "outputs": [],
   "source": [
    "Huber_Loss"
   ]
  },
  {
   "cell_type": "code",
   "execution_count": null,
   "id": "ea512484",
   "metadata": {},
   "outputs": [],
   "source": [
    "Quantile_Score = quantile_loss(y_test, x,0.5)"
   ]
  },
  {
   "cell_type": "code",
   "execution_count": null,
   "id": "2ddcc0c4",
   "metadata": {},
   "outputs": [],
   "source": [
    "Quantile_Score[0]"
   ]
  },
  {
   "cell_type": "code",
   "execution_count": null,
   "id": "a68ec4fa",
   "metadata": {},
   "outputs": [],
   "source": [
    "Quantile_Loss.append(Quantile_Score[0])"
   ]
  },
  {
   "cell_type": "code",
   "execution_count": null,
   "id": "de15bb0a",
   "metadata": {},
   "outputs": [],
   "source": [
    "plt.figure(figsize=(15,7))\n",
    "fig=sns.regplot(predicted_train,y_train,color='blue',marker='D')\n",
    "fig.set(title='Random Forest Regression Model on Train Data',xlabel='Predicted Delay',ylabel='Actual Delay')"
   ]
  },
  {
   "cell_type": "code",
   "execution_count": null,
   "id": "41a893df",
   "metadata": {},
   "outputs": [],
   "source": [
    "plt.figure(figsize=(15,7))\n",
    "fig=sns.regplot(predicted,y_test,color='green',marker='D')\n",
    "fig.set(title='Random Forest Regression Model on Test Data',xlabel='Predicted Delay',ylabel='Actual Delay')"
   ]
  },
  {
   "cell_type": "markdown",
   "id": "yMbyr9V4ati1",
   "metadata": {
    "id": "yMbyr9V4ati1"
   },
   "source": [
    "### Check the same for the Validation set also "
   ]
  },
  {
   "cell_type": "code",
   "execution_count": null,
   "id": "55b9fb54",
   "metadata": {
    "id": "55b9fb54"
   },
   "outputs": [],
   "source": [
    "predict_test= regressor.predict(X_val)\n",
    "mean_squared_error(y_val, predict_test, squared=False)"
   ]
  },
  {
   "cell_type": "markdown",
   "id": "tiBawcCsaw_Z",
   "metadata": {
    "id": "tiBawcCsaw_Z"
   },
   "source": [
    "### Display The Comparison Lists\n"
   ]
  },
  {
   "cell_type": "code",
   "execution_count": null,
   "id": "8277c13e",
   "metadata": {
    "id": "8277c13e"
   },
   "outputs": [],
   "source": [
    "for i in Algorithm, MSE_Score, R2_Score, Huber_Loss,Quantile_Loss:\n",
    "    print(i,end=',')"
   ]
  },
  {
   "cell_type": "markdown",
   "id": "e6b21881",
   "metadata": {
    "id": "e6b21881"
   },
   "source": [
    "### The last but not the least model would be XGBoost or Extreme Gradient Boost Regression\n",
    "\n",
    "- Step 1 : Call the XGBoost Regressor from xgb library\n",
    "- Step 2 : make an object of Xgboost\n",
    "- Step 3 : fit the X_train and y_train dataframe into the object \n",
    "- Step 4 : Predict the output by passing the X_test Dataset into predict function\n",
    "\n",
    "\n",
    "\n",
    "\n",
    "- Note - Append the Algorithm name into the algorithm list for tracking purpose### Extreme Gradient Boost Regression\n",
    "- Note -  No need to change the code "
   ]
  },
  {
   "cell_type": "code",
   "execution_count": null,
   "id": "705a38ec",
   "metadata": {
    "id": "705a38ec"
   },
   "outputs": [],
   "source": [
    "import xgboost as xgb\n",
    "Algorithm.append('XGB Regressor')\n",
    "regressor = xgb.XGBRegressor()\n",
    "regressor.fit(X_train, y_train)\n",
    "predicted = regressor.predict(X_test)\n",
    "predicted_train = regressor.predict(X_train)"
   ]
  },
  {
   "cell_type": "markdown",
   "id": "ierNZkb9bQDD",
   "metadata": {
    "id": "ierNZkb9bQDD"
   },
   "source": [
    "### Check for the \n",
    "\n",
    "- Mean Square Error\n",
    "- R Square Error \n",
    "\n",
    "for y_test and predicted dataset and store those data inside respective list for comparison "
   ]
  },
  {
   "cell_type": "code",
   "execution_count": null,
   "id": "507a9d2f",
   "metadata": {
    "id": "507a9d2f"
   },
   "outputs": [],
   "source": [
    "MSE_Score.append(mean_squared_error(y_test, predicted))\n",
    "R2_Score.append(r2_score(y_test, predicted))"
   ]
  },
  {
   "cell_type": "code",
   "execution_count": null,
   "id": "45af67fd",
   "metadata": {},
   "outputs": [],
   "source": [
    "x=pd.DataFrame(predicted,columns=['avg_delay'])"
   ]
  },
  {
   "cell_type": "code",
   "execution_count": null,
   "id": "ccb27a35",
   "metadata": {},
   "outputs": [],
   "source": [
    "Huber_Score = huber_fn(y_test, x)"
   ]
  },
  {
   "cell_type": "code",
   "execution_count": null,
   "id": "bc1b40a0",
   "metadata": {},
   "outputs": [],
   "source": [
    "Huber_Loss.append(Huber_Score[0])"
   ]
  },
  {
   "cell_type": "code",
   "execution_count": null,
   "id": "c33f6ec6",
   "metadata": {},
   "outputs": [],
   "source": [
    "Huber_Loss"
   ]
  },
  {
   "cell_type": "code",
   "execution_count": null,
   "id": "1a7509c1",
   "metadata": {},
   "outputs": [],
   "source": [
    "Quantile_Score = quantile_loss(y_test, x,0.5)"
   ]
  },
  {
   "cell_type": "code",
   "execution_count": null,
   "id": "8c1a7e39",
   "metadata": {},
   "outputs": [],
   "source": [
    "Quantile_Score[0]"
   ]
  },
  {
   "cell_type": "code",
   "execution_count": null,
   "id": "d57c8724",
   "metadata": {},
   "outputs": [],
   "source": [
    "Quantile_Loss.append(Quantile_Score[0])"
   ]
  },
  {
   "cell_type": "code",
   "execution_count": null,
   "id": "7e7d5533",
   "metadata": {},
   "outputs": [],
   "source": [
    "plt.figure(figsize=(15,7))\n",
    "fig=sns.regplot(predicted_train,y_train,color='blue',marker='D')\n",
    "fig.set(title='XGBoost Regression Model on Train Data',xlabel='Predicted Delay',ylabel='Actual Delay')"
   ]
  },
  {
   "cell_type": "code",
   "execution_count": null,
   "id": "ca496493",
   "metadata": {},
   "outputs": [],
   "source": [
    "plt.figure(figsize=(15,7))\n",
    "fig=sns.regplot(predicted,y_test,color='green',marker='D')\n",
    "fig.set(title='XGBoost Regression Model on Test Data',xlabel='Predicted Delay',ylabel='Actual Delay')"
   ]
  },
  {
   "cell_type": "markdown",
   "id": "84UZ2ojsbWaH",
   "metadata": {
    "id": "84UZ2ojsbWaH"
   },
   "source": [
    "### Check the same for the Validation set also "
   ]
  },
  {
   "cell_type": "code",
   "execution_count": null,
   "id": "e78ac250",
   "metadata": {
    "id": "e78ac250"
   },
   "outputs": [],
   "source": [
    "predict_test= regressor.predict(X_val)\n",
    "mean_squared_error(y_val, predict_test, squared=False)"
   ]
  },
  {
   "cell_type": "markdown",
   "id": "9FJFyaVbbbAH",
   "metadata": {
    "id": "9FJFyaVbbbAH"
   },
   "source": [
    "### Display The Comparison Lists\n"
   ]
  },
  {
   "cell_type": "code",
   "execution_count": null,
   "id": "f765ba35",
   "metadata": {
    "id": "f765ba35"
   },
   "outputs": [],
   "source": [
    "for i in Algorithm, MSE_Score, R2_Score,Quantile_Loss:\n",
    "    print(i,end=',')"
   ]
  },
  {
   "cell_type": "markdown",
   "id": "a71bc90f",
   "metadata": {
    "id": "a71bc90f"
   },
   "source": [
    "## You need to make the comparison list into a comparison dataframe "
   ]
  },
  {
   "cell_type": "code",
   "execution_count": null,
   "id": "ff5159a7",
   "metadata": {
    "id": "ff5159a7"
   },
   "outputs": [],
   "source": [
    "Comparison = pd.DataFrame(list(zip(Algorithm, MSE_Score, R2_Score, Huber_Loss,Quantile_Loss)), columns = ['Algorithm', 'MSE_Score', 'R2_Score', 'Huber_Loss','Quantile_Loss']).astype('str')\n",
    "Comparison"
   ]
  },
  {
   "cell_type": "markdown",
   "id": "62e61c60",
   "metadata": {
    "id": "62e61c60"
   },
   "source": [
    "## Now from the Comparison table, you need to choose the best fit model\n",
    "\n",
    "- Step 1 - Fit X_train and y_train inside the model \n",
    "- Step 2 - Predict the X_test dataset\n",
    "- Step 3 - Predict the X_val dataset\n",
    "\n",
    "\n",
    "- Note - No need to change the code"
   ]
  },
  {
   "cell_type": "code",
   "execution_count": null,
   "id": "3e07c258",
   "metadata": {
    "id": "3e07c258"
   },
   "outputs": [],
   "source": [
    "regressorfinal = xgb.XGBRegressor()\n",
    "regressorfinal.fit(X_train, y_train)\n",
    "predictedfinal = regressorfinal.predict(X_test)\n",
    "predict_testfinal = regressorfinal.predict(X_val)"
   ]
  },
  {
   "cell_type": "markdown",
   "id": "8e4df6c4",
   "metadata": {
    "id": "8e4df6c4"
   },
   "source": [
    "### Calculate the Mean Square Error for test dataset\n",
    "\n",
    "- Note - No need to change the code"
   ]
  },
  {
   "cell_type": "code",
   "execution_count": null,
   "id": "5fb466d0",
   "metadata": {
    "id": "5fb466d0"
   },
   "outputs": [],
   "source": [
    "mean_squared_error(y_test,predictedfinal,squared=False)"
   ]
  },
  {
   "cell_type": "markdown",
   "id": "ce27f87f",
   "metadata": {
    "id": "ce27f87f"
   },
   "source": [
    "### Calculate the mean Square Error for validation dataset"
   ]
  },
  {
   "cell_type": "code",
   "execution_count": null,
   "id": "b47978ea",
   "metadata": {
    "id": "b47978ea"
   },
   "outputs": [],
   "source": [
    "mean_squared_error(y_val,predict_testfinal,squared=False)"
   ]
  },
  {
   "cell_type": "markdown",
   "id": "30014dbd",
   "metadata": {
    "id": "30014dbd"
   },
   "source": [
    "### Calculate the R2 score for test"
   ]
  },
  {
   "cell_type": "code",
   "execution_count": null,
   "id": "8a162737",
   "metadata": {
    "id": "8a162737"
   },
   "outputs": [],
   "source": [
    "r2_score(y_test, predictedfinal)"
   ]
  },
  {
   "cell_type": "markdown",
   "id": "1c9853b0",
   "metadata": {
    "id": "1c9853b0"
   },
   "source": [
    "### Calculate the R2 score for Validation"
   ]
  },
  {
   "cell_type": "code",
   "execution_count": null,
   "id": "1a6dc77c",
   "metadata": {
    "id": "1a6dc77c"
   },
   "outputs": [],
   "source": [
    "r2_score(y_val, predict_testfinal)"
   ]
  },
  {
   "cell_type": "markdown",
   "id": "499522d9",
   "metadata": {
    "id": "499522d9"
   },
   "source": [
    "### Calculate the Accuracy for train Dataset "
   ]
  },
  {
   "cell_type": "code",
   "execution_count": null,
   "id": "7a4f1ce8",
   "metadata": {
    "id": "7a4f1ce8"
   },
   "outputs": [],
   "source": [
    "regressor = xgb.XGBRegressor()\n",
    "regressor.fit(X_train, y_train)\n",
    "xgboost_model_accuracy = round(regressor.score(X_train, y_train)*100,2)\n",
    "print(round(xgboost_model_accuracy,2))"
   ]
  },
  {
   "cell_type": "markdown",
   "id": "12a1c921",
   "metadata": {
    "id": "12a1c921"
   },
   "source": [
    "### Calculate the accuracy for validation"
   ]
  },
  {
   "cell_type": "code",
   "execution_count": null,
   "id": "d2579b4f",
   "metadata": {
    "id": "d2579b4f"
   },
   "outputs": [],
   "source": [
    "regressor = xgb.XGBRegressor()\n",
    "regressor.fit(X_val, y_val)\n",
    "xgboost_model_accuracy = round(regressor.score(X_val, y_val)*100,2)\n",
    "print(round(xgboost_model_accuracy,2))"
   ]
  },
  {
   "cell_type": "markdown",
   "id": "79b82e84",
   "metadata": {
    "id": "79b82e84"
   },
   "source": [
    "### Calculate the accuracy for test"
   ]
  },
  {
   "cell_type": "code",
   "execution_count": null,
   "id": "f09e6431",
   "metadata": {
    "id": "f09e6431"
   },
   "outputs": [],
   "source": [
    "regressor = xgb.XGBRegressor()\n",
    "regressor.fit(X_test, y_test)\n",
    "xgboost_model_accuracy = round(regressor.score(X_test, y_test)*100,2)\n",
    "print(round(xgboost_model_accuracy,2))"
   ]
  },
  {
   "cell_type": "markdown",
   "id": "9488a5d9",
   "metadata": {
    "id": "9488a5d9"
   },
   "source": [
    "## Specify the reason behind choosing your machine learning model \n",
    "\n",
    "XGBOOST has got the least MSE_Score."
   ]
  },
  {
   "cell_type": "markdown",
   "id": "387a6519",
   "metadata": {
    "id": "387a6519"
   },
   "source": [
    "## Now you need to pass the Nulldata dataframe into this machine learning model\n",
    "\n",
    "#### In order to pass this Nulldata dataframe into the ML model, we need to perform the following\n",
    "\n",
    "- Step 1 : Label Encoding \n",
    "- Step 2 : Day, Month and Year extraction \n",
    "- Step 3 : Change all the column data type into int64 or float64\n",
    "- Step 4 : Need to drop the useless columns "
   ]
  },
  {
   "cell_type": "markdown",
   "id": "I7JuxAkdiAdI",
   "metadata": {
    "id": "I7JuxAkdiAdI"
   },
   "source": [
    "### Display the Nulldata "
   ]
  },
  {
   "cell_type": "code",
   "execution_count": null,
   "id": "6d6a51d2",
   "metadata": {
    "id": "6d6a51d2"
   },
   "outputs": [],
   "source": [
    "nulldata"
   ]
  },
  {
   "cell_type": "markdown",
   "id": "Vamx5xqtiHCH",
   "metadata": {
    "id": "Vamx5xqtiHCH"
   },
   "source": [
    "### Check for the number of rows and columns in the nulldata"
   ]
  },
  {
   "cell_type": "code",
   "execution_count": null,
   "id": "59de1092",
   "metadata": {
    "id": "59de1092"
   },
   "outputs": [],
   "source": [
    "nulldata.shape"
   ]
  },
  {
   "cell_type": "markdown",
   "id": "BxzHNbBjpqXL",
   "metadata": {
    "id": "BxzHNbBjpqXL"
   },
   "source": [
    "### Check the Description and Information of the nulldata "
   ]
  },
  {
   "cell_type": "code",
   "execution_count": null,
   "id": "a6294d29",
   "metadata": {
    "id": "a6294d29"
   },
   "outputs": [],
   "source": [
    "print(nulldata.describe())\n",
    "nulldata.info()"
   ]
  },
  {
   "cell_type": "markdown",
   "id": "fe860d94",
   "metadata": {
    "id": "fe860d94"
   },
   "source": [
    "### Storing the Nulldata into a different dataset \n",
    "# for BACKUP"
   ]
  },
  {
   "cell_type": "code",
   "execution_count": null,
   "id": "16352034",
   "metadata": {
    "id": "16352034"
   },
   "outputs": [],
   "source": [
    "nulldata1=nulldata.copy(deep=True)"
   ]
  },
  {
   "cell_type": "markdown",
   "id": "00f35b8c",
   "metadata": {
    "id": "00f35b8c"
   },
   "source": [
    "### Call the Label Encoder for Nulldata\n",
    "\n",
    "- Note - you are expected to fit \"business_code\" as it is a categorical variable\n",
    "- Note - No need to change the code"
   ]
  },
  {
   "cell_type": "code",
   "execution_count": null,
   "id": "baf04b17",
   "metadata": {
    "id": "baf04b17"
   },
   "outputs": [],
   "source": [
    "from sklearn.preprocessing import LabelEncoder\n",
    "business_codern = LabelEncoder()\n",
    "business_codern.fit(nulldata['business_code'])\n",
    "nulldata['business_code_enc'] = business_codern.transform(nulldata['business_code'])"
   ]
  },
  {
   "cell_type": "markdown",
   "id": "ZCPBK9karIR-",
   "metadata": {
    "id": "ZCPBK9karIR-"
   },
   "source": [
    "### Now you need to manually replacing str values with numbers\n",
    "- Note - No need to change the code"
   ]
  },
  {
   "cell_type": "code",
   "execution_count": null,
   "id": "c64924be",
   "metadata": {
    "id": "c64924be"
   },
   "outputs": [],
   "source": [
    "nulldata['cust_number'] = nulldata['cust_number'].str.replace('CCCA',\"1\").str.replace('CCU',\"2\").str.replace('CC',\"3\").astype(int)"
   ]
  },
  {
   "cell_type": "markdown",
   "id": "9a55f5f6",
   "metadata": {
    "id": "9a55f5f6"
   },
   "source": [
    "## You need to extract day, month and year from the \"clear_date\", \"posting_date\", \"due_in_date\", \"baseline_create_date\" columns\n",
    "\n",
    "\n",
    "##### 1.   Extract day from \"clear_date\" column and store it into 'day_of_cleardate'\n",
    "##### 2.   Extract month from \"clear_date\" column and store it into 'month_of_cleardate'\n",
    "##### 3.   Extract year from \"clear_date\" column and store it into 'year_of_cleardate'\n",
    "\n",
    "\n",
    "\n",
    "##### 4.   Extract day from \"posting_date\" column and store it into 'day_of_postingdate'\n",
    "##### 5.   Extract month from \"posting_date\" column and store it into 'month_of_postingdate'\n",
    "##### 6.   Extract year from \"posting_date\" column and store it into 'year_of_postingdate'\n",
    "\n",
    "\n",
    "\n",
    "\n",
    "##### 7.   Extract day from \"due_in_date\" column and store it into 'day_of_due'\n",
    "##### 8.   Extract month from \"due_in_date\" column and store it into 'month_of_due'\n",
    "##### 9.   Extract year from \"due_in_date\" column and store it into 'year_of_due'\n",
    "\n",
    "\n",
    "\n",
    "\n",
    "##### 10.   Extract day from \"baseline_create_date\" column and store it into 'day_of_createdate'\n",
    "##### 11.   Extract month from \"baseline_create_date\" column and store it into 'month_of_createdate'\n",
    "##### 12.   Extract year from \"baseline_create_date\" column and store it into 'year_of_createdate'\n",
    "\n",
    "\n",
    "\n",
    "\n",
    "- Note - You are supposed To use - \n",
    "\n",
    "*   dt.day\n",
    "*   dt.month\n",
    "*   dt.year"
   ]
  },
  {
   "cell_type": "code",
   "execution_count": null,
   "id": "4166fbe4",
   "metadata": {
    "id": "4166fbe4"
   },
   "outputs": [],
   "source": [
    "nulldata['day_of_cleardate'] = nulldata['clear_date'].dt.day\n",
    "nulldata['month_of_cleardate'] = nulldata['clear_date'].dt.month\n",
    "nulldata['year_of_cleardate'] = nulldata['clear_date'].dt.year\n",
    "\n",
    "nulldata['day_of_postingdate'] =nulldata['posting_date'].dt.day\n",
    "nulldata['month_of_postingdate'] = nulldata['posting_date'].dt.month\n",
    "nulldata['year_of_postingdate'] = nulldata['posting_date'].dt.year\n",
    "\n",
    "\n",
    "nulldata['day_of_due'] = nulldata['due_in_date'].dt.day\n",
    "nulldata['month_of_due'] = nulldata['due_in_date'].dt.month\n",
    "nulldata['year_of_due'] = nulldata['due_in_date'].dt.year\n",
    "\n",
    "\n",
    "nulldata['day_of_createdate'] = nulldata['baseline_create_date'].dt.day\n",
    "nulldata['month_of_createdate'] = nulldata['baseline_create_date'].dt.month\n",
    "nulldata['year_of_createdate'] = nulldata['baseline_create_date'].dt.year"
   ]
  },
  {
   "cell_type": "markdown",
   "id": "QeHWJYrAvOC6",
   "metadata": {
    "id": "QeHWJYrAvOC6"
   },
   "source": [
    "### Use Label Encoder1 of all the following columns - \n",
    "- 'cust_payment_terms' and store into 'cust_payment_terms_enc'\n",
    "- 'business_code' and store into 'business_code_enc'\n",
    "- 'name_customer' and store into 'name_customer_enc'\n",
    "\n",
    "Note - No need to change the code"
   ]
  },
  {
   "cell_type": "code",
   "execution_count": null,
   "id": "bac330e2",
   "metadata": {
    "id": "bac330e2"
   },
   "outputs": [],
   "source": [
    "nulldata['cust_payment_terms_enc']=label_encoder1.transform(nulldata['cust_payment_terms'])\n",
    "nulldata['business_code_enc']=label_encoder1.transform(nulldata['business_code'])\n",
    "nulldata['name_customer_enc']=label_encoder.transform(nulldata['name_customer'])"
   ]
  },
  {
   "cell_type": "markdown",
   "id": "zD9I-XqQwC28",
   "metadata": {
    "id": "zD9I-XqQwC28"
   },
   "source": [
    "### Check for the datatypes of all the columns of Nulldata"
   ]
  },
  {
   "cell_type": "code",
   "execution_count": null,
   "id": "d4f72517",
   "metadata": {
    "id": "d4f72517"
   },
   "outputs": [],
   "source": [
    "nulldata.dtypes"
   ]
  },
  {
   "cell_type": "markdown",
   "id": "17cd5452",
   "metadata": {
    "id": "17cd5452"
   },
   "source": [
    "### Now you need to drop all the unnecessary columns - \n",
    "\n",
    "- 'business_code'\n",
    "- \"baseline_create_date\"\n",
    "- \"due_in_date\"\n",
    "- \"posting_date\"\n",
    "- \"name_customer\"\n",
    "- \"clear_date\"\n",
    "- \"cust_payment_terms\"\n",
    "- 'day_of_cleardate'\n",
    "- \"month_of_cleardate\"\n",
    "- \"year_of_cleardate\""
   ]
  },
  {
   "cell_type": "code",
   "execution_count": null,
   "id": "d7c82076",
   "metadata": {
    "id": "d7c82076"
   },
   "outputs": [],
   "source": [
    "nulldata.drop(columns=['business_code', 'baseline_create_date', 'posting_date', 'name_customer', 'clear_date', 'cust_payment_terms', 'day_of_cleardate', 'month_of_cleardate', 'year_of_cleardate'], inplace=True)"
   ]
  },
  {
   "cell_type": "markdown",
   "id": "Q_NCr9IPweVq",
   "metadata": {
    "id": "Q_NCr9IPweVq"
   },
   "source": [
    "### Check the information of the \"nulldata\" dataframe"
   ]
  },
  {
   "cell_type": "code",
   "execution_count": null,
   "id": "4e7ffee0",
   "metadata": {
    "id": "4e7ffee0"
   },
   "outputs": [],
   "source": [
    "nulldata.info()"
   ]
  },
  {
   "cell_type": "markdown",
   "id": "-XvjhWqmwi-C",
   "metadata": {
    "id": "-XvjhWqmwi-C"
   },
   "source": [
    "### Compare \"nulldata\" with the \"X_test\" dataframe \n",
    "\n",
    "- use info() method"
   ]
  },
  {
   "cell_type": "code",
   "execution_count": null,
   "id": "02f4b62d",
   "metadata": {
    "id": "02f4b62d"
   },
   "outputs": [],
   "source": [
    "print(X_test.info())\n",
    "nulldata.info()"
   ]
  },
  {
   "cell_type": "markdown",
   "id": "Us3ey-9zwqjq",
   "metadata": {
    "id": "Us3ey-9zwqjq"
   },
   "source": [
    "### You must have noticed that there is a mismatch in the column sequence while compairing the dataframes\n",
    "\n",
    "- Note - In order to fed into the machine learning model, you need to edit the sequence of \"nulldata\", similar to the \"X_test\" dataframe"
   ]
  },
  {
   "cell_type": "markdown",
   "id": "vduVNt1kxPW-",
   "metadata": {
    "id": "vduVNt1kxPW-"
   },
   "source": [
    "- Display all the columns of the X_test dataframe \n",
    "- Display all the columns of the Nulldata dataframe \n",
    "- Store the Nulldata with new sequence into a new dataframe \n",
    "\n",
    "\n",
    "- Note - The code is given below, no need to change "
   ]
  },
  {
   "cell_type": "code",
   "execution_count": null,
   "id": "6729353e",
   "metadata": {
    "id": "6729353e"
   },
   "outputs": [],
   "source": [
    "X_test.columns"
   ]
  },
  {
   "cell_type": "code",
   "execution_count": null,
   "id": "47bd9c5e",
   "metadata": {
    "id": "47bd9c5e"
   },
   "outputs": [],
   "source": [
    "nulldata.columns"
   ]
  },
  {
   "cell_type": "code",
   "execution_count": null,
   "id": "aa5a2103",
   "metadata": {
    "id": "aa5a2103"
   },
   "outputs": [],
   "source": [
    "nulldata2=nulldata[['cust_number', 'buisness_year', 'doc_id', 'converted_usd',\n",
    "       'business_code_enc', 'name_customer_enc', 'cust_payment_terms_enc',\n",
    "       'day_of_postingdate', 'month_of_postingdate', 'year_of_postingdate',\n",
    "       'day_of_createdate', 'month_of_createdate', 'year_of_createdate',\n",
    "       'day_of_due', 'month_of_due', 'year_of_due']]"
   ]
  },
  {
   "cell_type": "markdown",
   "id": "1dc8b021",
   "metadata": {
    "id": "1dc8b021"
   },
   "source": [
    "### Display the Final Dataset"
   ]
  },
  {
   "cell_type": "code",
   "execution_count": null,
   "id": "2f39785a",
   "metadata": {
    "id": "2f39785a"
   },
   "outputs": [],
   "source": [
    "nulldata2"
   ]
  },
  {
   "cell_type": "markdown",
   "id": "27b88c5a",
   "metadata": {
    "id": "27b88c5a"
   },
   "source": [
    "### Now you can pass this dataset into you final model and store it into \"final_result\""
   ]
  },
  {
   "cell_type": "code",
   "execution_count": null,
   "id": "9e0b6388",
   "metadata": {
    "id": "9e0b6388"
   },
   "outputs": [],
   "source": [
    "regressorfinal = xgb.XGBRegressor()\n",
    "regressorfinal.fit(X_train, y_train)\n",
    "final_result = regressorfinal.predict(nulldata2)"
   ]
  },
  {
   "cell_type": "markdown",
   "id": "9653d3c6",
   "metadata": {
    "id": "9653d3c6"
   },
   "source": [
    "### you need to make the final_result as dataframe, with a column name \"avg_delay\"\n",
    "\n",
    "- Note - No need to change the code"
   ]
  },
  {
   "cell_type": "code",
   "execution_count": null,
   "id": "25ef814d",
   "metadata": {
    "id": "25ef814d"
   },
   "outputs": [],
   "source": [
    "final_result = pd.Series(final_result,name='avg_delay')"
   ]
  },
  {
   "cell_type": "markdown",
   "id": "C86staIhyf2C",
   "metadata": {
    "id": "C86staIhyf2C"
   },
   "source": [
    "### Display the \"avg_delay\" column"
   ]
  },
  {
   "cell_type": "code",
   "execution_count": null,
   "id": "4fd46406",
   "metadata": {
    "id": "4fd46406"
   },
   "outputs": [],
   "source": [
    "final_result"
   ]
  },
  {
   "cell_type": "markdown",
   "id": "44f71a7e",
   "metadata": {
    "id": "44f71a7e"
   },
   "source": [
    "### Now you need to merge this final_result dataframe with the BACKUP of \"nulldata\" Dataframe which we have created in earlier steps"
   ]
  },
  {
   "cell_type": "code",
   "execution_count": null,
   "id": "e8f0969d",
   "metadata": {
    "id": "e8f0969d"
   },
   "outputs": [],
   "source": [
    "nulldata1.reset_index(drop=True,inplace=True)\n",
    "Final = nulldata1.merge(final_result , on = nulldata.index )"
   ]
  },
  {
   "cell_type": "markdown",
   "id": "G-hLtxXgy4GZ",
   "metadata": {
    "id": "G-hLtxXgy4GZ"
   },
   "source": [
    "### Display the \"Final\" dataframe "
   ]
  },
  {
   "cell_type": "code",
   "execution_count": null,
   "id": "71fb4dc0",
   "metadata": {
    "id": "71fb4dc0"
   },
   "outputs": [],
   "source": [
    "Final"
   ]
  },
  {
   "cell_type": "markdown",
   "id": "4sc27Uz-y-0O",
   "metadata": {
    "id": "4sc27Uz-y-0O"
   },
   "source": [
    "### Check for the Number of Rows and Columns in your \"Final\" dataframe "
   ]
  },
  {
   "cell_type": "code",
   "execution_count": null,
   "id": "5iUXOIhzy_HR",
   "metadata": {
    "id": "5iUXOIhzy_HR"
   },
   "outputs": [],
   "source": [
    "Final.shape"
   ]
  },
  {
   "cell_type": "markdown",
   "id": "48886d2c",
   "metadata": {
    "id": "48886d2c"
   },
   "source": [
    "### Now, you need to do convert the below fields back into date and time format \n",
    "\n",
    "- Convert \"due_in_date\" into datetime format\n",
    "- Convert \"avg_delay\" into datetime format\n",
    "- Create a new column \"clear_date\" and store the sum of \"due_in_date\" and \"avg_delay\"\n",
    "- display the new \"clear_date\" column\n",
    "- Note - Code is given below, no need to change "
   ]
  },
  {
   "cell_type": "code",
   "execution_count": null,
   "id": "243abc2d",
   "metadata": {
    "id": "243abc2d"
   },
   "outputs": [],
   "source": [
    "Final['clear_date'] = pd.to_datetime(Final['due_in_date']) + pd.to_timedelta(Final['avg_delay'], unit='s')"
   ]
  },
  {
   "cell_type": "markdown",
   "id": "9QcX_fAjIkYR",
   "metadata": {
    "id": "9QcX_fAjIkYR"
   },
   "source": [
    "### Display the \"clear_date\" column"
   ]
  },
  {
   "cell_type": "code",
   "execution_count": null,
   "id": "740e1486",
   "metadata": {
    "id": "740e1486"
   },
   "outputs": [],
   "source": [
    "Final['clear_date']"
   ]
  },
  {
   "cell_type": "markdown",
   "id": "MSkNLq6-z7rZ",
   "metadata": {
    "id": "MSkNLq6-z7rZ"
   },
   "source": [
    "### Convert the average delay into number of days format \n",
    "\n",
    "- Note - Formula = avg_delay//(24 * 3600)\n",
    "- Note - full code is given for this, no need to change "
   ]
  },
  {
   "cell_type": "code",
   "execution_count": null,
   "id": "ce6b618a",
   "metadata": {
    "id": "ce6b618a"
   },
   "outputs": [],
   "source": [
    "Final['avg_delay'] = Final.apply(lambda row: row.avg_delay//(24 * 3600), axis = 1)"
   ]
  },
  {
   "cell_type": "markdown",
   "id": "wbBBZPjP0W7o",
   "metadata": {
    "id": "wbBBZPjP0W7o"
   },
   "source": [
    "### Display the \"avg_delay\" column "
   ]
  },
  {
   "cell_type": "code",
   "execution_count": null,
   "id": "a494982f",
   "metadata": {
    "id": "a494982f",
    "scrolled": true
   },
   "outputs": [],
   "source": [
    "final_result"
   ]
  },
  {
   "cell_type": "markdown",
   "id": "815d8811",
   "metadata": {
    "id": "815d8811"
   },
   "source": [
    "### Now you need to convert average delay column into bucket\n",
    "\n",
    "- Need to perform binning \n",
    "- create a list of bins i.e. bins= [0,15,30,45,60,100]\n",
    "- create a list of labels i.e. labels = ['0-15','16-30','31-45','46-60','Greatar than 60']\n",
    "- perform binning by using cut() function from \"Final\" dataframe\n",
    "\n",
    "\n",
    "- Please fill up the first two rows of the code"
   ]
  },
  {
   "cell_type": "code",
   "execution_count": null,
   "id": "c797e4b5",
   "metadata": {
    "id": "c797e4b5"
   },
   "outputs": [],
   "source": [
    "bins=  [0,15,30,45,60,100]\n",
    "labels =['0-15','16-30','31-45','46-60','Greatar than 60']\n",
    "Final['Aging Bucket'] = pd.cut(Final['avg_delay'], bins=bins, labels=labels, right=False)"
   ]
  },
  {
   "cell_type": "markdown",
   "id": "1c35725f",
   "metadata": {
    "id": "1c35725f"
   },
   "source": [
    "### Now you need to drop \"key_0\" and \"avg_delay\" columns from the \"Final\" Dataframe"
   ]
  },
  {
   "cell_type": "code",
   "execution_count": null,
   "id": "b31bc6a3",
   "metadata": {
    "id": "b31bc6a3"
   },
   "outputs": [],
   "source": [
    "Final.drop(columns=['key_0', 'avg_delay'], inplace=True)"
   ]
  },
  {
   "cell_type": "markdown",
   "id": "Ui-tyIvU0-5u",
   "metadata": {
    "id": "Ui-tyIvU0-5u"
   },
   "source": [
    "### Display the count of each categoty of new \"Aging Bucket\" column "
   ]
  },
  {
   "cell_type": "code",
   "execution_count": null,
   "id": "a6e16218",
   "metadata": {
    "id": "a6e16218"
   },
   "outputs": [],
   "source": [
    "print(Final['Aging Bucket'].value_counts())"
   ]
  },
  {
   "cell_type": "markdown",
   "id": "kgYegy551GKJ",
   "metadata": {
    "id": "kgYegy551GKJ"
   },
   "source": [
    "### Display your final dataset with aging buckets "
   ]
  },
  {
   "cell_type": "code",
   "execution_count": null,
   "id": "c4bc87ec",
   "metadata": {
    "id": "c4bc87ec"
   },
   "outputs": [],
   "source": [
    "Final"
   ]
  },
  {
   "cell_type": "markdown",
   "id": "Ji7AoDCB1L_x",
   "metadata": {
    "id": "Ji7AoDCB1L_x"
   },
   "source": [
    "### Store this dataframe into the .csv format"
   ]
  },
  {
   "cell_type": "code",
   "execution_count": null,
   "id": "727d0b8d",
   "metadata": {
    "id": "727d0b8d"
   },
   "outputs": [],
   "source": [
    "Final.to_csv(\"HRC20460W_VINAY_RANA.csv\")"
   ]
  },
  {
   "cell_type": "markdown",
   "id": "29930cd4",
   "metadata": {},
   "source": [
    "# END OF THE PROJECT"
   ]
  }
 ],
 "metadata": {
  "colab": {
   "collapsed_sections": [
    "62633a84"
   ],
   "name": "Payment date prediction.ipynb",
   "provenance": []
  },
  "kernelspec": {
   "display_name": "Python 3",
   "language": "python",
   "name": "python3"
  },
  "language_info": {
   "codemirror_mode": {
    "name": "ipython",
    "version": 3
   },
   "file_extension": ".py",
   "mimetype": "text/x-python",
   "name": "python",
   "nbconvert_exporter": "python",
   "pygments_lexer": "ipython3",
   "version": "3.8.8"
  }
 },
 "nbformat": 4,
 "nbformat_minor": 5
}
